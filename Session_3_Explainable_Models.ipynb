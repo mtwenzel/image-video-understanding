{
  "nbformat": 4,
  "nbformat_minor": 0,
  "metadata": {
    "accelerator": "GPU",
    "kernelspec": {
      "display_name": "Python 3",
      "language": "python",
      "name": "python3"
    },
    "language_info": {
      "codemirror_mode": {
        "name": "ipython",
        "version": 3
      },
      "file_extension": ".py",
      "mimetype": "text/x-python",
      "name": "python",
      "nbconvert_exporter": "python",
      "pygments_lexer": "ipython3",
      "version": "3.6.8"
    },
    "livereveal": {
      "auto_select": "code",
      "auto_select_fragment": "code",
      "scroll": true,
      "start_slideshow_at": "selected",
      "theme": "default",
      "transition": "linear"
    },
    "colab": {
      "name": "Session_3_Explainable_Models.ipynb",
      "provenance": [],
      "include_colab_link": true
    }
  },
  "cells": [
    {
      "cell_type": "markdown",
      "metadata": {
        "id": "view-in-github",
        "colab_type": "text"
      },
      "source": [
        "<a href=\"https://colab.research.google.com/github/mtwenzel/image-video-understanding/blob/master/Session_3_Explainable_Models.ipynb\" target=\"_parent\"><img src=\"https://colab.research.google.com/assets/colab-badge.svg\" alt=\"Open In Colab\"/></a>"
      ]
    },
    {
      "cell_type": "markdown",
      "metadata": {
        "id": "TCFVpILFwpw3"
      },
      "source": [
        "# Session 3\n",
        "# Explainable Convolutional Neural Networks\n",
        "\n",
        "<div id=\"toc\"></div>"
      ]
    },
    {
      "cell_type": "markdown",
      "metadata": {
        "id": "q6TlHcltwpw4"
      },
      "source": [
        "## 1. Imports and preparations"
      ]
    },
    {
      "cell_type": "code",
      "metadata": {
        "id": "qmlokGR_wpw5"
      },
      "source": [
        "#@title Imports  { display-mode: \"form\" }\n",
        "#@markdown Import TensorFlow and Tensorflow Probability (TFP). The latter gets you some warnings, but they are not of concern. Also, display GPU information.\n",
        "import tensorflow as tf\n",
        "#tf.enable_eager_execution()\n",
        "\n",
        "from tensorflow.keras.layers import Input, InputLayer, Conv2D, MaxPool2D, Flatten, Dense, UpSampling2D, LocallyConnected2D, SpatialDropout2D, BatchNormalization\n",
        "from tensorflow.keras.models import Model, Sequential\n",
        "import numpy as np\n",
        "import tensorflow.keras.backend as K\n",
        "import tensorflow_probability as tfp\n",
        "tfkl = tf.keras.layers\n",
        "tfd = tfp.distributions\n",
        "\n",
        "from keras.preprocessing import image\n",
        "from keras.preprocessing.image import ImageDataGenerator\n",
        "\n",
        "import matplotlib.pyplot as plt\n",
        "%matplotlib inline\n",
        "\n",
        "from tensorflow.python.client import device_lib\n",
        "# print all devices visible to tensorflow \n",
        "print(device_lib.list_local_devices())"
      ],
      "execution_count": null,
      "outputs": []
    },
    {
      "cell_type": "markdown",
      "metadata": {
        "id": "GzUrmiMpwpw8"
      },
      "source": [
        "## 2. Classification\n",
        "\n",
        "We will this time use a Keras data generator to do data augmentation. It can also take care of splitting the data into training and validation. The test data should be kept independent."
      ]
    },
    {
      "cell_type": "code",
      "metadata": {
        "id": "pjbUSl3Nwpw9"
      },
      "source": [
        "#@title Download and unzip data  { display-mode: \"form\" }\n",
        "#@markdown The data will be downloaded from the Fraunhofer OwnCloud. It is about 150 MB, so it may take a few seconds. Afterwards, the data is unpacked to disk.\n",
        "\n",
        "# importing required modules \n",
        "from zipfile import ZipFile \n",
        "\n",
        "# Download from Fraunhofer OwnCloud\n",
        "!test -e train_val.zip || curl -L \"https://owncloud.fraunhofer.de/index.php/s/vLTCGGJJI8hv3bM/download\" --output train_val.zip\n",
        "file_name = \"train_val.zip\"\n",
        "with ZipFile(file_name, 'r') as zip: \n",
        "    print('Extracting all the files now...') \n",
        "    zip.extractall() \n",
        "    print('Done!')\n",
        "    "
      ],
      "execution_count": null,
      "outputs": []
    },
    {
      "cell_type": "code",
      "metadata": {
        "id": "FGrdzMLKwpxA"
      },
      "source": [
        "#@title Prepare global variables and training data  { display-mode: \"form\" }\n",
        "#@markdown Depending on the GPU memory, set appropriate image size and batch size. The setting below work for a 4 GB Nvidia GTX1060. Colab allows larger batch sizes.\n",
        "train_data_dir = \"train_val/\" #@param {type:\"string\"}\n",
        "batch_size = 6 #@param {type:\"integer\"}\n",
        "target_width = 512 #@param {type:\"integer\"}\n",
        "target_height = 386 #@param {type:\"integer\"}\n",
        "\n",
        "target_size = (target_width, target_height)\n",
        "\n",
        "#@markdown Set data augmentation parameters\n",
        "shear_range = 0.2 #@param {type:\"slider\", min:0.0, max:1.0, step:0.05}\n",
        "zoom_range = 0.2 #@param {type:\"slider\", min:0.0, max:1.0, step:0.05}\n",
        "width_shift_range = 0.2 #@param {type:\"slider\", min:0.0, max:1.0, step:0.05}\n",
        "height_shift_range = 0.2 #@param {type:\"slider\", min:0.0, max:1.0, step:0.05}\n",
        "rotation_range = 10 #@param {type:\"slider\", min:0, max:90, step:5}\n",
        "horizontal_flip = True #@param {type:\"boolean\"}\n",
        "vertical_flip = True #@param {type:\"boolean\"}\n",
        "validation_split = 0.2 #@param {type:\"slider\", min:0.0, max:1.0, step:0.05}\n",
        "\n",
        "train_datagen = ImageDataGenerator(rescale=1./255,\n",
        "    shear_range=shear_range,\n",
        "    zoom_range=zoom_range,\n",
        "    width_shift_range=width_shift_range,\n",
        "    height_shift_range=height_shift_range,\n",
        "    rotation_range=rotation_range,\n",
        "    horizontal_flip=horizontal_flip,\n",
        "    vertical_flip=vertical_flip,\n",
        "    validation_split=validation_split) # set validation split\n",
        "\n",
        "train_generator = train_datagen.flow_from_directory(\n",
        "    train_data_dir,\n",
        "    target_size=target_size,\n",
        "    batch_size=batch_size,\n",
        "    class_mode='categorical',\n",
        "    subset='training') # set as training data\n",
        "\n",
        "validation_generator = train_datagen.flow_from_directory(\n",
        "    train_data_dir, # same directory as training data\n",
        "    target_size=target_size,\n",
        "    batch_size=batch_size,\n",
        "    class_mode='categorical',\n",
        "    subset='validation') # set as validation data"
      ],
      "execution_count": null,
      "outputs": []
    },
    {
      "cell_type": "code",
      "metadata": {
        "id": "U1HXQnUzwpxC"
      },
      "source": [
        "d_fn = lambda t: tfd.Normal(loc=t, scale=1)\n",
        "\n",
        "model = tf.keras.Sequential(layers=[\n",
        "    BatchNormalization(input_shape=target_size+(3,)),\n",
        "    Conv2D(filters=64, kernel_size=(3,3), activation='relu'),\n",
        "    BatchNormalization(),\n",
        "    Conv2D(filters=64, kernel_size=(3,3), activation='relu'),\n",
        "    BatchNormalization(),\n",
        "    Conv2D(filters=64, kernel_size=(3,3), activation='relu', strides=(2,2)),\n",
        "    \n",
        "    BatchNormalization(),\n",
        "    Conv2D(filters=64, kernel_size=(3,3), activation='relu'),\n",
        "    BatchNormalization(),\n",
        "    Conv2D(filters=64, kernel_size=(3,3), activation='relu'),\n",
        "    BatchNormalization(),\n",
        "    Conv2D(filters=64, kernel_size=(3,3), activation='relu', strides=(2,2)),\n",
        "\n",
        "    BatchNormalization(),\n",
        "    Conv2D(filters=96, kernel_size=(3,3), activation='relu'),\n",
        "    BatchNormalization(),\n",
        "    Conv2D(filters=96, kernel_size=(3,3), activation='relu'),\n",
        "    BatchNormalization(),\n",
        "    Conv2D(filters=96, kernel_size=(3,3), activation='relu', strides=(2,2)),\n",
        "\n",
        "    BatchNormalization(),\n",
        "    Conv2D(filters=128, kernel_size=(3,3), activation='relu'),\n",
        "    BatchNormalization(),\n",
        "    Conv2D(filters=128, kernel_size=(3,3), activation='relu'),\n",
        "    BatchNormalization(),\n",
        "    Conv2D(filters=128, kernel_size=(3,3), activation='relu', strides=(2,2)),\n",
        "\n",
        "    BatchNormalization(),\n",
        "    Conv2D(filters=128, kernel_size=(3,3), activation='relu'),\n",
        "    BatchNormalization(),\n",
        "    Conv2D(filters=128, kernel_size=(3,3), activation='relu'),\n",
        "    BatchNormalization(),\n",
        "    Conv2D(filters=128, kernel_size=(3,3), activation='relu', strides=(2,2)),\n",
        "\n",
        "    Flatten(),\n",
        "    BatchNormalization(),\n",
        "    Dense(256),\n",
        "    Dense(2),\n",
        "    tfp.layers.DistributionLambda(d_fn)]\n",
        ")\n",
        "\n",
        "model.build()\n",
        "model.summary()"
      ],
      "execution_count": null,
      "outputs": []
    },
    {
      "cell_type": "code",
      "metadata": {
        "id": "CLkPPosFwpxF"
      },
      "source": [
        "model.compile(optimizer='adam', loss='categorical_crossentropy', metrics = ['accuracy'])"
      ],
      "execution_count": null,
      "outputs": []
    },
    {
      "cell_type": "code",
      "metadata": {
        "id": "zdGVV9xlwpxI"
      },
      "source": [
        "history = model.fit_generator(generator=train_generator,\n",
        "                              steps_per_epoch=train_generator.samples//batch_size,\n",
        "                              epochs=2,\n",
        "                             validation_data=validation_generator,\n",
        "                             validation_steps=validation_generator.samples//batch_size)\n"
      ],
      "execution_count": null,
      "outputs": []
    },
    {
      "cell_type": "markdown",
      "metadata": {
        "id": "2inJxg3iwpxO"
      },
      "source": [
        "### 2.2 Transfer Learning from pretrained networks\n",
        "\n",
        "This code sets up the selected network to have appropriate input sizes.\n",
        "\n",
        "Try to train it, afterwards you can proceed to convert it into a probabilistic network similar to the experiment above."
      ]
    },
    {
      "cell_type": "code",
      "metadata": {
        "id": "21TKIeAxwpxO"
      },
      "source": [
        "#@title Set up a transfer learning model { display-mode: \"form\" }\n",
        "#@markdown Using a Flatten layer creates too many parameters. If you choose to do so, first reduce the number of channels from the output 2048.\n",
        "#@markdown The three available models will in the default setting have quite large numbers of parameters to adjust, still -- ranging from about 2 to about 4 Mio.\n",
        "#@markdown The networks are usually trained on image sizes of about $250^2$, but we apply it to the size set above. \n",
        "\n",
        "apply_flatten = True #@param {type:'boolean'}\n",
        "print_summary = False #@param {type:'boolean'}\n",
        "base_model_name = \"Inception\" #@param [\"Inception\", \"DenseNet121\", 'ResNet50']\n",
        "\n",
        "if base_model_name == 'Inception':\n",
        "    base_model=tf.keras.applications.InceptionV3(weights='imagenet',include_top=False, input_shape=target_size+(3,)) \n",
        "if base_model_name == 'DenseNet121':\n",
        "    base_model=tf.keras.applications.DenseNet121(weights='imagenet',include_top=False, input_shape=target_size+(3,)) \n",
        "if base_model_name == 'ResNet50':\n",
        "    base_model=tf.keras.applications.ResNet50(weights='imagenet',include_top=False, input_shape=target_size+(3,)) \n",
        "\n",
        "x=base_model.output\n",
        "\n",
        "if apply_flatten:\n",
        "    x = BatchNormalization()(x)\n",
        "    x = Conv2D(filters=128, kernel_size=1, strides=2)(x)\n",
        "    x = Flatten()(x)\n",
        "else:\n",
        "    x = tf.keras.layers.GlobalAveragePooling2D()(x) \n",
        "\n",
        "x = BatchNormalization()(x)\n",
        "x = Dense(512,activation='relu')(x)\n",
        "x = BatchNormalization()(x)\n",
        "x = Dense(256,activation='relu')(x)\n",
        "x = BatchNormalization()(x)\n",
        "preds = Dense(2,activation='softmax')(x) #final layer with softmax activation\n",
        "\n",
        "model = Model(inputs=base_model.input,outputs=preds)\n",
        "\n",
        "if print_summary:\n",
        "    model.summary()"
      ],
      "execution_count": null,
      "outputs": []
    },
    {
      "cell_type": "code",
      "metadata": {
        "id": "hqqjwr9hwpxQ"
      },
      "source": [
        "# first: train only the top layers (which were randomly initialized)\n",
        "# i.e. freeze all convolutional InceptionV3 layers\n",
        "for layer in base_model.layers:\n",
        "    layer.trainable = False\n",
        "\n",
        "# compile the model (should be done *after* setting layers to non-trainable)\n",
        "model.compile(optimizer='rmsprop', loss='categorical_crossentropy', metrics = ['accuracy'])\n",
        "\n",
        "trainable_count = np.sum([np.prod(v.get_shape()) for v in model.trainable_weights])\n",
        "non_trainable_count = np.sum([np.prod(v.get_shape()) for v in model.non_trainable_weights])\n",
        "\n",
        "print('Total params: {:,}'.format(trainable_count + non_trainable_count))\n",
        "print('Trainable params: {:,}'.format(trainable_count))\n",
        "print('Non-trainable params: {:,}'.format(non_trainable_count))"
      ],
      "execution_count": null,
      "outputs": []
    },
    {
      "cell_type": "markdown",
      "metadata": {
        "id": "LBnX0bRywpxS"
      },
      "source": [
        "The training of this model takes considerable time; approximately 1 minute per epoch. We will not be able to conduct the training in the course, but feel free to run it during a break or as part of your later continuation.\n",
        "\n",
        "Running it for 20 epochs lets one at least observe an increase in training accuracy; on the small dataset, however, it usually overfits (increasing validation loss)."
      ]
    },
    {
      "cell_type": "code",
      "metadata": {
        "id": "Fs2U1kSpwpxT"
      },
      "source": [
        "# train the model on the new data for a few epochs just to prove it works in principle.\n",
        "history = model.fit_generator(generator=train_generator,\n",
        "                              steps_per_epoch=train_generator.samples//batch_size,\n",
        "                              epochs=2,\n",
        "                              validation_data=validation_generator,\n",
        "                              validation_steps=validation_generator.samples//batch_size)"
      ],
      "execution_count": null,
      "outputs": []
    },
    {
      "cell_type": "code",
      "metadata": {
        "id": "n6tVccjjwpxV"
      },
      "source": [
        "print('training loss')\n",
        "plt.plot(history.history['loss'])\n",
        "plt.show()\n",
        "print('training acc')\n",
        "plt.plot(history.history['accuracy'])\n",
        "plt.show()\n",
        "print('validation loss')\n",
        "plt.plot(history.history['val_loss'])\n",
        "plt.show()\n",
        "print('validation acc')\n",
        "plt.plot(history.history['val_accuracy'])\n",
        "plt.show()"
      ],
      "execution_count": null,
      "outputs": []
    },
    {
      "cell_type": "markdown",
      "metadata": {
        "id": "IZYrzStDwpxX"
      },
      "source": [
        "## 3. Segmentation: Auto Encoder (AE)-Style\n",
        "\n",
        "This time, all models will be probabilistic in a certain fashion -- using dropout at inference time, or using probabilistic layers that learn a distribution and sample from it.\n",
        "\n",
        "* We define short functions that return a model.\n",
        "* The first is a simple architecture that collapses and expands an image into the desired mask, similar to an Auto Encoder (AE).\n",
        "* The second is the famous U-Net.\n",
        "\n",
        "Further reading (catchphrases to search in your favourite search engine): \n",
        "* Tensorflow Probability (TFP)\n",
        "* Variational Inference\n",
        "* Bayes by Dropout"
      ]
    },
    {
      "cell_type": "code",
      "metadata": {
        "id": "kZ0NH0FUwpxY"
      },
      "source": [
        "%%bash\n",
        "test -e tmp_slices.npz || curl -L \"https://drive.google.com/uc?export=download&id=1R2-H0dhhrj6XNK7Q-MazIWGeFDOf6Zya\" --output tmp_slices.npz"
      ],
      "execution_count": null,
      "outputs": []
    },
    {
      "cell_type": "code",
      "metadata": {
        "id": "t1R3pDqLwpxa"
      },
      "source": [
        "#@title Prepare segementation images and masks {display-mode:\"form\"}\n",
        "TRAINING_SLICE_COUNT = 300 #@param {type:\"slider\", min:100, max:1500, step:100}\n",
        "\n",
        "loaded = np.load('tmp_slices.npz')\n",
        "\n",
        "x_train = loaded['x_train'][:TRAINING_SLICE_COUNT]\n",
        "y_train = loaded['y_train'][:TRAINING_SLICE_COUNT]\n",
        "\n",
        "x_test = loaded['x_train'][TRAINING_SLICE_COUNT:]\n",
        "y_test = loaded['y_train'][TRAINING_SLICE_COUNT:]\n",
        "\n",
        "assert len(x_train) == len(y_train)\n",
        "\n",
        "example_test_slice = 1800 #@param {type:\"integer\"}\n",
        "\n",
        "# remove the lesion labels (values 2..3)\n",
        "y_train_binary = y_train.clip(0, 1)\n",
        "y_test_binary = y_test.clip(0, 1)"
      ],
      "execution_count": null,
      "outputs": []
    },
    {
      "cell_type": "code",
      "metadata": {
        "id": "EkC4dYg6wpxc"
      },
      "source": [
        "len(loaded[\"x_train\"])"
      ],
      "execution_count": null,
      "outputs": []
    },
    {
      "cell_type": "code",
      "metadata": {
        "id": "YT28nZkXWoy6"
      },
      "source": [
        "tf.compat.v1.disable_eager_execution()"
      ],
      "execution_count": null,
      "outputs": []
    },
    {
      "cell_type": "code",
      "metadata": {
        "scrolled": true,
        "id": "fbIg3qRIwpxe"
      },
      "source": [
        "def getDropoutBayesModel(_filters=32, filters_add=0, _kernel_size=(3,3), _padding='same', _activation='relu', _kernel_regularizer=None, _final_layer_nonlinearity='sigmoid'):\n",
        "    model = Sequential()\n",
        "    # We are indifferent about the xy size, but accept only one channel (gray value images). This has the consequence that debugging sizes gets harder.\n",
        "    input_layer = Input(shape=(None,None,1))\n",
        "    \n",
        "    x = BatchNormalization()(input_layer)\n",
        "    x = Conv2D(filters=_filters, kernel_size=_kernel_size, padding=_padding, activation=_activation, kernel_regularizer=_kernel_regularizer, name='firstConvolutionalLayer')(x)\n",
        "    x = SpatialDropout2D(0.3)(x, training=True)\n",
        "    x = BatchNormalization()(x)\n",
        "    x = Conv2D(filters=_filters, kernel_size=_kernel_size, padding=_padding, activation=_activation, kernel_regularizer=_kernel_regularizer)(x)\n",
        "    x = SpatialDropout2D(0.3)(x, training=True)\n",
        "    x = MaxPool2D()(x)\n",
        "\n",
        "    x = BatchNormalization()(x)\n",
        "    x = Conv2D(filters=_filters+filters_add, kernel_size=_kernel_size, padding=_padding, activation=_activation, kernel_regularizer=_kernel_regularizer)(x)\n",
        "    x = SpatialDropout2D(0.3)(x, training=True)\n",
        "    x = BatchNormalization()(x)\n",
        "    x = Conv2D(filters=_filters+filters_add, kernel_size=_kernel_size, padding=_padding, activation=_activation, kernel_regularizer=_kernel_regularizer)(x)\n",
        "    x = SpatialDropout2D(0.3)(x, training=True)\n",
        "    x = MaxPool2D()(x)\n",
        "\n",
        "    x = BatchNormalization()(x)\n",
        "    x = Conv2D(filters=_filters+2*filters_add, kernel_size=_kernel_size, padding=_padding, activation=_activation, kernel_regularizer=_kernel_regularizer)(x)\n",
        "    x = BatchNormalization()(x)\n",
        "    x = Conv2D(filters=_filters+2*filters_add, kernel_size=_kernel_size, padding=_padding, activation=_activation, kernel_regularizer=_kernel_regularizer)(x)\n",
        "    x = UpSampling2D()(x)\n",
        "\n",
        "    x = BatchNormalization()(x)\n",
        "    x = Conv2D(filters=_filters+filters_add, kernel_size=_kernel_size, padding=_padding, activation=_activation, kernel_regularizer=_kernel_regularizer)(x)\n",
        "    x = BatchNormalization()(x)\n",
        "    x = Conv2D(filters=_filters+filters_add, kernel_size=_kernel_size, padding=_padding, activation=_activation, kernel_regularizer=_kernel_regularizer)(x)\n",
        "    x = UpSampling2D()(x)\n",
        "\n",
        "    x = BatchNormalization()(x)\n",
        "    x = Conv2D(filters=_filters, kernel_size=_kernel_size, padding=_padding, activation=_activation, kernel_regularizer=_kernel_regularizer)(x)\n",
        "    x = BatchNormalization()(x)\n",
        "    x = Conv2D(filters=_filters, kernel_size=_kernel_size, padding=_padding, activation=_activation, kernel_regularizer=_kernel_regularizer)(x)\n",
        "\n",
        "    x = BatchNormalization()(x)\n",
        "    output_layer = Conv2D(1, kernel_size=(1,1), activation=_final_layer_nonlinearity)(x)\n",
        "    \n",
        "    model = Model(input_layer, output_layer)\n",
        "    return model"
      ],
      "execution_count": null,
      "outputs": []
    },
    {
      "cell_type": "code",
      "metadata": {
        "scrolled": true,
        "id": "WQvFfGDSwpxg"
      },
      "source": [
        "from tensorflow_probability.python.layers import Convolution2DFlipout\n",
        "\n",
        "def getProbBayesModel(_filters=32, filters_add=0, _kernel_size=(3,3), _padding='same', _activation='relu', _kernel_regularizer=None, _final_layer_nonlinearity='sigmoid'):\n",
        "    model = Sequential()\n",
        "    # We are indifferent about the xy size, but accept only one channel (gray value images). This has the consequence that debugging sizes gets harder.\n",
        "    input_layer = Input(shape=(None,None,1))\n",
        "    \n",
        "    x = BatchNormalization()(input_layer)\n",
        "    x = Conv2D(filters=_filters, kernel_size=_kernel_size, padding=_padding, activation=_activation, kernel_regularizer=_kernel_regularizer, name='firstConvolutionalLayer')(x)\n",
        "    x = BatchNormalization()(x)\n",
        "    x = Conv2D(filters=_filters, kernel_size=_kernel_size, padding=_padding, activation=_activation, kernel_regularizer=_kernel_regularizer)(x)\n",
        "    x = MaxPool2D()(x)\n",
        "\n",
        "    x = BatchNormalization()(x)\n",
        "    x = Conv2D(filters=_filters+filters_add, kernel_size=_kernel_size, padding=_padding, activation=_activation, kernel_regularizer=_kernel_regularizer)(x)\n",
        "    x = BatchNormalization()(x)\n",
        "    x = Conv2D(filters=_filters+filters_add, kernel_size=_kernel_size, padding=_padding, activation=_activation, kernel_regularizer=_kernel_regularizer)(x)\n",
        "    x = MaxPool2D()(x)\n",
        "\n",
        "    x = BatchNormalization()(x)\n",
        "    x = Conv2D(filters=_filters+2*filters_add, kernel_size=_kernel_size, padding=_padding, activation=_activation, kernel_regularizer=_kernel_regularizer)(x)\n",
        "    x = BatchNormalization()(x)\n",
        "    x = Conv2D(filters=_filters+2*filters_add, kernel_size=_kernel_size, padding=_padding, activation=_activation, kernel_regularizer=_kernel_regularizer)(x)\n",
        "    x = UpSampling2D()(x)\n",
        "\n",
        "    x = BatchNormalization()(x)\n",
        "    x = Conv2D(filters=_filters+filters_add, kernel_size=_kernel_size, padding=_padding, activation=_activation, kernel_regularizer=_kernel_regularizer)(x)\n",
        "    x = BatchNormalization()(x)\n",
        "    x = Conv2D(filters=_filters+filters_add, kernel_size=_kernel_size, padding=_padding, activation=_activation, kernel_regularizer=_kernel_regularizer)(x)\n",
        "    x = UpSampling2D()(x)\n",
        "\n",
        "    x = BatchNormalization()(x)\n",
        "    x = Conv2D(filters=_filters, kernel_size=_kernel_size, padding=_padding, activation=_activation, kernel_regularizer=_kernel_regularizer)(x)\n",
        "    x = BatchNormalization()(x)\n",
        "    x = Conv2D(filters=_filters, kernel_size=_kernel_size, padding=_padding, activation=_activation, kernel_regularizer=_kernel_regularizer)(x)\n",
        "\n",
        "    x = BatchNormalization()(x)\n",
        "    output_layer = Convolution2DFlipout(1, kernel_size=(1,1), activation=_final_layer_nonlinearity)(x)\n",
        "    \n",
        "    model = Model(input_layer, output_layer)\n",
        "    return model\n"
      ],
      "execution_count": null,
      "outputs": []
    },
    {
      "cell_type": "code",
      "metadata": {
        "scrolled": true,
        "id": "VdLTJxhtwpxi"
      },
      "source": [
        "from tensorflow_probability.python.layers import Convolution2DFlipout\n",
        "from tensorflow.keras.layers import Conv2DTranspose\n",
        "\n",
        "def getProbBayesModernModel(_filters=32, filters_add=0, _kernel_size=(3,3), _padding='same', _activation='relu', _kernel_regularizer=None, _final_layer_nonlinearity='sigmoid'):\n",
        "    model = Sequential()\n",
        "    # We are indifferent about the xy size, but accept only one channel (gray value images). This has the consequence that debugging sizes gets harder.\n",
        "    input_layer = Input(shape=(None, None,1))\n",
        "    \n",
        "    x = BatchNormalization()(input_layer)\n",
        "    x = Conv2D(filters=_filters, kernel_size=_kernel_size, padding=_padding, activation=_activation, kernel_regularizer=_kernel_regularizer)(x)\n",
        "    x = BatchNormalization()(x)\n",
        "    x = Conv2D(filters=_filters, kernel_size=_kernel_size, strides=(2,2), padding=_padding, activation=_activation, kernel_regularizer=_kernel_regularizer)(x)\n",
        "\n",
        "    x = BatchNormalization()(x)\n",
        "    x = Conv2D(filters=_filters+filters_add, kernel_size=_kernel_size, padding=_padding, activation=_activation, kernel_regularizer=_kernel_regularizer)(x)\n",
        "    x = BatchNormalization()(x)\n",
        "    x = Conv2D(filters=_filters+filters_add, kernel_size=_kernel_size, strides=(2,2), padding=_padding, activation=_activation, kernel_regularizer=_kernel_regularizer)(x)\n",
        "\n",
        "    x = BatchNormalization()(x)\n",
        "    x = Conv2D(filters=_filters+2*filters_add, kernel_size=_kernel_size, padding=_padding, activation=_activation, kernel_regularizer=_kernel_regularizer)(x)\n",
        "    x = BatchNormalization()(x)\n",
        "    x = Conv2DTranspose(filters=_filters+2*filters_add, kernel_size=_kernel_size, strides=2, padding=_padding, activation=_activation, kernel_regularizer=_kernel_regularizer)(x)\n",
        "\n",
        "    x = BatchNormalization()(x)\n",
        "    x = Conv2D(filters=_filters+filters_add, kernel_size=_kernel_size, padding=_padding, activation=_activation, kernel_regularizer=_kernel_regularizer)(x)\n",
        "    x = BatchNormalization()(x)\n",
        "    x = Conv2DTranspose(filters=_filters+filters_add, kernel_size=_kernel_size, strides=2, padding=_padding, activation=_activation, kernel_regularizer=_kernel_regularizer)(x)\n",
        "\n",
        "    x = BatchNormalization()(x)\n",
        "    x = Conv2D(filters=_filters, kernel_size=_kernel_size, padding=_padding, activation=_activation, kernel_regularizer=_kernel_regularizer)(x)\n",
        "    x = BatchNormalization()(x)\n",
        "    x = Conv2D(filters=_filters, kernel_size=_kernel_size, padding=_padding, activation=_activation, kernel_regularizer=_kernel_regularizer)(x)\n",
        "\n",
        "    x = BatchNormalization()(x)\n",
        "    output_layer = Convolution2DFlipout(1, kernel_size=(1,1), activation=_final_layer_nonlinearity)(x)\n",
        "    \n",
        "    model = Model(input_layer, output_layer)\n",
        "    return model\n"
      ],
      "execution_count": null,
      "outputs": []
    },
    {
      "cell_type": "code",
      "metadata": {
        "scrolled": true,
        "id": "2gSDUsI7wpxl"
      },
      "source": [
        "def pad_image_for_model(model, input_image):\n",
        "    '''Determine the necessary amount of padding\n",
        "    (difference between input and output size of the model)\n",
        "    and apply it to an ndarry with one or more images.'''\n",
        "    \n",
        "    padding = 0\n",
        "    if 'firstConvolutionalLayer' in [layer.name for layer in model.layers]:\n",
        "        if model.get_layer('firstConvolutionalLayer').padding == 'valid':\n",
        "            padding = 20 # WARNING: Hard-coded for above architecture!\n",
        "\n",
        "            # determine in which dimension to apply this padding\n",
        "            ndim_padding = []\n",
        "            if np.ndim(input_image) > 2:\n",
        "                # do not pad along batch dimension (if present)\n",
        "                ndim_padding.append((0, 0))\n",
        "            ndim_padding.append((padding, padding)) # pad above/below image (y dimension)\n",
        "            ndim_padding.append((padding, padding)) # pad left/right of image (x dimension)\n",
        "            if np.ndim(input_image) > 3:\n",
        "                # do not pad along channel dimension (if present)\n",
        "                ndim_padding.append((0, 0))\n",
        "\n",
        "            input_image = np.lib.pad(input_image, ndim_padding,\n",
        "                                     #'constant', constant_values = 0)\n",
        "                                     'reflect')\n",
        "\n",
        "    return input_image, padding\n",
        "\n",
        "from tensorflow.keras.callbacks import Callback\n",
        "\n",
        "class VisualHistory(Callback):\n",
        "    def on_train_begin(self, logs={}):\n",
        "        # also show initial prediction\n",
        "        plot_prediction(self.model, example_test_slice)\n",
        "    \n",
        "    def on_epoch_end(self, batch, logs={}):\n",
        "        # show prediction after every training epoch\n",
        "        plot_prediction(self.model, example_test_slice)\n",
        "        \n",
        "vh_callback = VisualHistory()\n",
        "\n",
        "def do_prediction(model, input_image, verbose = False):\n",
        "    # first do padding of full slice\n",
        "    input_image, padding = pad_image_for_model(model, input_image)\n",
        "    \n",
        "    # add batch and channel dimensions (network expects 4D arrays)\n",
        "    input_array = input_image[np.newaxis,:,:,np.newaxis]\n",
        "    if verbose:\n",
        "        print(\"input shape:\", input_array.shape)\n",
        "\n",
        "    y_predicted = model.predict(input_array)\n",
        "    if verbose:\n",
        "        print(\"output shape:\", y_predicted.shape)\n",
        "\n",
        "    return input_image, input_array, y_predicted, padding\n",
        "\n",
        "def plot_prediction(model, pred_slice_index):\n",
        "    # get single slice\n",
        "    input_image    = x_test[pred_slice_index]\n",
        "    # could use y_train_binary here for the first half of the notebook, but in the end we want to see the lesion\n",
        "    reference_mask = y_test[pred_slice_index]\n",
        "\n",
        "    input_image, input_array, y_predicted, padding = do_prediction(model, input_image)\n",
        "    \n",
        "    padded_extent = np.array([0, input_array.shape[2], input_array.shape[1], 0]) - 0.5 - padding\n",
        "\n",
        "    # display prediction for inspection\n",
        "    f, ax = plt.subplots(1, 5 if padding else 4, figsize = (11 if padding else 8, 3), sharey = True)\n",
        "    ax[0].imshow(x_test[pred_slice_index])\n",
        "    ax[0].set_title('orig')\n",
        "    if padding:\n",
        "        ax[1].imshow(input_array[0,:,:,0], extent = padded_extent)\n",
        "        ax[1].set_title('padded input')\n",
        "    ax[-2].imshow(y_predicted[0,:,:,0])\n",
        "    ax[-2].set_title('predicted mask')\n",
        "    ax[-3].imshow(reference_mask.clip(0,1))\n",
        "    ax[-3].set_title('reference mask')\n",
        "    ax[-1].imshow(reference_mask.clip(0,1) - y_predicted[0,:,:,0])\n",
        "    ax[-1].set_title('(ref - predicted)')\n",
        "    ax[0].set_ylim(*padded_extent[2:])\n",
        "    plt.show()"
      ],
      "execution_count": null,
      "outputs": []
    },
    {
      "cell_type": "markdown",
      "metadata": {
        "id": "8OE5s1N7wpxn"
      },
      "source": [
        "## Training"
      ]
    },
    {
      "cell_type": "code",
      "metadata": {
        "scrolled": true,
        "id": "mxW8ea3Dwpxo"
      },
      "source": [
        "modelBayesValid = getDropoutBayesModel(_padding='valid')\n",
        "modelBayesValid.compile(loss='binary_crossentropy', optimizer='adam')\n",
        "print(\"Model parameters: {0:,}\".format(modelBayesValid.count_params()))"
      ],
      "execution_count": null,
      "outputs": []
    },
    {
      "cell_type": "code",
      "metadata": {
        "id": "Yp5_blFPwpxq"
      },
      "source": [
        "model_ProbBayes = getProbBayesModel(_padding='valid')\n",
        "model_ProbBayes.compile(loss='binary_crossentropy', optimizer='adam')\n",
        "print(\"Model parameters: {0:,}\".format(model_ProbBayes.count_params()))"
      ],
      "execution_count": null,
      "outputs": []
    },
    {
      "cell_type": "code",
      "metadata": {
        "id": "0AHEF2cowpxs"
      },
      "source": [
        "model_ProbBayesModern = getProbBayesModernModel(_padding='same')\n",
        "model_ProbBayesModern.compile(loss='binary_crossentropy', optimizer='adam')\n",
        "print(\"Model parameters: {0:,}\".format(model_ProbBayesModern.count_params()))"
      ],
      "execution_count": null,
      "outputs": []
    },
    {
      "cell_type": "markdown",
      "metadata": {
        "id": "6bUrEDn3wpxu"
      },
      "source": [
        "### Dropout Uncertainty"
      ]
    },
    {
      "cell_type": "code",
      "metadata": {
        "id": "OW0F9z5Twpxu"
      },
      "source": [
        "# This is for _padding = 'valid' and 'reflect' padding\n",
        "historyBayesValid = modelBayesValid.fit(np.lib.pad(x_train[...,np.newaxis],\n",
        "                                         [(0,0), (20,20), (20,20), (0,0)], 'reflect'),\n",
        "                              y_train_binary[...,np.newaxis],\n",
        "                              batch_size=20, epochs=5, callbacks=[vh_callback])"
      ],
      "execution_count": null,
      "outputs": []
    },
    {
      "cell_type": "markdown",
      "metadata": {
        "id": "jP22std-wpxw"
      },
      "source": [
        "### Probabilistic Conv2D layers"
      ]
    },
    {
      "cell_type": "code",
      "metadata": {
        "id": "hrRqtPgMwpxx"
      },
      "source": [
        "# This is for _padding = 'valid' and 'reflect' padding\n",
        "historyProbBayesValid = model_ProbBayes.fit(np.lib.pad(x_train[...,np.newaxis],\n",
        "                                         [(0,0), (20,20), (20,20), (0,0)], 'reflect'),\n",
        "                              y_train_binary[...,np.newaxis],\n",
        "                              batch_size=20, epochs=5, callbacks=[vh_callback])"
      ],
      "execution_count": null,
      "outputs": []
    },
    {
      "cell_type": "code",
      "metadata": {
        "id": "NXHjYjnMwpx0"
      },
      "source": [
        "# This is for _padding = 'same'.\n",
        "# Model needs no padding even for \"valid\"\n",
        "historyProbBayesModernValid = model_ProbBayesModern.fit(x_train[...,np.newaxis],\n",
        "                              y_train_binary[...,np.newaxis],\n",
        "                              batch_size=20, epochs=5, callbacks=[vh_callback])"
      ],
      "execution_count": null,
      "outputs": []
    },
    {
      "cell_type": "markdown",
      "metadata": {
        "id": "BuYGQyG3wpx3"
      },
      "source": [
        "## Prediction using Bayes by Dropout on the initial model\n",
        "\n",
        "For this approach, the prediction needs to run $n$ times, averaging the results per voxel for the final prediction.\n",
        "\n",
        "Warning: this unconditionally puts all layers into training mode, also the BatchNormalization, which will lead to side effects. \n"
      ]
    },
    {
      "cell_type": "code",
      "metadata": {
        "id": "EK5texEKWZms"
      },
      "source": [
        "modelBayesValid.layers[-1].output"
      ],
      "execution_count": null,
      "outputs": []
    },
    {
      "cell_type": "code",
      "metadata": {
        "id": "woualxrswpx3"
      },
      "source": [
        "# Define a prediction function from the model, setting the learning phase to \"learn\" to let dropout be active.\n",
        "f = K.function([modelBayesValid.layers[0].input, K.learning_phase()],\n",
        "               [modelBayesValid.layers[-1].output])\n",
        "\n",
        "def predict_with_uncertainty(f, x, no_classes, n_iter=20):\n",
        "    result = np.zeros( (n_iter,) + (x.shape) + (no_classes,) )\n",
        "\n",
        "    for i in range(n_iter):\n",
        "        result[i,:, :] = f((x, 1))[0]\n",
        "    prediction = result.mean(axis=0)\n",
        "    uncertainty = result.std(axis=0)\n",
        "    return prediction, uncertainty, result    "
      ],
      "execution_count": null,
      "outputs": []
    },
    {
      "cell_type": "markdown",
      "metadata": {
        "id": "mWPwJkBUwpx7"
      },
      "source": [
        "## Prediction on test examples\n",
        "\n",
        "Adapt the following cells that show the principle of prediction, so that\n",
        "* multiple images can be predicted\n",
        "* all model types can be used again"
      ]
    },
    {
      "cell_type": "code",
      "metadata": {
        "id": "6K24EuRZwpx7"
      },
      "source": [
        "x_test0 = x_test[0:2][...,np.newaxis]\n",
        "\n",
        "print(x_test0.shape, len(x_test0))"
      ],
      "execution_count": null,
      "outputs": []
    },
    {
      "cell_type": "code",
      "metadata": {
        "id": "viIlqUybwpyA"
      },
      "source": [
        "x_test0 = pad_image_for_model(modelBayesValid, x_test0)\n",
        "result = np.zeros((20,) + (len(x_test0),) + (x_test[0].shape) + (1,) )"
      ],
      "execution_count": null,
      "outputs": []
    },
    {
      "cell_type": "code",
      "metadata": {
        "id": "CrVzU5JuwpyC"
      },
      "source": [
        "print(len(f((x_test0,1))),f((x_test0,1))[0].shape)"
      ],
      "execution_count": null,
      "outputs": []
    },
    {
      "cell_type": "code",
      "metadata": {
        "id": "A_mMwHZCwpyE"
      },
      "source": [
        "for i in range(20):\n",
        "    result[i,:,:,:] = f((x_test0,1))[0]\n",
        "    \n",
        "print(result.shape)"
      ],
      "execution_count": null,
      "outputs": []
    },
    {
      "cell_type": "code",
      "metadata": {
        "id": "l5sj-7gcwpyI"
      },
      "source": [
        "y_pred0 = do_prediction(modelBayesValid, x_test[0])\n",
        "y_pred1 = do_prediction(modelBayesValid, x_test[1])\n",
        "y_pred0[2].shape"
      ],
      "execution_count": null,
      "outputs": []
    },
    {
      "cell_type": "code",
      "metadata": {
        "id": "18SCoqegwpyK"
      },
      "source": [
        "prediction = result.mean(axis=0)\n",
        "uncertainty = result.std(axis=0)\n",
        "print(prediction.shape, uncertainty.shape)"
      ],
      "execution_count": null,
      "outputs": []
    },
    {
      "cell_type": "code",
      "metadata": {
        "id": "WTGQ20eDwpyM"
      },
      "source": [
        "def plot_result(in_image, in_mask, direct_prediction, prob_prediction, uncertainty):\n",
        "    f, ax = plt.subplots(1, 5, figsize = (22, 6), sharey = True)\n",
        "    ax[0].imshow(in_image)\n",
        "    ax[0].set_title('orig')\n",
        "    ax[1].imshow(in_mask)\n",
        "    ax[1].set_title('mask')\n",
        "    ax[2].imshow(direct_prediction)\n",
        "    ax[2].set_title('mask')\n",
        "    ax[3].imshow(prob_prediction)\n",
        "    ax[3].set_title('prob. prediction')\n",
        "    ax[4].imshow(uncertainty)\n",
        "    ax[4].set_title('uncertainty')\n",
        "    plt.show()"
      ],
      "execution_count": null,
      "outputs": []
    },
    {
      "cell_type": "code",
      "metadata": {
        "id": "CDv10c9RwpyO"
      },
      "source": [
        "plot_result(x_test[0], y_test[0], y_pred0[2][0,:,:,0], prediction[0,:,:,0],uncertainty[0,:,:,0])\n",
        "plot_result(x_test[1], y_test[1], y_pred1[2][0,:,:,0], prediction[1,:,:,0],uncertainty[1,:,:,0])"
      ],
      "execution_count": null,
      "outputs": []
    },
    {
      "cell_type": "markdown",
      "metadata": {
        "id": "rasnbRScwpyQ"
      },
      "source": [
        "## Prediction\n",
        "Let's look at the prediction from some more example slices, but let's only use the `x_test` slices that we did not use for training. (In a real scenario, we would to the separation of training & test data on the level of patients, *before* extracting slices, and we'd also have a validation set.)"
      ]
    },
    {
      "cell_type": "code",
      "metadata": {
        "id": "mjfZguhKwpyR"
      },
      "source": [
        "slice_indices = np.random.choice(x_test.shape[0], 6)"
      ],
      "execution_count": null,
      "outputs": []
    }
  ]
}