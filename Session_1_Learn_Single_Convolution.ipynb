{
  "nbformat": 4,
  "nbformat_minor": 0,
  "metadata": {
    "colab": {
      "private_outputs": true,
      "provenance": [],
      "authorship_tag": "ABX9TyMNXn5+UluPsqO1IEWfRr16",
      "include_colab_link": true
    },
    "kernelspec": {
      "name": "python3",
      "display_name": "Python 3"
    },
    "language_info": {
      "name": "python"
    }
  },
  "cells": [
    {
      "cell_type": "markdown",
      "metadata": {
        "id": "view-in-github",
        "colab_type": "text"
      },
      "source": [
        "<a href=\"https://colab.research.google.com/github/mtwenzel/image-video-understanding/blob/master/Session_1_Learn_Single_Convolution.ipynb\" target=\"_parent\"><img src=\"https://colab.research.google.com/assets/colab-badge.svg\" alt=\"Open In Colab\"/></a>"
      ]
    },
    {
      "cell_type": "markdown",
      "source": [
        "# Let's learn one convolution\n",
        "\n",
        "In this experiment, we create a dataset by filtering MNIST with a pre-defined sharpen kernel. From the data, we train a network that should recover the kernel."
      ],
      "metadata": {
        "id": "XbzkU8RrTVsj"
      }
    },
    {
      "cell_type": "code",
      "execution_count": null,
      "metadata": {
        "id": "lVwNlReTwA3f"
      },
      "outputs": [],
      "source": [
        "import tensorflow as tf\n",
        "from tensorflow.keras.utils import to_categorical\n",
        "from tensorflow.keras.models import Sequential\n",
        "from tensorflow.keras.layers import InputLayer, Conv2D, Dropout, Dense\n",
        "from tensorflow.keras.datasets import mnist\n",
        "from tensorflow.keras.optimizers import Adam, SGD\n",
        "import matplotlib.pyplot as plt\n",
        "%matplotlib inline\n",
        "import numpy as np\n",
        "\n",
        "\n",
        "(x_train, y_train), (x_test, y_test) = mnist.load_data()\n",
        "\n",
        "# reduce data by factor 10 / 20 for fast execution during course\n",
        "x_train = x_train[::10]\n",
        "y_train = y_train[::10]\n",
        "x_test = x_test[::20]\n",
        "y_test = y_test[::20]\n",
        "\n",
        "# verify resulting array shapes\n",
        "x_train.shape, y_train.shape, x_test.shape, y_test.shape"
      ]
    },
    {
      "cell_type": "code",
      "source": [
        "# Create a model to apply a hand-crafted filter.\n",
        "model = Sequential()\n",
        "model.add(InputLayer(input_shape=(28,28,1)))\n",
        "model.add(Conv2D(filters=1, kernel_size=(3,3), padding='same', activation='linear'))\n",
        "model.compile(loss='mse', optimizer=opt)\n",
        "model.summary()"
      ],
      "metadata": {
        "id": "zYE-KrhpwmsS"
      },
      "execution_count": null,
      "outputs": []
    },
    {
      "cell_type": "code",
      "source": [
        "w = np.asarray([np.asarray([\n",
        "    [[[0]],[[-1]],[[0]]],\n",
        "    [[[-1]],[[5]],[[-1]]],\n",
        "    [[[0]],[[-1]],[[0]]]\n",
        "    ], dtype=object),\n",
        "    np.asarray([0])], dtype=object)\n",
        "model.layers[0].set_weights(w)"
      ],
      "metadata": {
        "id": "AevPp6zrxuEc"
      },
      "execution_count": null,
      "outputs": []
    },
    {
      "cell_type": "code",
      "source": [
        "# Forward predict with the human-made \"kernel\" to create training data\n",
        "y_train_images = model.predict(x_train)\n",
        "y_train_images.shape, x_train.shape"
      ],
      "metadata": {
        "id": "QV5Buals2Zqu"
      },
      "execution_count": null,
      "outputs": []
    },
    {
      "cell_type": "code",
      "source": [
        "# One training example input\n",
        "plt.imshow(x_train[600], cmap='gray')"
      ],
      "metadata": {
        "id": "ZeOjm5SXGv6J"
      },
      "execution_count": null,
      "outputs": []
    },
    {
      "cell_type": "code",
      "source": [
        "# One training example output (== filtered image)\n",
        "plt.imshow(y_train_images[600].squeeze(), cmap='gray')"
      ],
      "metadata": {
        "id": "eSzU4zLtG0fw"
      },
      "execution_count": null,
      "outputs": []
    },
    {
      "cell_type": "code",
      "source": [
        "opt = SGD(learning_rate=0.000009) # The training is extremely sensitive to the learning rate. Play with it.\n",
        "#opt = Adam(learning_rate=0.005)  # Adam is much more stable, but converges much slower on such a simple problem.\n",
        "\n",
        "model_t = Sequential()\n",
        "model_t.add(InputLayer(input_shape=(28,28,1)))\n",
        "model_t.add(Conv2D(filters=1, kernel_size=(3,3), padding='same', activation='linear'))\n",
        "model_t.compile(loss='mse', optimizer=opt)\n",
        "model_t.summary()"
      ],
      "metadata": {
        "id": "FNT140HYEAb7"
      },
      "execution_count": null,
      "outputs": []
    },
    {
      "cell_type": "code",
      "source": [
        "history = model_t.fit(x_train, y_train_images, epochs=10)"
      ],
      "metadata": {
        "id": "Rz2OYf4UEGym"
      },
      "execution_count": null,
      "outputs": []
    },
    {
      "cell_type": "code",
      "source": [
        "plt.plot(history.history['loss'])\n",
        "plt.show()"
      ],
      "metadata": {
        "id": "wyYhto1_E-V8"
      },
      "execution_count": null,
      "outputs": []
    },
    {
      "cell_type": "code",
      "source": [
        "# Print the weights of the learned filter.\n",
        "print(model_t.layers[0].get_weights())"
      ],
      "metadata": {
        "id": "JAgtuu56Fp9p"
      },
      "execution_count": null,
      "outputs": []
    },
    {
      "cell_type": "code",
      "source": [
        "plt.imshow(y_train_images[600].squeeze(), cmap='gray')"
      ],
      "metadata": {
        "id": "Je-_iD4XGE_b"
      },
      "execution_count": null,
      "outputs": []
    },
    {
      "cell_type": "code",
      "source": [
        "model_t_predicted = model_t.predict(x_train)\n",
        "plt.imshow(model_t_predicted[600].squeeze(), cmap='gray')"
      ],
      "metadata": {
        "id": "tCa2bqmb95xC"
      },
      "execution_count": null,
      "outputs": []
    },
    {
      "cell_type": "code",
      "source": [
        "# A subtraction image between the desired and achieved output.\n",
        "plt.imshow(y_train_images[600].squeeze()-model_t_predicted[600].squeeze(), cmap='gray')\n",
        "print(\"Range of error: \", np.max(y_train_images[600].squeeze()-model_t_predicted[600].squeeze()), np.min(y_train_images[600].squeeze()-model_t_predicted[600].squeeze()))"
      ],
      "metadata": {
        "id": "PicP1N1G9-rP"
      },
      "execution_count": null,
      "outputs": []
    },
    {
      "cell_type": "code",
      "source": [],
      "metadata": {
        "id": "jbwr7XDWWGja"
      },
      "execution_count": null,
      "outputs": []
    }
  ]
}