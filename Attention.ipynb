{
  "cells": [
    {
      "cell_type": "markdown",
      "metadata": {
        "id": "view-in-github",
        "colab_type": "text"
      },
      "source": [
        "<a href=\"https://colab.research.google.com/github/mtwenzel/image-video-understanding/blob/master/Attention.ipynb\" target=\"_parent\"><img src=\"https://colab.research.google.com/assets/colab-badge.svg\" alt=\"Open In Colab\"/></a>"
      ]
    },
    {
      "cell_type": "markdown",
      "metadata": {
        "id": "J29FDh2JUNk_"
      },
      "source": [
        "# Self-Attention by Example\n",
        "\n",
        "Partially taken from https://towardsdatascience.com/illustrated-self-attention-2d627e33b20a#8481"
      ]
    },
    {
      "cell_type": "code",
      "execution_count": 1,
      "metadata": {
        "id": "HS7dexV7MphR",
        "cellView": "form"
      },
      "outputs": [],
      "source": [
        "#@title Imports\n",
        "import torch\n",
        "from torch.nn.functional import softmax\n",
        "\n",
        "import seaborn as sns"
      ]
    },
    {
      "cell_type": "markdown",
      "metadata": {
        "id": "7AoHRZd3SdJ0"
      },
      "source": [
        "## Create a tensor with input data.\n",
        "\n",
        "In a real setting, this tensor would be the result of some data encoding step (when considering the first input to the first attention layer), or the result of the previous attention layer.\n",
        "\n",
        "If for example your input is text, and your word embeddings have 512 dimensions, each row in the tensor $x$ would have 512 entries, and the tensor would have as many rows as your sentence has words.\n",
        "\n",
        "For images (here described along the lines of the ViT), the number of rows in $x$ is the number of tiles the images get subdivided into ($16 \\times 16$ in ViT). The length of each line is the length of the embedding vector after transforming each tile with the patch encoder. [See the ViT publication for details](https://arxiv.org/abs/2010.11929)\n",
        "\n",
        "Note that there is the embedding size of the original data, but also the internal encoding size that will be determined by the shape of the K, Q, and V matrices."
      ]
    },
    {
      "cell_type": "code",
      "source": [
        "#@title Define data matrix {run:\"auto\"}\n",
        "#@markdown We randomly create data of a given size. Set the number of tokens and the encoding/embedding length here.\n",
        "num_tokens = 5 #@param {type:\"slider\", min:\"1\", max:\"16\"}\n",
        "num_embedding_features = 9 #@param {type:\"slider\", min:\"1\", max:\"32\"}\n",
        "\n",
        "x = torch.rand([num_tokens,num_embedding_features])\n",
        "x"
      ],
      "metadata": {
        "colab": {
          "base_uri": "https://localhost:8080/"
        },
        "cellView": "form",
        "id": "h_FPHgn8fTEp",
        "outputId": "faebf931-24a7-4275-e62e-36da0ec5dd95"
      },
      "execution_count": 16,
      "outputs": [
        {
          "output_type": "execute_result",
          "data": {
            "text/plain": [
              "tensor([[0.6793, 0.5176, 0.0199, 0.9120, 0.0859, 0.9003, 0.9276, 0.0403, 0.1798],\n",
              "        [0.6931, 0.4052, 0.2260, 0.4736, 0.2019, 0.6505, 0.2414, 0.7504, 0.3757],\n",
              "        [0.3532, 0.3325, 0.7906, 0.8660, 0.5642, 0.5118, 0.1607, 0.9036, 0.9604],\n",
              "        [0.9106, 0.5106, 0.1056, 0.7703, 0.7784, 0.4557, 0.3079, 0.2220, 0.2668],\n",
              "        [0.7827, 0.9905, 0.2080, 0.8886, 0.4728, 0.2884, 0.9055, 0.3018, 0.2290]])"
            ]
          },
          "metadata": {},
          "execution_count": 16
        }
      ]
    },
    {
      "cell_type": "code",
      "execution_count": 3,
      "metadata": {
        "id": "-E_fY_cdNJwO",
        "colab": {
          "base_uri": "https://localhost:8080/"
        },
        "cellView": "form",
        "outputId": "83ba0c5e-3ae5-41f5-a19f-497adfdf254f"
      },
      "outputs": [
        {
          "output_type": "execute_result",
          "data": {
            "text/plain": [
              "tensor([[0.8428, 0.0652, 0.4855, 0.0808, 0.4266, 0.4926, 0.1704, 0.2659, 0.1028],\n",
              "        [0.8605, 0.4510, 0.6743, 0.3013, 0.7022, 0.2031, 0.4545, 0.4177, 0.0018]])"
            ]
          },
          "metadata": {},
          "execution_count": 3
        }
      ],
      "source": [
        "#@title Define second data matrix for cross attention {run:\"auto\"}\n",
        "#@markdown To demonstrate cross attention with smaller attention matrix analogous to Perceiver or DETR, create a \"learned queries\" matrix $x_2$\n",
        "#@markdown For consistency, you can only adjust the number of tokens. The embedding dimension is kept from above.\n",
        "num_ca_tokens = 2 #@param {type:\"slider\", min:\"1\", max:\"10\"}\n",
        "\n",
        "x2 = torch.rand([num_ca_tokens, num_embedding_features])\n",
        "x2"
      ]
    },
    {
      "cell_type": "markdown",
      "metadata": {
        "id": "OmV9pihNSumD"
      },
      "source": [
        "## Create a set of weight tensors. \n",
        "We are looking at single-head attention only for the moment. For multi-head attention, each weight matrix would be replicated (with independent weights) for each head. You will see this in the second half of the notebook.\n",
        "\n",
        "Each weight tensor has to have as many rows as the tokens have dimensions. Our input vectors have ```num_embedding_features``` dimensions. Let's create random weight matrices of the according size. You are free to select the other dimension, which will then be the internal embedding dimension.\n",
        "\n",
        "Observe how the size of these matrices does not depend on the number of tokens anymore.\n",
        "\n",
        "Note that this will result in a matrix output after the attention mechanism, instead of a single token."
      ]
    },
    {
      "cell_type": "code",
      "execution_count": 5,
      "metadata": {
        "id": "ZSd8O7IANOK5",
        "cellView": "form"
      },
      "outputs": [],
      "source": [
        "#@title Get K, Q, V transform matrices {run:\"auto\"}\n",
        "\n",
        "internal_embedding_dimensions = 7 #@param {type:\"slider\", min:\"1\", max:\"32\"}\n",
        "\n",
        "w_key = torch.rand([num_embedding_features,internal_embedding_dimensions])\n",
        "w_query = torch.rand([num_embedding_features,internal_embedding_dimensions])\n",
        "w_value = torch.rand([num_embedding_features,internal_embedding_dimensions])"
      ]
    },
    {
      "cell_type": "markdown",
      "metadata": {
        "id": "XqLOpyeETMBN"
      },
      "source": [
        "## K, Q, and V\n",
        "\n",
        "The actual keys, querys and values are the result of the multiplication of input tensor with weight tensors.\n",
        "\n",
        "Their dimension is:\n",
        "* each row has as many entries as the weight tensors (three in our setup)\n",
        "* the number of rows equals the number of input tokens (five in our setup)"
      ]
    },
    {
      "cell_type": "code",
      "execution_count": 15,
      "metadata": {
        "colab": {
          "base_uri": "https://localhost:8080/",
          "height": 236
        },
        "id": "TXXZUtWWNSjM",
        "outputId": "e77078b3-9dc8-4ad8-a1b5-3f1f94be0175"
      },
      "outputs": [
        {
          "output_type": "error",
          "ename": "RuntimeError",
          "evalue": "ignored",
          "traceback": [
            "\u001b[0;31m---------------------------------------------------------------------------\u001b[0m",
            "\u001b[0;31mRuntimeError\u001b[0m                              Traceback (most recent call last)",
            "\u001b[0;32m<ipython-input-15-820f6512fd26>\u001b[0m in \u001b[0;36m<module>\u001b[0;34m\u001b[0m\n\u001b[0;32m----> 1\u001b[0;31m \u001b[0mkeys\u001b[0m \u001b[0;34m=\u001b[0m \u001b[0mx\u001b[0m \u001b[0;34m@\u001b[0m \u001b[0mw_key\u001b[0m\u001b[0;34m\u001b[0m\u001b[0;34m\u001b[0m\u001b[0m\n\u001b[0m\u001b[1;32m      2\u001b[0m \u001b[0mquerys\u001b[0m \u001b[0;34m=\u001b[0m \u001b[0mx\u001b[0m \u001b[0;34m@\u001b[0m \u001b[0mw_query\u001b[0m\u001b[0;34m\u001b[0m\u001b[0;34m\u001b[0m\u001b[0m\n\u001b[1;32m      3\u001b[0m \u001b[0mvalues\u001b[0m \u001b[0;34m=\u001b[0m \u001b[0mx\u001b[0m \u001b[0;34m@\u001b[0m \u001b[0mw_value\u001b[0m\u001b[0;34m\u001b[0m\u001b[0;34m\u001b[0m\u001b[0m\n\u001b[1;32m      4\u001b[0m \u001b[0;34m\u001b[0m\u001b[0m\n\u001b[1;32m      5\u001b[0m \u001b[0;31m# This would be the cross attention with a potentially different number of tokens\u001b[0m\u001b[0;34m\u001b[0m\u001b[0;34m\u001b[0m\u001b[0;34m\u001b[0m\u001b[0m\n",
            "\u001b[0;31mRuntimeError\u001b[0m: mat1 and mat2 shapes cannot be multiplied (27x7 and 9x5)"
          ]
        }
      ],
      "source": [
        "keys = x @ w_key\n",
        "querys = x @ w_query\n",
        "values = x @ w_value\n",
        "\n",
        "# This would be the cross attention with a potentially different number of tokens\n",
        "xattn_q = x2 @ w_query\n",
        "\n",
        "\n",
        "print(\"Keys:\",keys)\n",
        "print(\"Queries:\",querys)\n",
        "print(\"Cross-attention Queries:\",xattn_q)\n",
        "print(\"Values:\",values)"
      ]
    },
    {
      "cell_type": "markdown",
      "metadata": {
        "id": "xNK5GEeBTfKC"
      },
      "source": [
        "## Softmax Attention\n",
        "\n",
        "The size of the square attention matrix equals the number of input tokens in both dimensions. "
      ]
    },
    {
      "cell_type": "code",
      "execution_count": 7,
      "metadata": {
        "colab": {
          "base_uri": "https://localhost:8080/",
          "height": 373
        },
        "id": "OoT9rEVZNVIN",
        "outputId": "eddca25c-818f-48fd-8394-d1d70f58cfa1"
      },
      "outputs": [
        {
          "output_type": "stream",
          "name": "stdout",
          "text": [
            "tensor([[0.0000, 0.0500, 0.9500, 0.0000, 0.0000],\n",
            "        [0.0000, 0.0100, 0.9900, 0.0000, 0.0000],\n",
            "        [0.0000, 0.0000, 1.0000, 0.0000, 0.0000],\n",
            "        [0.0000, 0.0200, 0.9800, 0.0000, 0.0000],\n",
            "        [0.0000, 0.0400, 0.9500, 0.0000, 0.0000]])\n"
          ]
        },
        {
          "output_type": "execute_result",
          "data": {
            "text/plain": [
              "<matplotlib.axes._subplots.AxesSubplot at 0x7f2bd92166a0>"
            ]
          },
          "metadata": {},
          "execution_count": 7
        },
        {
          "output_type": "display_data",
          "data": {
            "text/plain": [
              "<Figure size 432x288 with 2 Axes>"
            ],
            "image/png": "[encoded data removed]"
          },
          "metadata": {
            "needs_background": "light"
          }
        }
      ],
      "source": [
        "attn_scores = querys @ keys.T\n",
        "attn_scores_softmax = softmax(attn_scores, dim=-1)\n",
        "\n",
        "# For readability, round the scores to a definable number of decimal place.\n",
        "decimal_places = 2\n",
        "attn_scores_softmax = (attn_scores_softmax * 10**decimal_places).round() / (10**decimal_places)\n",
        "print(attn_scores_softmax)\n",
        "\n",
        "# Plot self attention matrix\n",
        "t = attn_scores_softmax.numpy()\n",
        "sns.heatmap(t)"
      ]
    },
    {
      "cell_type": "markdown",
      "source": [
        "## Do the same for \"cross attention\""
      ],
      "metadata": {
        "id": "purX4lQ8XkJF"
      }
    },
    {
      "cell_type": "code",
      "source": [
        "attn_scores = xattn_q @ keys.T\n",
        "attn_scores_softmax = softmax(attn_scores, dim=-1)\n",
        "\n",
        "# For readability, round the scores to a definable number of decimal place.\n",
        "decimal_places = 2\n",
        "attn_scores_softmax = (attn_scores_softmax * 10**decimal_places).round() / (10**decimal_places)\n",
        "print(attn_scores_softmax)\n",
        "\n",
        "# Plot self attention matrix\n",
        "t = attn_scores_softmax.numpy()\n",
        "sns.heatmap(t)"
      ],
      "metadata": {
        "colab": {
          "base_uri": "https://localhost:8080/",
          "height": 317
        },
        "id": "hM8FSWsWXc_y",
        "outputId": "bd2c3131-218c-450c-d14d-5fc07e1628e3"
      },
      "execution_count": 8,
      "outputs": [
        {
          "output_type": "stream",
          "name": "stdout",
          "text": [
            "tensor([[0.0000, 0.0800, 0.9200, 0.0000, 0.0000],\n",
            "        [0.0000, 0.0300, 0.9700, 0.0000, 0.0000]])\n"
          ]
        },
        {
          "output_type": "execute_result",
          "data": {
            "text/plain": [
              "<matplotlib.axes._subplots.AxesSubplot at 0x7f2bd691c5e0>"
            ]
          },
          "metadata": {},
          "execution_count": 8
        },
        {
          "output_type": "display_data",
          "data": {
            "text/plain": [
              "<Figure size 432x288 with 2 Axes>"
            ],
            "image/png": "[encoded data removed]"
          },
          "metadata": {
            "needs_background": "light"
          }
        }
      ]
    },
    {
      "cell_type": "markdown",
      "metadata": {
        "id": "jUABFsoQTyAV"
      },
      "source": [
        "## Multiply softmax attention with V to obtain the result\n",
        "\n",
        "In a transformer, dense layers would follow that can \n",
        "* reduce a multi-head attention result\n",
        "* enforce correct dimensionality to use output in next input.\n",
        "\n",
        "We will see this after the following experiment with multi-head attention."
      ]
    },
    {
      "cell_type": "code",
      "execution_count": 9,
      "metadata": {
        "colab": {
          "base_uri": "https://localhost:8080/"
        },
        "id": "uKW44_0GNjAU",
        "outputId": "36be60e1-264f-4ded-bd13-83c883ff2b36"
      },
      "outputs": [
        {
          "output_type": "stream",
          "name": "stdout",
          "text": [
            "tensor([[2.3158, 3.0597, 2.6203, 3.4243, 2.7460, 3.3650, 2.2939],\n",
            "        [2.3519, 3.0733, 2.6202, 3.4325, 2.7404, 3.3526, 2.2857]])\n"
          ]
        }
      ],
      "source": [
        "weighted_values = values[:,None] * attn_scores_softmax.T[:,:,None]\n",
        "outputs = weighted_values.sum(dim=0)\n",
        "print(outputs)"
      ]
    },
    {
      "cell_type": "markdown",
      "source": [
        "# Multi-Head Attention"
      ],
      "metadata": {
        "id": "_nVYTdZwwLvP"
      }
    },
    {
      "cell_type": "code",
      "source": [
        "#@title Define number of heads, and create according random weight matrices K, Q, V {run:\"auto\"}\n",
        "#@markdown The only required change is to stack multiple K, Q, V. \n",
        "\n",
        "num_heads = 4 #@param {type:\"slider\", min:\"2\", max:\"10\"}\n",
        "\n",
        "w_key = torch.rand([num_heads, num_embedding_features,internal_embedding_dimensions])\n",
        "w_query = torch.rand([num_heads,num_embedding_features,internal_embedding_dimensions])\n",
        "w_value = torch.rand([num_heads,num_embedding_features,internal_embedding_dimensions])\n",
        "w_key"
      ],
      "metadata": {
        "colab": {
          "base_uri": "https://localhost:8080/"
        },
        "cellView": "form",
        "id": "uKbJPwXkOoPX",
        "outputId": "baaecaba-d113-4234-d730-1a04f1c12dbe"
      },
      "execution_count": 26,
      "outputs": [
        {
          "output_type": "execute_result",
          "data": {
            "text/plain": [
              "tensor([[[0.2733, 0.7812, 0.7641, 0.3052, 0.4567, 0.9450, 0.4532],\n",
              "         [0.4498, 0.9423, 0.6074, 0.0151, 0.3515, 0.6659, 0.7264],\n",
              "         [0.3161, 0.3739, 0.8842, 0.4183, 0.2884, 0.0401, 0.3216],\n",
              "         [0.4397, 0.1095, 0.3900, 0.2027, 0.6039, 0.9574, 0.1609],\n",
              "         [0.4012, 0.6240, 0.8823, 0.0674, 0.4679, 0.8012, 0.5658],\n",
              "         [0.3115, 0.5811, 0.0562, 0.3933, 0.9291, 0.9854, 0.7168],\n",
              "         [0.6841, 0.4065, 0.8962, 0.2717, 0.7119, 0.2735, 0.1564],\n",
              "         [0.2171, 0.2496, 0.2217, 0.1499, 0.9656, 0.5199, 0.5577],\n",
              "         [0.1759, 0.0689, 0.7043, 0.5086, 0.3233, 0.7810, 0.8019]],\n",
              "\n",
              "        [[0.5563, 0.7499, 0.9050, 0.7064, 0.9931, 0.6419, 0.7703],\n",
              "         [0.4445, 0.6988, 0.7100, 0.0419, 0.9103, 0.5601, 0.3187],\n",
              "         [0.8106, 0.1023, 0.9072, 0.5147, 0.3790, 0.6388, 0.2224],\n",
              "         [0.4746, 0.0314, 0.5566, 0.3866, 0.8606, 0.6279, 0.0491],\n",
              "         [0.6473, 0.3451, 0.0674, 0.1621, 0.8616, 0.9747, 0.2555],\n",
              "         [0.9837, 0.5115, 0.3543, 0.8858, 0.4573, 0.5352, 0.7185],\n",
              "         [0.4240, 0.0292, 0.7796, 0.3188, 0.7300, 0.6219, 0.0061],\n",
              "         [0.1274, 0.2257, 0.9506, 0.5550, 0.0433, 0.3320, 0.2409],\n",
              "         [0.1814, 0.4081, 0.5917, 0.0555, 0.8039, 0.6006, 0.4750]],\n",
              "\n",
              "        [[0.9065, 0.9817, 0.7687, 0.1405, 0.5216, 0.5367, 0.0191],\n",
              "         [0.8483, 0.3380, 0.8412, 0.3114, 0.6876, 0.0069, 0.5241],\n",
              "         [0.2421, 0.5139, 0.3814, 0.9728, 0.3560, 0.2097, 0.6337],\n",
              "         [0.5285, 0.6040, 0.0712, 0.9423, 0.2115, 0.0490, 0.9138],\n",
              "         [0.9946, 0.1558, 0.8537, 0.6776, 0.8981, 0.0904, 0.3208],\n",
              "         [0.5404, 0.5335, 0.3205, 0.2948, 0.1462, 0.8919, 0.6945],\n",
              "         [0.0971, 0.8935, 0.3043, 0.9912, 0.5151, 0.3151, 0.0981],\n",
              "         [0.7820, 0.9752, 0.5421, 0.7442, 0.2608, 0.5517, 0.1054],\n",
              "         [0.4894, 0.5181, 0.0817, 0.5102, 0.9558, 0.2273, 0.1923]],\n",
              "\n",
              "        [[0.7466, 0.4574, 0.1870, 0.7836, 0.7003, 0.8965, 0.1491],\n",
              "         [0.1557, 0.0660, 0.7052, 0.5512, 0.9119, 0.3254, 0.5567],\n",
              "         [0.3619, 0.3033, 0.4156, 0.1205, 0.1423, 0.3109, 0.2582],\n",
              "         [0.7110, 0.1310, 0.9589, 0.1566, 0.3284, 0.9579, 0.5982],\n",
              "         [0.5874, 0.8473, 0.2928, 0.6142, 0.8573, 0.9206, 0.2481],\n",
              "         [0.4887, 0.2782, 0.5443, 0.7509, 0.1185, 0.8565, 0.0488],\n",
              "         [0.5285, 0.6789, 0.1182, 0.9510, 0.8572, 0.6288, 0.4802],\n",
              "         [0.2568, 0.8267, 0.6040, 0.9961, 0.6733, 0.1677, 0.4098],\n",
              "         [0.9457, 0.4469, 0.1170, 0.5582, 0.1009, 0.1613, 0.4525]]])"
            ]
          },
          "metadata": {},
          "execution_count": 26
        }
      ]
    },
    {
      "cell_type": "code",
      "execution_count": 27,
      "metadata": {
        "colab": {
          "base_uri": "https://localhost:8080/"
        },
        "outputId": "b411e668-c157-4f96-ae2c-d77504a11410",
        "id": "cNyAD9WWZYfh"
      },
      "outputs": [
        {
          "output_type": "stream",
          "name": "stdout",
          "text": [
            "tensor([[[1.8157, 2.1019, 2.2999, 1.1178, 2.6828, 3.2317, 1.8427],\n",
            "         [1.3291, 1.8748, 2.0221, 1.0467, 2.5268, 2.9395, 2.0953],\n",
            "         [1.7377, 1.9861, 3.0559, 1.5260, 3.0662, 3.6362, 2.7806],\n",
            "         [1.6107, 2.2659, 2.6252, 0.9703, 2.3986, 3.4231, 2.0946],\n",
            "         [2.1207, 2.6416, 3.2032, 1.0740, 2.8016, 3.5048, 2.2520]],\n",
            "\n",
            "        [[2.4292, 1.5015, 2.7006, 2.0039, 3.2472, 2.5751, 1.5071],\n",
            "         [2.0102, 1.5730, 2.7513, 1.9291, 2.5323, 2.2833, 1.6162],\n",
            "         [2.6223, 1.6623, 3.5269, 2.1561, 3.3469, 3.2624, 1.7831],\n",
            "         [2.3442, 1.7444, 2.5341, 1.7829, 3.3999, 2.8497, 1.6340],\n",
            "         [2.5197, 1.8270, 3.3573, 1.8460, 3.9198, 3.1641, 1.5236]],\n",
            "\n",
            "        [[2.3231, 2.8579, 1.7107, 2.5001, 1.7791, 1.5832, 1.9128],\n",
            "         [2.6233, 2.7401, 1.8852, 2.2075, 1.7762, 1.6191, 1.4930],\n",
            "         [3.2811, 3.2719, 2.1771, 3.5933, 2.6954, 1.6750, 2.3055],\n",
            "         [3.0458, 2.5804, 2.2711, 2.3839, 2.2638, 1.3091, 1.7270],\n",
            "         [3.1317, 3.1964, 2.5313, 3.1025, 2.5822, 1.3179, 1.9944]],\n",
            "\n",
            "        [[2.4045, 1.5371, 2.0451, 2.7143, 2.2708, 3.1263, 1.5486],\n",
            "         [2.1111, 1.7784, 1.9022, 2.6670, 2.0428, 2.3582, 1.3457],\n",
            "         [3.0242, 2.4424, 2.5804, 3.0107, 2.3348, 2.8654, 2.0069],\n",
            "         [2.4974, 1.8813, 1.9906, 2.6116, 2.5331, 3.1340, 1.4829],\n",
            "         [2.6371, 2.0503, 2.3949, 3.1201, 3.2148, 3.2790, 2.0468]]])\n"
          ]
        }
      ],
      "source": [
        "keys = x @ w_key\n",
        "querys = x @ w_query\n",
        "\n",
        "xattn_q = x2 @ w_query\n",
        "\n",
        "values = x @ w_value\n",
        "\n",
        "print(keys)\n",
        "#print(querys)\n",
        "#print(xattn_q)\n",
        "#print(values)"
      ]
    },
    {
      "cell_type": "code",
      "source": [
        "attn_scores = querys @ keys.mT \n",
        "attn_scores_softmax = softmax(attn_scores, dim=-1)\n",
        "\n",
        "# For readability, round the scores to a definable number of decimal place.\n",
        "decimal_places = 2\n",
        "attn_scores_softmax = (attn_scores_softmax * 10**decimal_places).round() / (10**decimal_places)\n",
        "#print(attn_scores_softmax)\n",
        "\n",
        "# Plot self attention matrix\n",
        "t = attn_scores_softmax.numpy()\n",
        "sns.heatmap(t[0])\n",
        "#sns.heatmap(t[1])"
      ],
      "metadata": {
        "colab": {
          "base_uri": "https://localhost:8080/",
          "height": 283
        },
        "id": "bKW_rBOtZe4Y",
        "outputId": "d1c3ad2e-4f8e-4b14-cf79-8e8d3910f585"
      },
      "execution_count": 29,
      "outputs": [
        {
          "output_type": "execute_result",
          "data": {
            "text/plain": [
              "<matplotlib.axes._subplots.AxesSubplot at 0x7f2bd588a670>"
            ]
          },
          "metadata": {},
          "execution_count": 29
        },
        {
          "output_type": "display_data",
          "data": {
            "text/plain": [
              "<Figure size 432x288 with 2 Axes>"
            ],
            "image/png": "[encoded data removed]"
          },
          "metadata": {
            "needs_background": "light"
          }
        }
      ]
    },
    {
      "cell_type": "code",
      "source": [
        "attn_scores = xattn_q @ keys.mT\n",
        "attn_scores_softmax = softmax(attn_scores, dim=-1)\n",
        "\n",
        "# For readability, round the scores to a definable number of decimal place.\n",
        "decimal_places = 2\n",
        "attn_scores_softmax = (attn_scores_softmax * 10**decimal_places).round() / (10**decimal_places)\n",
        "#print(attn_scores_softmax)\n",
        "\n",
        "# Plot self attention matrix\n",
        "t = attn_scores_softmax.numpy()\n",
        "sns.heatmap(t[0])"
      ],
      "metadata": {
        "colab": {
          "base_uri": "https://localhost:8080/",
          "height": 282
        },
        "id": "IE_QyISRZh_1",
        "outputId": "9f0d8df1-da17-4745-cba3-b7199ec739f0"
      },
      "execution_count": 30,
      "outputs": [
        {
          "output_type": "execute_result",
          "data": {
            "text/plain": [
              "<matplotlib.axes._subplots.AxesSubplot at 0x7f2bd5832a00>"
            ]
          },
          "metadata": {},
          "execution_count": 30
        },
        {
          "output_type": "display_data",
          "data": {
            "text/plain": [
              "<Figure size 432x288 with 2 Axes>"
            ],
            "image/png": "[encoded data removed]"
          },
          "metadata": {
            "needs_background": "light"
          }
        }
      ]
    },
    {
      "cell_type": "code",
      "source": [
        "weighted_values = values[:,:,None] * attn_scores_softmax.mT[:,:,:,None]\n",
        "outputs = weighted_values.sum(dim=0)\n",
        "print(outputs)"
      ],
      "metadata": {
        "colab": {
          "base_uri": "https://localhost:8080/"
        },
        "id": "bJH6eJC7Zkoj",
        "outputId": "58fed9fc-4ff1-4178-c564-15cba32d489d"
      },
      "execution_count": 31,
      "outputs": [
        {
          "output_type": "stream",
          "name": "stdout",
          "text": [
            "tensor([[[0.0818, 0.0855, 0.0803, 0.0936, 0.0743, 0.0939, 0.0795],\n",
            "         [0.0184, 0.0224, 0.0219, 0.0221, 0.0186, 0.0240, 0.0202]],\n",
            "\n",
            "        [[0.0177, 0.0233, 0.0211, 0.0223, 0.0185, 0.0248, 0.0211],\n",
            "         [0.0000, 0.0000, 0.0000, 0.0000, 0.0000, 0.0000, 0.0000]],\n",
            "\n",
            "        [[5.9505, 6.6217, 5.8784, 6.2094, 5.8684, 6.4434, 6.8259],\n",
            "         [6.2310, 6.9971, 6.3772, 6.6083, 6.2805, 6.8952, 7.2370]],\n",
            "\n",
            "        [[0.1511, 0.1489, 0.1283, 0.1514, 0.1225, 0.1803, 0.1577],\n",
            "         [0.0502, 0.0425, 0.0347, 0.0472, 0.0357, 0.0520, 0.0469]],\n",
            "\n",
            "        [[4.1549, 3.5221, 3.3135, 3.6626, 3.1550, 4.8024, 3.8495],\n",
            "         [4.0737, 3.3455, 3.0813, 3.5800, 3.0462, 4.6270, 3.7075]]])\n"
          ]
        }
      ]
    },
    {
      "cell_type": "markdown",
      "source": [
        "## Convert into expected shape for next layer\n",
        "\n",
        "A MLP is employed to \"fix the dimensions\". We require"
      ],
      "metadata": {
        "id": "-L_UzVeSampm"
      }
    },
    {
      "cell_type": "code",
      "source": [
        "mlp_weights = torch.tensor([[0.6905, 0.9040, 0.8092, 0.0374],\n",
        "        [0.7709, 0.1924, 0.0805, 0.0564],\n",
        "        [0.1738, 0.0420, 0.3183, 0.0574],\n",
        "        [0.7654, 0.7641, 0.9147, 0.6214],\n",
        "        [0.9611, 0.7082, 0.8878, 0.8399],\n",
        "        [0.5197, 0.7513, 0.5941, 0.5541]])\n",
        "\n",
        "result = combined_heads @ mlp_weights\n",
        "\n",
        "print(result)"
      ],
      "metadata": {
        "colab": {
          "base_uri": "https://localhost:8080/",
          "height": 236
        },
        "id": "4wAF_IZsaZTS",
        "outputId": "3699a974-b567-4826-c44c-52e8dd0e37bc"
      },
      "execution_count": 32,
      "outputs": [
        {
          "output_type": "error",
          "ename": "NameError",
          "evalue": "ignored",
          "traceback": [
            "\u001b[0;31m---------------------------------------------------------------------------\u001b[0m",
            "\u001b[0;31mNameError\u001b[0m                                 Traceback (most recent call last)",
            "\u001b[0;32m<ipython-input-32-51f0dd73d09c>\u001b[0m in \u001b[0;36m<module>\u001b[0;34m\u001b[0m\n\u001b[1;32m      6\u001b[0m         [0.5197, 0.7513, 0.5941, 0.5541]])\n\u001b[1;32m      7\u001b[0m \u001b[0;34m\u001b[0m\u001b[0m\n\u001b[0;32m----> 8\u001b[0;31m \u001b[0mresult\u001b[0m \u001b[0;34m=\u001b[0m \u001b[0mcombined_heads\u001b[0m \u001b[0;34m@\u001b[0m \u001b[0mmlp_weights\u001b[0m\u001b[0;34m\u001b[0m\u001b[0;34m\u001b[0m\u001b[0m\n\u001b[0m\u001b[1;32m      9\u001b[0m \u001b[0;34m\u001b[0m\u001b[0m\n\u001b[1;32m     10\u001b[0m \u001b[0mprint\u001b[0m\u001b[0;34m(\u001b[0m\u001b[0mresult\u001b[0m\u001b[0;34m)\u001b[0m\u001b[0;34m\u001b[0m\u001b[0;34m\u001b[0m\u001b[0m\n",
            "\u001b[0;31mNameError\u001b[0m: name 'combined_heads' is not defined"
          ]
        }
      ]
    },
    {
      "cell_type": "code",
      "source": [],
      "metadata": {
        "id": "mJIxYz5uhg9n"
      },
      "execution_count": null,
      "outputs": []
    }
  ],
  "metadata": {
    "colab": {
      "provenance": [],
      "toc_visible": true,
      "include_colab_link": true
    },
    "kernelspec": {
      "display_name": "torch",
      "language": "python",
      "name": "python3"
    },
    "language_info": {
      "codemirror_mode": {
        "name": "ipython",
        "version": 3
      },
      "file_extension": ".py",
      "mimetype": "text/x-python",
      "name": "python",
      "nbconvert_exporter": "python",
      "pygments_lexer": "ipython3",
      "version": "3.9.16"
    },
    "vscode": {
      "interpreter": {
        "hash": "cd15cf184ab1178a055b183ecb11f28577274e2cc0c29065c013381fe9f37159"
      }
    }
  },
  "nbformat": 4,
  "nbformat_minor": 0
}