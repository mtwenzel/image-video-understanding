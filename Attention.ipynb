{
  "cells": [
    {
      "cell_type": "markdown",
      "metadata": {
        "id": "view-in-github",
        "colab_type": "text"
      },
      "source": [
        "<a href=\"https://colab.research.google.com/github/mtwenzel/image-video-understanding/blob/master/Attention.ipynb\" target=\"_parent\"><img src=\"https://colab.research.google.com/assets/colab-badge.svg\" alt=\"Open In Colab\"/></a>"
      ]
    },
    {
      "cell_type": "markdown",
      "metadata": {
        "id": "J29FDh2JUNk_"
      },
      "source": [
        "# Self-Attention by Example\n",
        "\n",
        "Partially taken from https://towardsdatascience.com/illustrated-self-attention-2d627e33b20a#8481"
      ]
    },
    {
      "cell_type": "code",
      "execution_count": 1,
      "metadata": {
        "id": "HS7dexV7MphR"
      },
      "outputs": [],
      "source": [
        "import torch\n",
        "from torch.nn.functional import softmax\n",
        "\n",
        "import seaborn as sns"
      ]
    },
    {
      "cell_type": "markdown",
      "metadata": {
        "id": "7AoHRZd3SdJ0"
      },
      "source": [
        "## Create a tensor with input data.\n",
        "\n",
        "In a real setting, this tensor would be the result of some data encoding step (when considering the first input to the first attention layer), or the result of the previous attention layer.\n",
        "\n",
        "If for example your input is text, and your word embeddings have 512 dimensions, each row in the tensor $x$ would have 512 entries, and the tensor would have as many rows as your sentence has words."
      ]
    },
    {
      "cell_type": "code",
      "execution_count": 2,
      "metadata": {
        "id": "-E_fY_cdNJwO"
      },
      "outputs": [],
      "source": [
        "x = [\n",
        "  [1, 0, 1, 2], # Input 1\n",
        "  [1, 2, 0, 2], # Input 2\n",
        "  [1, 1, 1, 1],  # Input 3\n",
        "  [1, 0, 2, 1],\n",
        "  [2, 0, 1, 2]\n",
        " ]\n",
        "x = torch.tensor(x, dtype=torch.float32)\n",
        "\n",
        "# to demonstrate cross attention with smaller attention matrix analogous to Perceiver or DETR, create a \"learned queries\" matrix x2\n",
        "x2 = [\n",
        "  [1, 0, 1, 2], # Input 1\n",
        "  [1, 2, 0, 2] # Input 2\n",
        " ]\n",
        "x2 = torch.tensor(x2, dtype=torch.float32)\n"
      ]
    },
    {
      "cell_type": "markdown",
      "metadata": {
        "id": "OmV9pihNSumD"
      },
      "source": [
        "## Create a set of weight tensors. \n",
        "We are looking at single-head attention only. For multi-head attention, each weight matrix would be replicated (with independent weights) for each head.\n",
        "\n",
        "Each weight tensor has to have as many rows as the tokens have dimensions. Our input vectors have four.\n",
        "\n",
        "Note that this results in a matrix output after the attention mechanism, instead of a single token."
      ]
    },
    {
      "cell_type": "code",
      "execution_count": 3,
      "metadata": {
        "id": "ZSd8O7IANOK5"
      },
      "outputs": [],
      "source": [
        "w_key = [\n",
        "  [0, 0, 1],\n",
        "  [1, 1, 0],\n",
        "  [0, 1, 0],\n",
        "  [1, 1, 0]\n",
        "]\n",
        "w_query = [\n",
        "  [1, .2, 1],\n",
        "  [1, 0, .4],\n",
        "  [.5, 0, 1],\n",
        "  [0, .8, 1]\n",
        "]\n",
        "w_value = [\n",
        "  [0, 2, 0],\n",
        "  [0, 3, 0],\n",
        "  [1, 0, 3],\n",
        "  [1, 1, 0]\n",
        "]\n",
        "w_key = torch.tensor(w_key, dtype=torch.float32)\n",
        "w_query = torch.tensor(w_query, dtype=torch.float32)\n",
        "w_value = torch.tensor(w_value, dtype=torch.float32)"
      ]
    },
    {
      "cell_type": "markdown",
      "metadata": {
        "id": "XqLOpyeETMBN"
      },
      "source": [
        "## K, Q, and V\n",
        "\n",
        "The actual keys, querys and values are the result of the multiplication of input tensor with weight tensors.\n",
        "\n",
        "Their dimension is:\n",
        "* each row has as many entries as the weight tensors (three in our setup)\n",
        "* the number of rows equals the number of input tokens (five in our setup)"
      ]
    },
    {
      "cell_type": "code",
      "execution_count": 4,
      "metadata": {
        "colab": {
          "base_uri": "https://localhost:8080/"
        },
        "id": "TXXZUtWWNSjM",
        "outputId": "dfc651d7-836d-4b1d-c022-d729d6444fad"
      },
      "outputs": [
        {
          "output_type": "stream",
          "name": "stdout",
          "text": [
            "tensor([[2., 3., 1.],\n",
            "        [4., 4., 1.],\n",
            "        [2., 3., 1.],\n",
            "        [1., 3., 1.],\n",
            "        [2., 3., 2.]])\n",
            "tensor([[1.5000, 1.8000, 4.0000],\n",
            "        [3.0000, 1.8000, 3.8000],\n",
            "        [2.5000, 1.0000, 3.4000],\n",
            "        [2.0000, 1.0000, 4.0000],\n",
            "        [2.5000, 2.0000, 5.0000]])\n",
            "tensor([[ 3.,  4.,  3.],\n",
            "        [ 2., 10.,  0.],\n",
            "        [ 2.,  6.,  3.],\n",
            "        [ 3.,  3.,  6.],\n",
            "        [ 3.,  6.,  3.]])\n"
          ]
        }
      ],
      "source": [
        "keys = x @ w_key\n",
        "querys = x @ w_query\n",
        "values = x @ w_value\n",
        "\n",
        "print(keys)\n",
        "print(querys)\n",
        "print(values)"
      ]
    },
    {
      "cell_type": "markdown",
      "metadata": {
        "id": "xNK5GEeBTfKC"
      },
      "source": [
        "## Softmax Attention\n",
        "\n",
        "The size of the square attention matrix equals the number of input tokens in both dimensions. "
      ]
    },
    {
      "cell_type": "code",
      "execution_count": null,
      "metadata": {
        "colab": {
          "base_uri": "https://localhost:8080/",
          "height": 369
        },
        "id": "OoT9rEVZNVIN",
        "outputId": "ff35db65-a1e7-4e6b-9f9e-103e527edc5c"
      },
      "outputs": [
        {
          "name": "stdout",
          "output_type": "stream",
          "text": [
            "tensor([[0.0100, 0.6800, 0.0100, 0.0000, 0.3100],\n",
            "        [0.0000, 0.9800, 0.0000, 0.0000, 0.0200],\n",
            "        [0.0000, 0.9300, 0.0000, 0.0000, 0.0700],\n",
            "        [0.0000, 0.7200, 0.0000, 0.0000, 0.2700],\n",
            "        [0.0000, 0.8800, 0.0000, 0.0000, 0.1200]])\n"
          ]
        },
        {
          "data": {
            "text/plain": [
              "<AxesSubplot: >"
            ]
          },
          "execution_count": 5,
          "metadata": {},
          "output_type": "execute_result"
        },
        {
          "data": {
            "image/png": "[encoded data removed]",
            "text/plain": [
              "<Figure size 640x480 with 2 Axes>"
            ]
          },
          "metadata": {},
          "output_type": "display_data"
        }
      ],
      "source": [
        "attn_scores = querys @ keys.T\n",
        "attn_scores_softmax = softmax(attn_scores, dim=-1)\n",
        "\n",
        "# For readability, round the scores to a definable number of decimal place.\n",
        "decimal_places = 2\n",
        "attn_scores_softmax = (attn_scores_softmax * 10**decimal_places).round() / (10**decimal_places)\n",
        "print(attn_scores_softmax)\n",
        "\n",
        "# Plot self attention matrix\n",
        "t = attn_scores_softmax.numpy()\n",
        "sns.heatmap(t)"
      ]
    },
    {
      "cell_type": "markdown",
      "metadata": {
        "id": "jUABFsoQTyAV"
      },
      "source": [
        "## Multiply softmax attention with V to obtain the result\n",
        "\n",
        "In a transformer, dense layers would follow that can \n",
        "* reduce a multi-head attention result\n",
        "* enforce correct dimensionality to use output in next input.\n",
        "\n",
        "Note that the shape of the V tensor could as well be used to enforce a 4x5 output. Can you see how?"
      ]
    },
    {
      "cell_type": "code",
      "execution_count": null,
      "metadata": {
        "colab": {
          "base_uri": "https://localhost:8080/"
        },
        "id": "uKW44_0GNjAU",
        "outputId": "7ab63dad-fe4e-41a0-9ee4-e18b345e6af0"
      },
      "outputs": [
        {
          "name": "stdout",
          "output_type": "stream",
          "text": [
            "tensor([[2.3400, 8.7600, 0.9900],\n",
            "        [2.0200, 9.9200, 0.0600],\n",
            "        [2.0700, 9.7200, 0.2100],\n",
            "        [2.2500, 8.8200, 0.8100],\n",
            "        [2.1200, 9.5200, 0.3600]])\n"
          ]
        }
      ],
      "source": [
        "weighted_values = values[:,None] * attn_scores_softmax.T[:,:,None]\n",
        "outputs = weighted_values.sum(dim=0)\n",
        "print(outputs)"
      ]
    },
    {
      "cell_type": "code",
      "execution_count": null,
      "metadata": {
        "id": "fpb-dhcxrZ68"
      },
      "outputs": [],
      "source": []
    }
  ],
  "metadata": {
    "colab": {
      "provenance": [],
      "include_colab_link": true
    },
    "kernelspec": {
      "display_name": "torch",
      "language": "python",
      "name": "python3"
    },
    "language_info": {
      "codemirror_mode": {
        "name": "ipython",
        "version": 3
      },
      "file_extension": ".py",
      "mimetype": "text/x-python",
      "name": "python",
      "nbconvert_exporter": "python",
      "pygments_lexer": "ipython3",
      "version": "3.9.16"
    },
    "vscode": {
      "interpreter": {
        "hash": "cd15cf184ab1178a055b183ecb11f28577274e2cc0c29065c013381fe9f37159"
      }
    }
  },
  "nbformat": 4,
  "nbformat_minor": 0
}