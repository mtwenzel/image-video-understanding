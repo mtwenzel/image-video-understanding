{
  "cells": [
    {
      "cell_type": "markdown",
      "metadata": {
        "id": "view-in-github",
        "colab_type": "text"
      },
      "source": [
        "<a href=\"https://colab.research.google.com/github/mtwenzel/image-video-understanding/blob/master/Attention.ipynb\" target=\"_parent\"><img src=\"https://colab.research.google.com/assets/colab-badge.svg\" alt=\"Open In Colab\"/></a>"
      ]
    },
    {
      "cell_type": "markdown",
      "metadata": {
        "id": "J29FDh2JUNk_"
      },
      "source": [
        "# Self-Attention by Example\n",
        "\n",
        "Partially taken from https://towardsdatascience.com/illustrated-self-attention-2d627e33b20a#8481"
      ]
    },
    {
      "cell_type": "code",
      "execution_count": 2,
      "metadata": {
        "id": "HS7dexV7MphR",
        "cellView": "form"
      },
      "outputs": [],
      "source": [
        "#@title Imports\n",
        "import torch\n",
        "from torch.nn.functional import softmax\n",
        "\n",
        "import seaborn as sns"
      ]
    },
    {
      "cell_type": "markdown",
      "metadata": {
        "id": "7AoHRZd3SdJ0"
      },
      "source": [
        "## Create a tensor with input data.\n",
        "\n",
        "In a real setting, this tensor would be the result of some data encoding step (when considering the first input to the first attention layer), or the result of the previous attention layer.\n",
        "\n",
        "If for example your input is text, and your word embeddings have 512 dimensions, each row in the tensor $x$ would have 512 entries, and the tensor would have as many rows as your sentence has words.\n",
        "\n",
        "For images (here described along the lines of the ViT), the number of rows in $x$ is the number of tiles the images get subdivided into ($16 \\times 16$ in ViT). The length of each line is the length of the embedding vector after transforming each tile with the patch encoder. [See the ViT publication for details](https://arxiv.org/abs/2010.11929)\n",
        "\n",
        "Note that there is the embedding size of the original data, but also the internal encoding size that will be determined by the shape of the K, Q, and V matrices."
      ]
    },
    {
      "cell_type": "code",
      "source": [
        "#@title Define data matrix {run:\"auto\"}\n",
        "#@markdown We randomly create data of a given size. Set the number of tokens and the encoding/embedding length here.\n",
        "num_tokens = 5 #@param {type:\"slider\", min:\"1\", max:\"16\"}\n",
        "num_embedding_features = 9 #@param {type:\"slider\", min:\"1\", max:\"32\"}\n",
        "\n",
        "x = torch.rand([num_tokens,num_embedding_features])\n",
        "x"
      ],
      "metadata": {
        "colab": {
          "base_uri": "https://localhost:8080/"
        },
        "cellView": "form",
        "id": "h_FPHgn8fTEp",
        "outputId": "a116a7f4-eec1-4971-864c-0b58bc5ddb53"
      },
      "execution_count": 8,
      "outputs": [
        {
          "output_type": "execute_result",
          "data": {
            "text/plain": [
              "tensor([[0.6517, 0.8906, 0.7827, 0.8115, 0.7145, 0.6297, 0.2204, 0.4647, 0.6275],\n",
              "        [0.8142, 0.8812, 0.5804, 0.3748, 0.8576, 0.4797, 0.4079, 0.4926, 0.6268],\n",
              "        [0.2218, 0.0530, 0.2225, 0.2021, 0.6635, 0.3007, 0.4895, 0.6165, 0.6814],\n",
              "        [0.1457, 0.9908, 0.5565, 0.6999, 0.9631, 0.7079, 0.5562, 0.4271, 0.3888],\n",
              "        [0.2261, 0.6747, 0.4376, 0.8431, 0.2675, 0.7606, 0.7579, 0.4795, 0.8052]])"
            ]
          },
          "metadata": {},
          "execution_count": 8
        }
      ]
    },
    {
      "cell_type": "code",
      "execution_count": 16,
      "metadata": {
        "id": "-E_fY_cdNJwO",
        "colab": {
          "base_uri": "https://localhost:8080/"
        },
        "cellView": "form",
        "outputId": "d9ac7020-dae9-4085-d004-7fbc39965997"
      },
      "outputs": [
        {
          "output_type": "execute_result",
          "data": {
            "text/plain": [
              "tensor([[0.8430, 0.3511, 0.9490, 0.6537, 0.2568, 0.1407, 0.3621, 0.1959, 0.7121],\n",
              "        [0.5855, 0.7516, 0.8179, 0.9184, 0.2528, 0.0203, 0.7044, 0.7094, 0.3657]])"
            ]
          },
          "metadata": {},
          "execution_count": 16
        }
      ],
      "source": [
        "#@title Define second data matrix for cross attention {run:\"auto\"}\n",
        "#@markdown To demonstrate cross attention with smaller attention matrix analogous to Perceiver or DETR, create a \"learned queries\" matrix $x_2$\n",
        "#@markdown For consistency, you can only adjust the number of tokens. The embedding dimension is kept from above.\n",
        "num_ca_tokens = 2 #@param {type:\"slider\", min:\"1\", max:\"10\"}\n",
        "\n",
        "x2 = torch.rand([num_ca_tokens, num_embedding_features])\n",
        "x2"
      ]
    },
    {
      "cell_type": "markdown",
      "metadata": {
        "id": "OmV9pihNSumD"
      },
      "source": [
        "## Create a set of weight tensors. \n",
        "We are looking at single-head attention only for the moment. For multi-head attention, each weight matrix would be replicated (with independent weights) for each head. You will see this in the second half of the notebook.\n",
        "\n",
        "Each weight tensor has to have as many rows as the tokens have dimensions. Our input vectors have ```num_embedding_features``` dimensions. Let's create random weight matrices of the according size. You are free to select the other dimension, which will then be the internal embedding dimension.\n",
        "\n",
        "Observe how the size of these matrices does not depend on the number of tokens anymore.\n",
        "\n",
        "Note that this will result in a matrix output after the attention mechanism, instead of a single token."
      ]
    },
    {
      "cell_type": "code",
      "execution_count": 14,
      "metadata": {
        "id": "ZSd8O7IANOK5",
        "cellView": "form"
      },
      "outputs": [],
      "source": [
        "#@title Get K, Q, V {run:\"auto\"}\n",
        "\n",
        "internal_embedding_dimensions = 7 #@param {type:\"slider\", min:\"1\", max:\"32\"}\n",
        "\n",
        "w_key = torch.rand([num_embedding_features,internal_embedding_dimensions])\n",
        "w_query = torch.rand([num_embedding_features,internal_embedding_dimensions])\n",
        "w_value = torch.rand([num_embedding_features,internal_embedding_dimensions])"
      ]
    },
    {
      "cell_type": "markdown",
      "metadata": {
        "id": "XqLOpyeETMBN"
      },
      "source": [
        "## K, Q, and V\n",
        "\n",
        "The actual keys, querys and values are the result of the multiplication of input tensor with weight tensors.\n",
        "\n",
        "Their dimension is:\n",
        "* each row has as many entries as the weight tensors (three in our setup)\n",
        "* the number of rows equals the number of input tokens (five in our setup)"
      ]
    },
    {
      "cell_type": "code",
      "execution_count": 18,
      "metadata": {
        "colab": {
          "base_uri": "https://localhost:8080/"
        },
        "id": "TXXZUtWWNSjM",
        "outputId": "24f3f2fe-f9a9-4327-e009-cd6ed1a96e8f"
      },
      "outputs": [
        {
          "output_type": "stream",
          "name": "stdout",
          "text": [
            "Keys: tensor([[2.5897, 3.4990, 3.0024, 3.4828, 2.8932, 3.4983, 3.8478],\n",
            "        [2.2672, 3.0987, 3.0599, 3.4088, 2.8794, 3.2070, 3.4920],\n",
            "        [1.3091, 1.7048, 2.0314, 2.2647, 1.3877, 1.6308, 2.3068],\n",
            "        [2.2630, 3.4835, 2.7146, 3.2241, 2.4732, 3.0766, 3.4089],\n",
            "        [2.2300, 3.0621, 2.5522, 2.9022, 1.9396, 3.2127, 3.4243]])\n",
            "Queries: tensor([[4.2120, 2.1172, 2.6209, 3.3936, 1.6727, 4.0659, 3.0183],\n",
            "        [3.9962, 1.8665, 2.6113, 3.2344, 1.5313, 3.8870, 2.7400],\n",
            "        [2.1059, 1.2910, 1.7745, 2.0713, 0.9391, 2.1954, 1.3232],\n",
            "        [4.0678, 1.9888, 2.3130, 3.0192, 1.7567, 3.7109, 2.5710],\n",
            "        [3.4750, 1.8936, 1.9864, 3.1657, 1.7689, 3.4005, 2.4411]])\n",
            "Cross-attention Queries: tensor([[3.0445, 1.5360, 2.1254, 3.1568, 1.1841, 3.0001, 2.4078],\n",
            "        [3.3757, 1.8828, 1.9458, 3.3815, 1.4731, 3.4824, 2.5082]])\n",
            "Values: tensor([[2.5303, 2.1127, 3.8374, 3.7999, 2.9384, 3.0210, 3.0376],\n",
            "        [2.2076, 2.1000, 3.5818, 3.4944, 2.8775, 2.7790, 2.8775],\n",
            "        [1.4119, 1.4078, 2.1007, 2.1132, 1.7156, 1.3765, 1.9494],\n",
            "        [2.2105, 1.8831, 3.5905, 3.6241, 2.6707, 2.9108, 3.0839],\n",
            "        [2.3557, 1.9037, 3.5520, 3.6368, 2.4407, 2.7040, 2.6640]])\n"
          ]
        }
      ],
      "source": [
        "keys = x @ w_key\n",
        "querys = x @ w_query\n",
        "values = x @ w_value\n",
        "\n",
        "# This would be the cross attention with a potentially different number of tokens\n",
        "xattn_q = x2 @ w_query\n",
        "\n",
        "\n",
        "print(\"Keys:\",keys)\n",
        "print(\"Queries:\",querys)\n",
        "print(\"Cross-attention Queries:\",xattn_q)\n",
        "print(\"Values:\",values)"
      ]
    },
    {
      "cell_type": "markdown",
      "metadata": {
        "id": "xNK5GEeBTfKC"
      },
      "source": [
        "## Softmax Attention\n",
        "\n",
        "The size of the square attention matrix equals the number of input tokens in both dimensions. "
      ]
    },
    {
      "cell_type": "code",
      "execution_count": 19,
      "metadata": {
        "colab": {
          "base_uri": "https://localhost:8080/",
          "height": 369
        },
        "id": "OoT9rEVZNVIN",
        "outputId": "dada428e-d4d2-4db8-ef46-a11f2e43ac5c"
      },
      "outputs": [
        {
          "output_type": "stream",
          "name": "stdout",
          "text": [
            "tensor([[0.9900, 0.0100, 0.0000, 0.0000, 0.0000],\n",
            "        [0.9800, 0.0100, 0.0000, 0.0000, 0.0000],\n",
            "        [0.8900, 0.0800, 0.0000, 0.0200, 0.0000],\n",
            "        [0.9800, 0.0100, 0.0000, 0.0000, 0.0000],\n",
            "        [0.9800, 0.0200, 0.0000, 0.0000, 0.0000]])\n"
          ]
        },
        {
          "output_type": "execute_result",
          "data": {
            "text/plain": [
              "<matplotlib.axes._subplots.AxesSubplot at 0x7fc90b90fd90>"
            ]
          },
          "metadata": {},
          "execution_count": 19
        },
        {
          "output_type": "display_data",
          "data": {
            "text/plain": [
              "<Figure size 432x288 with 2 Axes>"
            ],
            "image/png": "[encoded data removed]"
          },
          "metadata": {
            "needs_background": "light"
          }
        }
      ],
      "source": [
        "attn_scores = querys @ keys.T\n",
        "attn_scores_softmax = softmax(attn_scores, dim=-1)\n",
        "\n",
        "# For readability, round the scores to a definable number of decimal place.\n",
        "decimal_places = 2\n",
        "attn_scores_softmax = (attn_scores_softmax * 10**decimal_places).round() / (10**decimal_places)\n",
        "print(attn_scores_softmax)\n",
        "\n",
        "# Plot self attention matrix\n",
        "t = attn_scores_softmax.numpy()\n",
        "sns.heatmap(t)"
      ]
    },
    {
      "cell_type": "markdown",
      "source": [
        "## Do the same for \"cross attention\""
      ],
      "metadata": {
        "id": "purX4lQ8XkJF"
      }
    },
    {
      "cell_type": "code",
      "source": [
        "attn_scores = xattn_q @ keys.T\n",
        "attn_scores_softmax = softmax(attn_scores, dim=-1)\n",
        "\n",
        "# For readability, round the scores to a definable number of decimal place.\n",
        "decimal_places = 2\n",
        "attn_scores_softmax = (attn_scores_softmax * 10**decimal_places).round() / (10**decimal_places)\n",
        "print(attn_scores_softmax)\n",
        "\n",
        "# Plot self attention matrix\n",
        "t = attn_scores_softmax.numpy()\n",
        "sns.heatmap(t)"
      ],
      "metadata": {
        "colab": {
          "base_uri": "https://localhost:8080/",
          "height": 317
        },
        "id": "hM8FSWsWXc_y",
        "outputId": "ffb5a1a5-0580-4ed2-ca69-79b27eca7f95"
      },
      "execution_count": 20,
      "outputs": [
        {
          "output_type": "stream",
          "name": "stdout",
          "text": [
            "tensor([[0.9600, 0.0300, 0.0000, 0.0000, 0.0000],\n",
            "        [0.9800, 0.0200, 0.0000, 0.0000, 0.0000]])\n"
          ]
        },
        {
          "output_type": "execute_result",
          "data": {
            "text/plain": [
              "<matplotlib.axes._subplots.AxesSubplot at 0x7fc90b90f040>"
            ]
          },
          "metadata": {},
          "execution_count": 20
        },
        {
          "output_type": "display_data",
          "data": {
            "text/plain": [
              "<Figure size 432x288 with 2 Axes>"
            ],
            "image/png": "[encoded data removed]"
          },
          "metadata": {
            "needs_background": "light"
          }
        }
      ]
    },
    {
      "cell_type": "markdown",
      "metadata": {
        "id": "jUABFsoQTyAV"
      },
      "source": [
        "## Multiply softmax attention with V to obtain the result\n",
        "\n",
        "In a transformer, dense layers would follow that can \n",
        "* reduce a multi-head attention result\n",
        "* enforce correct dimensionality to use output in next input.\n",
        "\n",
        "We will see this after the following experiment with multi-head attention."
      ]
    },
    {
      "cell_type": "code",
      "execution_count": 22,
      "metadata": {
        "colab": {
          "base_uri": "https://localhost:8080/"
        },
        "id": "uKW44_0GNjAU",
        "outputId": "c3bd07ca-a846-413b-8a58-11cf416846ce"
      },
      "outputs": [
        {
          "output_type": "stream",
          "name": "stdout",
          "text": [
            "tensor([[2.4954, 2.0912, 3.7913, 3.7528, 2.9072, 2.9835, 3.0024],\n",
            "        [2.5239, 2.1124, 3.8323, 3.7938, 2.9372, 3.0162, 3.0344]])\n"
          ]
        }
      ],
      "source": [
        "weighted_values = values[:,None] * attn_scores_softmax.T[:,:,None]\n",
        "outputs = weighted_values.sum(dim=0)\n",
        "print(outputs)"
      ]
    },
    {
      "cell_type": "markdown",
      "source": [
        "# Multi-Head Attention"
      ],
      "metadata": {
        "id": "fbvKL9qlY5rx"
      }
    },
    {
      "cell_type": "code",
      "execution_count": 24,
      "metadata": {
        "id": "C2rOtYHLY8fW"
      },
      "outputs": [],
      "source": [
        "w_key = [[\n",
        "  [0, 0, 1],\n",
        "  [1, 1, 0],\n",
        "  [0, 1, 0],\n",
        "  [1, 1, 0]\n",
        "],\n",
        "[\n",
        "  [0, .3, .1],\n",
        "  [1, 1, .2],\n",
        "  [0, .1, 0],\n",
        "  [.8, .1, 0]\n",
        "]]\n",
        "w_query = [[\n",
        "  [1, .2, 1],\n",
        "  [1, 0, .4],\n",
        "  [.5, 0, 1],\n",
        "  [0, .8, 1]\n",
        "],\n",
        "[\n",
        "  [1, .2, 1],\n",
        "  [1, 0, .4],\n",
        "  [.5, 0, 1],\n",
        "  [0, .8, 1]\n",
        "]]\n",
        "w_value = [[\n",
        "  [0, 2, 0],\n",
        "  [0, 3, 0],\n",
        "  [1, 0, 3],\n",
        "  [1, 1, 0]\n",
        "],\n",
        "[\n",
        "  [0, 2, 0],\n",
        "  [0, 3, 0],\n",
        "  [1, 0, 3],\n",
        "  [1, 1, 0]\n",
        "]]\n",
        "w_key = torch.tensor(w_key, dtype=torch.float32)\n",
        "w_query = torch.tensor(w_query, dtype=torch.float32)\n",
        "w_value = torch.tensor(w_value, dtype=torch.float32)"
      ]
    },
    {
      "cell_type": "code",
      "execution_count": 25,
      "metadata": {
        "colab": {
          "base_uri": "https://localhost:8080/",
          "height": 236
        },
        "outputId": "e4a3e52c-2069-4714-d743-4cdef83f2a1c",
        "id": "cNyAD9WWZYfh"
      },
      "outputs": [
        {
          "output_type": "error",
          "ename": "RuntimeError",
          "evalue": "ignored",
          "traceback": [
            "\u001b[0;31m---------------------------------------------------------------------------\u001b[0m",
            "\u001b[0;31mRuntimeError\u001b[0m                              Traceback (most recent call last)",
            "\u001b[0;32m<ipython-input-25-f21cc51f9f93>\u001b[0m in \u001b[0;36m<module>\u001b[0;34m\u001b[0m\n\u001b[0;32m----> 1\u001b[0;31m \u001b[0mkeys\u001b[0m \u001b[0;34m=\u001b[0m \u001b[0mx\u001b[0m \u001b[0;34m@\u001b[0m \u001b[0mw_key\u001b[0m\u001b[0;34m\u001b[0m\u001b[0;34m\u001b[0m\u001b[0m\n\u001b[0m\u001b[1;32m      2\u001b[0m \u001b[0mquerys\u001b[0m \u001b[0;34m=\u001b[0m \u001b[0mx\u001b[0m \u001b[0;34m@\u001b[0m \u001b[0mw_query\u001b[0m\u001b[0;34m\u001b[0m\u001b[0;34m\u001b[0m\u001b[0m\n\u001b[1;32m      3\u001b[0m \u001b[0;34m\u001b[0m\u001b[0m\n\u001b[1;32m      4\u001b[0m \u001b[0mxattn_q\u001b[0m \u001b[0;34m=\u001b[0m \u001b[0mx2\u001b[0m \u001b[0;34m@\u001b[0m \u001b[0mw_query\u001b[0m\u001b[0;34m\u001b[0m\u001b[0;34m\u001b[0m\u001b[0m\n\u001b[1;32m      5\u001b[0m \u001b[0;34m\u001b[0m\u001b[0m\n",
            "\u001b[0;31mRuntimeError\u001b[0m: mat1 and mat2 shapes cannot be multiplied (6x4 and 9x5)"
          ]
        }
      ],
      "source": [
        "keys = x @ w_key\n",
        "querys = x @ w_query\n",
        "\n",
        "xattn_q = x2 @ w_query\n",
        "\n",
        "values = x @ w_value\n",
        "\n",
        "print(keys)\n",
        "print(querys)\n",
        "print(xattn_q)\n",
        "print(values)"
      ]
    },
    {
      "cell_type": "code",
      "source": [
        "attn_scores = querys @ keys.mT \n",
        "attn_scores_softmax = softmax(attn_scores, dim=-1)\n",
        "\n",
        "# For readability, round the scores to a definable number of decimal place.\n",
        "decimal_places = 2\n",
        "attn_scores_softmax = (attn_scores_softmax * 10**decimal_places).round() / (10**decimal_places)\n",
        "print(attn_scores_softmax)\n",
        "\n",
        "# Plot self attention matrix\n",
        "t = attn_scores_softmax.numpy()\n",
        "sns.heatmap(t[0])\n",
        "#sns.heatmap(t[1])"
      ],
      "metadata": {
        "colab": {
          "base_uri": "https://localhost:8080/",
          "height": 473
        },
        "id": "bKW_rBOtZe4Y",
        "outputId": "3c6ff058-6bd0-441c-f299-64d2794954c1"
      },
      "execution_count": 22,
      "outputs": [
        {
          "output_type": "stream",
          "name": "stdout",
          "text": [
            "tensor([[[0.0100, 0.6800, 0.0100, 0.0000, 0.3100],\n",
            "         [0.0000, 0.9800, 0.0000, 0.0000, 0.0200],\n",
            "         [0.0000, 0.9300, 0.0000, 0.0000, 0.0700],\n",
            "         [0.0000, 0.7200, 0.0000, 0.0000, 0.2700],\n",
            "         [0.0000, 0.8800, 0.0000, 0.0000, 0.1200]],\n",
            "\n",
            "        [[0.0000, 0.9900, 0.0000, 0.0000, 0.0000],\n",
            "         [0.0000, 1.0000, 0.0000, 0.0000, 0.0000],\n",
            "         [0.0000, 1.0000, 0.0000, 0.0000, 0.0000],\n",
            "         [0.0000, 0.9900, 0.0000, 0.0000, 0.0000],\n",
            "         [0.0000, 1.0000, 0.0000, 0.0000, 0.0000]]])\n"
          ]
        },
        {
          "output_type": "execute_result",
          "data": {
            "text/plain": [
              "<matplotlib.axes._subplots.AxesSubplot at 0x7f26c9abf4c0>"
            ]
          },
          "metadata": {},
          "execution_count": 22
        },
        {
          "output_type": "display_data",
          "data": {
            "text/plain": [
              "<Figure size 432x288 with 2 Axes>"
            ],
            "image/png": "[encoded data removed]"
          },
          "metadata": {
            "needs_background": "light"
          }
        }
      ]
    },
    {
      "cell_type": "code",
      "source": [
        "attn_scores = xattn_q @ keys.mT\n",
        "attn_scores_softmax = softmax(attn_scores, dim=-1)\n",
        "\n",
        "# For readability, round the scores to a definable number of decimal place.\n",
        "decimal_places = 2\n",
        "attn_scores_softmax = (attn_scores_softmax * 10**decimal_places).round() / (10**decimal_places)\n",
        "print(attn_scores_softmax)\n",
        "\n",
        "# Plot self attention matrix\n",
        "t = attn_scores_softmax.numpy()\n",
        "sns.heatmap(t[0])"
      ],
      "metadata": {
        "colab": {
          "base_uri": "https://localhost:8080/",
          "height": 369
        },
        "id": "IE_QyISRZh_1",
        "outputId": "76ac01ad-405c-48f7-9e0d-eadce453ee94"
      },
      "execution_count": 23,
      "outputs": [
        {
          "output_type": "stream",
          "name": "stdout",
          "text": [
            "tensor([[[0.0100, 0.6800, 0.0100, 0.0000, 0.3100],\n",
            "         [0.0000, 0.9800, 0.0000, 0.0000, 0.0200]],\n",
            "\n",
            "        [[0.0000, 0.9900, 0.0000, 0.0000, 0.0000],\n",
            "         [0.0000, 1.0000, 0.0000, 0.0000, 0.0000]]])\n"
          ]
        },
        {
          "output_type": "execute_result",
          "data": {
            "text/plain": [
              "<matplotlib.axes._subplots.AxesSubplot at 0x7f26c9ab41f0>"
            ]
          },
          "metadata": {},
          "execution_count": 23
        },
        {
          "output_type": "display_data",
          "data": {
            "text/plain": [
              "<Figure size 432x288 with 2 Axes>"
            ],
            "image/png": "[encoded data removed]"
          },
          "metadata": {
            "needs_background": "light"
          }
        }
      ]
    },
    {
      "cell_type": "code",
      "source": [
        "weighted_values = values[:,:,None] * attn_scores_softmax.mT[:,:,:,None]\n",
        "outputs = weighted_values.sum(dim=0)\n",
        "print(outputs)"
      ],
      "metadata": {
        "colab": {
          "base_uri": "https://localhost:8080/"
        },
        "id": "bJH6eJC7Zkoj",
        "outputId": "7f6f03e8-5f47-4634-fca2-2b37320de041"
      },
      "execution_count": 26,
      "outputs": [
        {
          "output_type": "stream",
          "name": "stdout",
          "text": [
            "tensor([[[ 0.0300,  0.0400,  0.0300],\n",
            "         [ 0.0000,  0.0000,  0.0000]],\n",
            "\n",
            "        [[ 3.3400, 16.7000,  0.0000],\n",
            "         [ 3.9600, 19.8000,  0.0000]],\n",
            "\n",
            "        [[ 0.0200,  0.0600,  0.0300],\n",
            "         [ 0.0000,  0.0000,  0.0000]],\n",
            "\n",
            "        [[ 0.0000,  0.0000,  0.0000],\n",
            "         [ 0.0000,  0.0000,  0.0000]],\n",
            "\n",
            "        [[ 0.9300,  1.8600,  0.9300],\n",
            "         [ 0.0600,  0.1200,  0.0600]]])\n"
          ]
        }
      ]
    },
    {
      "cell_type": "markdown",
      "source": [
        "## Convert into expected shape for next layer\n",
        "\n",
        "A MLP is employed to \"fix the dimensions\". We require"
      ],
      "metadata": {
        "id": "-L_UzVeSampm"
      }
    },
    {
      "cell_type": "code",
      "source": [
        "mlp_weights = torch.tensor([[0.6905, 0.9040, 0.8092, 0.0374],\n",
        "        [0.7709, 0.1924, 0.0805, 0.0564],\n",
        "        [0.1738, 0.0420, 0.3183, 0.0574],\n",
        "        [0.7654, 0.7641, 0.9147, 0.6214],\n",
        "        [0.9611, 0.7082, 0.8878, 0.8399],\n",
        "        [0.5197, 0.7513, 0.5941, 0.5541]])\n",
        "\n",
        "result = combined_heads @ mlp_weights\n",
        "\n",
        "print(result)"
      ],
      "metadata": {
        "colab": {
          "base_uri": "https://localhost:8080/",
          "height": 236
        },
        "id": "4wAF_IZsaZTS",
        "outputId": "16c60297-461e-487c-cfbe-d96c00df25d6"
      },
      "execution_count": 23,
      "outputs": [
        {
          "output_type": "error",
          "ename": "NameError",
          "evalue": "ignored",
          "traceback": [
            "\u001b[0;31m---------------------------------------------------------------------------\u001b[0m",
            "\u001b[0;31mNameError\u001b[0m                                 Traceback (most recent call last)",
            "\u001b[0;32m<ipython-input-23-51f0dd73d09c>\u001b[0m in \u001b[0;36m<module>\u001b[0;34m\u001b[0m\n\u001b[1;32m      6\u001b[0m         [0.5197, 0.7513, 0.5941, 0.5541]])\n\u001b[1;32m      7\u001b[0m \u001b[0;34m\u001b[0m\u001b[0m\n\u001b[0;32m----> 8\u001b[0;31m \u001b[0mresult\u001b[0m \u001b[0;34m=\u001b[0m \u001b[0mcombined_heads\u001b[0m \u001b[0;34m@\u001b[0m \u001b[0mmlp_weights\u001b[0m\u001b[0;34m\u001b[0m\u001b[0;34m\u001b[0m\u001b[0m\n\u001b[0m\u001b[1;32m      9\u001b[0m \u001b[0;34m\u001b[0m\u001b[0m\n\u001b[1;32m     10\u001b[0m \u001b[0mprint\u001b[0m\u001b[0;34m(\u001b[0m\u001b[0mresult\u001b[0m\u001b[0;34m)\u001b[0m\u001b[0;34m\u001b[0m\u001b[0;34m\u001b[0m\u001b[0m\n",
            "\u001b[0;31mNameError\u001b[0m: name 'combined_heads' is not defined"
          ]
        }
      ]
    },
    {
      "cell_type": "code",
      "source": [],
      "metadata": {
        "id": "mJIxYz5uhg9n"
      },
      "execution_count": null,
      "outputs": []
    }
  ],
  "metadata": {
    "colab": {
      "provenance": [],
      "include_colab_link": true
    },
    "kernelspec": {
      "display_name": "torch",
      "language": "python",
      "name": "python3"
    },
    "language_info": {
      "codemirror_mode": {
        "name": "ipython",
        "version": 3
      },
      "file_extension": ".py",
      "mimetype": "text/x-python",
      "name": "python",
      "nbconvert_exporter": "python",
      "pygments_lexer": "ipython3",
      "version": "3.9.16"
    },
    "vscode": {
      "interpreter": {
        "hash": "cd15cf184ab1178a055b183ecb11f28577274e2cc0c29065c013381fe9f37159"
      }
    }
  },
  "nbformat": 4,
  "nbformat_minor": 0
}