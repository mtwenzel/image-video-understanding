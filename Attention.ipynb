{
  "nbformat": 4,
  "nbformat_minor": 0,
  "metadata": {
    "colab": {
      "provenance": [],
      "authorship_tag": "ABX9TyMv9diIqysNFo1j5sXZmlZp",
      "include_colab_link": true
    },
    "kernelspec": {
      "name": "python3",
      "display_name": "Python 3"
    },
    "language_info": {
      "name": "python"
    }
  },
  "cells": [
    {
      "cell_type": "markdown",
      "metadata": {
        "id": "view-in-github",
        "colab_type": "text"
      },
      "source": [
        "<a href=\"https://colab.research.google.com/github/mtwenzel/image-video-understanding/blob/master/Attention.ipynb\" target=\"_parent\"><img src=\"https://colab.research.google.com/assets/colab-badge.svg\" alt=\"Open In Colab\"/></a>"
      ]
    },
    {
      "cell_type": "markdown",
      "source": [
        "# Self-Attention by Example\n",
        "\n",
        "Partially taken from https://towardsdatascience.com/illustrated-self-attention-2d627e33b20a#8481"
      ],
      "metadata": {
        "id": "J29FDh2JUNk_"
      }
    },
    {
      "cell_type": "code",
      "execution_count": null,
      "metadata": {
        "id": "HS7dexV7MphR"
      },
      "outputs": [],
      "source": [
        "import torch\n",
        "from torch.nn.functional import softmax\n",
        "\n",
        "import seaborn as sns"
      ]
    },
    {
      "cell_type": "markdown",
      "source": [
        "## Create a tensor with input data.\n",
        "\n",
        "In a real setting, this tensor would be the result of some data encoding step (when considering the first input to the first attention layer), or the result of the previous attention layer.\n",
        "\n",
        "If for example your input is text, and your word embeddings have 512 dimensions, each row in the tensor $x$ would have 512 entries, and the tensor would have as many rows as your sentence has words."
      ],
      "metadata": {
        "id": "7AoHRZd3SdJ0"
      }
    },
    {
      "cell_type": "code",
      "source": [
        "x = [\n",
        "  [1, 0, 1, 2], # Input 1\n",
        "  [1, 2, 0, 2], # Input 2\n",
        "  [1, 1, 1, 1],  # Input 3\n",
        "  [1, 0, 2, 1],\n",
        "  [2, 0, 1, 2]\n",
        " ]\n",
        "x = torch.tensor(x, dtype=torch.float32)"
      ],
      "metadata": {
        "id": "-E_fY_cdNJwO"
      },
      "execution_count": null,
      "outputs": []
    },
    {
      "cell_type": "markdown",
      "source": [
        "## Create a set of weight tensors. \n",
        "We are looking at single-head attention only. For multi-head attention, each weight matrix would be replicated (with independent weights) for each head.\n",
        "\n",
        "Each weight tensor has to have as many rows as the tokens have dimensions. Our input vectors have four.\n",
        "\n",
        "Note that this results in a matrix output after the attention mechanism, instead of a single token."
      ],
      "metadata": {
        "id": "OmV9pihNSumD"
      }
    },
    {
      "cell_type": "code",
      "source": [
        "w_key = [\n",
        "  [0, 0, 1],\n",
        "  [1, 1, 0],\n",
        "  [0, 1, 0],\n",
        "  [1, 1, 0]\n",
        "]\n",
        "w_query = [\n",
        "  [1, .2, 1],\n",
        "  [1, 0, .4],\n",
        "  [.5, 0, 1],\n",
        "  [0, .8, 1]\n",
        "]\n",
        "w_value = [\n",
        "  [0, 2, 0],\n",
        "  [0, 3, 0],\n",
        "  [1, 0, 3],\n",
        "  [1, 1, 0]\n",
        "]\n",
        "w_key = torch.tensor(w_key, dtype=torch.float32)\n",
        "w_query = torch.tensor(w_query, dtype=torch.float32)\n",
        "w_value = torch.tensor(w_value, dtype=torch.float32)"
      ],
      "metadata": {
        "id": "ZSd8O7IANOK5"
      },
      "execution_count": null,
      "outputs": []
    },
    {
      "cell_type": "markdown",
      "source": [
        "## K, Q, and V\n",
        "\n",
        "The actual keys, querys and values are the result of the multiplication of input tensor with weight tensors.\n",
        "\n",
        "Their dimension is:\n",
        "* each row has as many entries as the weight tensors (three in our setup)\n",
        "* the number of rows equals the number of input tokens (five in our setup)"
      ],
      "metadata": {
        "id": "XqLOpyeETMBN"
      }
    },
    {
      "cell_type": "code",
      "source": [
        "keys = x @ w_key\n",
        "querys = x @ w_query\n",
        "values = x @ w_value\n",
        "\n",
        "print(keys)\n",
        "print(querys)\n",
        "print(values)"
      ],
      "metadata": {
        "colab": {
          "base_uri": "https://localhost:8080/"
        },
        "id": "TXXZUtWWNSjM",
        "outputId": "a1a45742-8076-4d68-cdf5-1aafef56d786"
      },
      "execution_count": null,
      "outputs": [
        {
          "output_type": "stream",
          "name": "stdout",
          "text": [
            "tensor([[2., 3., 1.],\n",
            "        [4., 4., 1.],\n",
            "        [2., 3., 1.],\n",
            "        [1., 3., 1.],\n",
            "        [2., 3., 2.]])\n",
            "tensor([[1.5000, 1.8000, 4.0000],\n",
            "        [3.0000, 1.8000, 3.8000],\n",
            "        [2.5000, 1.0000, 3.4000],\n",
            "        [2.0000, 1.0000, 4.0000],\n",
            "        [2.5000, 2.0000, 5.0000]])\n",
            "tensor([[ 3.,  4.,  3.],\n",
            "        [ 2., 10.,  0.],\n",
            "        [ 2.,  6.,  3.],\n",
            "        [ 3.,  3.,  6.],\n",
            "        [ 3.,  6.,  3.]])\n"
          ]
        }
      ]
    },
    {
      "cell_type": "markdown",
      "source": [
        "## Softmax Attention\n",
        "\n",
        "The size of the square attention matrix equals the number of input tokens in both dimensions. "
      ],
      "metadata": {
        "id": "xNK5GEeBTfKC"
      }
    },
    {
      "cell_type": "code",
      "source": [
        "attn_scores = querys @ keys.T\n",
        "attn_scores_softmax = softmax(attn_scores, dim=-1)\n",
        "\n",
        "# For readability, round the scores to a definable number of decimal place.\n",
        "decimal_places = 2\n",
        "attn_scores_softmax = (attn_scores_softmax * 10**decimal_places).round() / (10**decimal_places)\n",
        "print(attn_scores_softmax)\n",
        "\n",
        "# Plot self attention matrix\n",
        "t = attn_scores_softmax.numpy()\n",
        "sns.heatmap(t)"
      ],
      "metadata": {
        "colab": {
          "base_uri": "https://localhost:8080/",
          "height": 369
        },
        "id": "OoT9rEVZNVIN",
        "outputId": "ff35db65-a1e7-4e6b-9f9e-103e527edc5c"
      },
      "execution_count": null,
      "outputs": [
        {
          "output_type": "stream",
          "name": "stdout",
          "text": [
            "tensor([[0.0100, 0.6800, 0.0100, 0.0000, 0.3100],\n",
            "        [0.0000, 0.9800, 0.0000, 0.0000, 0.0200],\n",
            "        [0.0000, 0.9300, 0.0000, 0.0000, 0.0700],\n",
            "        [0.0000, 0.7200, 0.0000, 0.0000, 0.2700],\n",
            "        [0.0000, 0.8800, 0.0000, 0.0000, 0.1200]])\n"
          ]
        },
        {
          "output_type": "execute_result",
          "data": {
            "text/plain": [
              "<matplotlib.axes._subplots.AxesSubplot at 0x7f9132d80cd0>"
            ]
          },
          "metadata": {},
          "execution_count": 10
        },
        {
          "output_type": "display_data",
          "data": {
            "text/plain": [
              "<Figure size 432x288 with 2 Axes>"
            ],
            "image/png": "[encoded data removed]"
          },
          "metadata": {
            "needs_background": "light"
          }
        }
      ]
    },
    {
      "cell_type": "markdown",
      "source": [
        "## Small side experiment: Can a network be trained to predict the matmul softmax?"
      ],
      "metadata": {
        "id": "VR4bGVdofWZj"
      }
    },
    {
      "cell_type": "code",
      "source": [
        "import tensorflow as tf\n",
        "from tensorflow.keras.models import Sequential\n",
        "from tensorflow.keras.layers import Conv2D, InputLayer, Conv2DTranspose\n",
        "import numpy as np\n",
        "import seaborn as sns"
      ],
      "metadata": {
        "id": "XaEgqRtcxRBc"
      },
      "execution_count": null,
      "outputs": []
    },
    {
      "cell_type": "code",
      "source": [
        "def create_training_sample(size_x=512, size_y=512):\n",
        "  np_k = np.random.random([size_x,size_y])\n",
        "  np_q = np.random.random([size_x,size_y])\n",
        "  k = tf.convert_to_tensor(np_k)\n",
        "  q = tf.convert_to_tensor(np_q)\n",
        "  return np.array([np_k, np_q])  \n",
        "\n",
        "def create_training_dataset(num_examples, size_x=512, size_y=512):\n",
        "  data = np.array([create_training_sample(size_x,size_y) for _ in range(num_examples)])\n",
        "  labels = np.array(\n",
        "      [tf.nn.softmax(tf.matmul(item[0],tf.linalg.matrix_transpose(item[1]))).numpy() for item in data])\n",
        "  return np.moveaxis(data,1,-1), np.moveaxis(labels[:,np.newaxis],1,-1)"
      ],
      "metadata": {
        "id": "Mbon3IFIxeZf"
      },
      "execution_count": null,
      "outputs": []
    },
    {
      "cell_type": "code",
      "source": [
        "x,y = create_training_dataset(100,16,16)\n",
        "x_val, y_val = create_training_dataset(10,16,16)"
      ],
      "metadata": {
        "id": "01hyMSlsypc6"
      },
      "execution_count": null,
      "outputs": []
    },
    {
      "cell_type": "code",
      "source": [
        "# Create model\n",
        "\n",
        "def create_model(size_x, size_y):\n",
        "  model = Sequential()\n",
        "  model.add(InputLayer(input_shape=(size_x,size_y,2)))\n",
        "  model.add(Conv2D(filters=32, kernel_size=(5,5), padding='same', activation='relu'))\n",
        "  model.add(Conv2D(filters=32, kernel_size=(5,5), padding='same', activation='relu'))\n",
        "  model.add(Conv2D(filters=32, kernel_size=(5,5), padding='same', activation='relu'))\n",
        "  model.add(Conv2D(filters=1, kernel_size=(5,5), padding='same', activation='sigmoid'))\n",
        "  return model\n",
        "\n",
        "model = create_model(16,16)\n",
        "model.summary()"
      ],
      "metadata": {
        "colab": {
          "base_uri": "https://localhost:8080/"
        },
        "id": "crVbOdqjkJfv",
        "outputId": "524aff67-c595-4284-89f4-ff880620bab0"
      },
      "execution_count": null,
      "outputs": [
        {
          "output_type": "stream",
          "name": "stdout",
          "text": [
            "Model: \"sequential_6\"\n",
            "_________________________________________________________________\n",
            " Layer (type)                Output Shape              Param #   \n",
            "=================================================================\n",
            " conv2d_24 (Conv2D)          (None, 16, 16, 32)        1632      \n",
            "                                                                 \n",
            " conv2d_25 (Conv2D)          (None, 16, 16, 32)        25632     \n",
            "                                                                 \n",
            " conv2d_26 (Conv2D)          (None, 16, 16, 32)        25632     \n",
            "                                                                 \n",
            " conv2d_27 (Conv2D)          (None, 16, 16, 1)         801       \n",
            "                                                                 \n",
            "=================================================================\n",
            "Total params: 53,697\n",
            "Trainable params: 53,697\n",
            "Non-trainable params: 0\n",
            "_________________________________________________________________\n"
          ]
        }
      ]
    },
    {
      "cell_type": "code",
      "source": [
        "model.compile(optimizer='Adam', loss='mae')\n",
        "history=model.fit(x,y,batch_size=10, epochs=10, validation_data=(x_val, y_val))"
      ],
      "metadata": {
        "colab": {
          "base_uri": "https://localhost:8080/"
        },
        "id": "fkj0q2JSpWEv",
        "outputId": "a6683ae9-2d8b-44d9-e914-e7b753d03ce0"
      },
      "execution_count": null,
      "outputs": [
        {
          "output_type": "stream",
          "name": "stdout",
          "text": [
            "Epoch 1/10\n",
            "10/10 [==============================] - 1s 51ms/step - loss: 0.2032 - val_loss: 0.0617\n",
            "Epoch 2/10\n",
            "10/10 [==============================] - 0s 39ms/step - loss: 0.0622 - val_loss: 0.0625\n",
            "Epoch 3/10\n",
            "10/10 [==============================] - 0s 39ms/step - loss: 0.0625 - val_loss: 0.0625\n",
            "Epoch 4/10\n",
            "10/10 [==============================] - 0s 41ms/step - loss: 0.0625 - val_loss: 0.0625\n",
            "Epoch 5/10\n",
            "10/10 [==============================] - 0s 41ms/step - loss: 0.0625 - val_loss: 0.0625\n",
            "Epoch 6/10\n",
            "10/10 [==============================] - 0s 41ms/step - loss: 0.0625 - val_loss: 0.0625\n",
            "Epoch 7/10\n",
            "10/10 [==============================] - 0s 40ms/step - loss: 0.0625 - val_loss: 0.0625\n",
            "Epoch 8/10\n",
            "10/10 [==============================] - 0s 40ms/step - loss: 0.0625 - val_loss: 0.0625\n",
            "Epoch 9/10\n",
            "10/10 [==============================] - 0s 36ms/step - loss: 0.0625 - val_loss: 0.0625\n",
            "Epoch 10/10\n",
            "10/10 [==============================] - 0s 40ms/step - loss: 0.0625 - val_loss: 0.0625\n"
          ]
        }
      ]
    },
    {
      "cell_type": "code",
      "source": [
        "history.history['loss']\n",
        "xt, yt = create_training_dataset(1,16,16)"
      ],
      "metadata": {
        "id": "dNJvCJKfwHT9"
      },
      "execution_count": null,
      "outputs": []
    },
    {
      "cell_type": "code",
      "source": [
        "sns.heatmap(np.squeeze(yt))"
      ],
      "metadata": {
        "colab": {
          "base_uri": "https://localhost:8080/",
          "height": 283
        },
        "id": "tlJYDu-AxLKV",
        "outputId": "3055b5ac-c6a2-40e4-85d6-720b4a7f1f84"
      },
      "execution_count": null,
      "outputs": [
        {
          "output_type": "execute_result",
          "data": {
            "text/plain": [
              "<matplotlib.axes._subplots.AxesSubplot at 0x7f9ec4381730>"
            ]
          },
          "metadata": {},
          "execution_count": 36
        },
        {
          "output_type": "display_data",
          "data": {
            "text/plain": [
              "<Figure size 432x288 with 2 Axes>"
            ],
            "image/png": "[encoded data removed]"
          },
          "metadata": {
            "needs_background": "light"
          }
        }
      ]
    },
    {
      "cell_type": "code",
      "source": [
        "y_pred=model.predict(xt)\n",
        "sns.heatmap(np.squeeze(y_pred))"
      ],
      "metadata": {
        "colab": {
          "base_uri": "https://localhost:8080/",
          "height": 312
        },
        "id": "ZIyWqClFwsvQ",
        "outputId": "55e75367-b3a1-4447-e152-3ab64e828852"
      },
      "execution_count": null,
      "outputs": [
        {
          "output_type": "stream",
          "name": "stdout",
          "text": [
            "1/1 [==============================] - 0s 19ms/step\n"
          ]
        },
        {
          "output_type": "execute_result",
          "data": {
            "text/plain": [
              "<matplotlib.axes._subplots.AxesSubplot at 0x7f9ec431e100>"
            ]
          },
          "metadata": {},
          "execution_count": 37
        },
        {
          "output_type": "display_data",
          "data": {
            "text/plain": [
              "<Figure size 432x288 with 2 Axes>"
            ],
            "image/png": "[encoded data removed]"
          },
          "metadata": {
            "needs_background": "light"
          }
        }
      ]
    },
    {
      "cell_type": "code",
      "source": [
        "sns.heatmap(np.squeeze(yt-y_pred))"
      ],
      "metadata": {
        "colab": {
          "base_uri": "https://localhost:8080/",
          "height": 283
        },
        "id": "n9uNCcopw0Y4",
        "outputId": "a3b26922-35b3-4f6d-e0a0-e5df78a382ad"
      },
      "execution_count": null,
      "outputs": [
        {
          "output_type": "execute_result",
          "data": {
            "text/plain": [
              "<matplotlib.axes._subplots.AxesSubplot at 0x7f9ec24b77f0>"
            ]
          },
          "metadata": {},
          "execution_count": 35
        },
        {
          "output_type": "display_data",
          "data": {
            "text/plain": [
              "<Figure size 432x288 with 2 Axes>"
            ],
            "image/png": "[encoded data removed]"
          },
          "metadata": {
            "needs_background": "light"
          }
        }
      ]
    },
    {
      "cell_type": "markdown",
      "source": [
        "## Multiply softmax attention with V to obtain the result\n",
        "\n",
        "In a transformer, dense layers would follow that can \n",
        "* reduce a multi-head attention result\n",
        "* enforce correct dimensionality to use output in next input.\n",
        "\n",
        "Note that the shape of the V tensor could as well be used to enforce a 4x5 output. Can you see how?"
      ],
      "metadata": {
        "id": "jUABFsoQTyAV"
      }
    },
    {
      "cell_type": "code",
      "source": [
        "weighted_values = values[:,None] * attn_scores_softmax.T[:,:,None]\n",
        "outputs = weighted_values.sum(dim=0)\n",
        "print(outputs)"
      ],
      "metadata": {
        "colab": {
          "base_uri": "https://localhost:8080/"
        },
        "id": "uKW44_0GNjAU",
        "outputId": "7ab63dad-fe4e-41a0-9ee4-e18b345e6af0"
      },
      "execution_count": null,
      "outputs": [
        {
          "output_type": "stream",
          "name": "stdout",
          "text": [
            "tensor([[2.5000, 7.9400, 1.5300],\n",
            "        [2.0100, 9.9600, 0.0300],\n",
            "        [2.1500, 9.5200, 0.4200],\n",
            "        [2.7000, 6.9600, 2.1900],\n",
            "        [2.2700, 8.9200, 0.8100]])\n"
          ]
        }
      ]
    },
    {
      "cell_type": "code",
      "source": [
        "import math\n",
        "int(round(pow(4096,1./3.)))"
      ],
      "metadata": {
        "id": "-08Yobgs4hd3",
        "colab": {
          "base_uri": "https://localhost:8080/"
        },
        "outputId": "9ca69329-5630-4846-d324-4c170c6c4671"
      },
      "execution_count": null,
      "outputs": [
        {
          "output_type": "execute_result",
          "data": {
            "text/plain": [
              "16"
            ]
          },
          "metadata": {},
          "execution_count": 7
        }
      ]
    },
    {
      "cell_type": "code",
      "source": [],
      "metadata": {
        "id": "fpb-dhcxrZ68"
      },
      "execution_count": null,
      "outputs": []
    }
  ]
}