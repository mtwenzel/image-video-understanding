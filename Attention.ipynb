{
  "cells": [
    {
      "cell_type": "markdown",
      "metadata": {
        "id": "view-in-github",
        "colab_type": "text"
      },
      "source": [
        "<a href=\"https://colab.research.google.com/github/mtwenzel/image-video-understanding/blob/master/Attention.ipynb\" target=\"_parent\"><img src=\"https://colab.research.google.com/assets/colab-badge.svg\" alt=\"Open In Colab\"/></a>"
      ]
    },
    {
      "cell_type": "markdown",
      "metadata": {
        "id": "J29FDh2JUNk_"
      },
      "source": [
        "# Self-Attention by Example\n",
        "\n",
        "Partially taken from https://towardsdatascience.com/illustrated-self-attention-2d627e33b20a#8481"
      ]
    },
    {
      "cell_type": "code",
      "execution_count": 1,
      "metadata": {
        "id": "HS7dexV7MphR"
      },
      "outputs": [],
      "source": [
        "import torch\n",
        "from torch.nn.functional import softmax\n",
        "\n",
        "import seaborn as sns"
      ]
    },
    {
      "cell_type": "markdown",
      "metadata": {
        "id": "7AoHRZd3SdJ0"
      },
      "source": [
        "## Create a tensor with input data.\n",
        "\n",
        "In a real setting, this tensor would be the result of some data encoding step (when considering the first input to the first attention layer), or the result of the previous attention layer.\n",
        "\n",
        "If for example your input is text, and your word embeddings have 512 dimensions, each row in the tensor $x$ would have 512 entries, and the tensor would have as many rows as your sentence has words.\n",
        "\n",
        "For images (here described along the lines of the ViT), the number of rows in $x$ is the number of tiles the images get subdivided into ($16 \\times 16$ in ViT). The length of each line is the length of the embedding vector after transforming each tile with the patch encoder."
      ]
    },
    {
      "cell_type": "code",
      "source": [
        "#@title Define data matrix {run:\"auto\"}\n",
        "num_tokens = 5 #@param {type:\"slider\", min:\"1\", max:\"16\"}\n",
        "num_embedding_features = 4 #@param {type:\"slider\", min:\"1\", max:\"32\"}\n",
        "\n",
        "x = torch.rand([num_tokens,num_embedding_features])\n",
        "x"
      ],
      "metadata": {
        "id": "h_FPHgn8fTEp",
        "outputId": "17640978-8bee-4885-e0a4-6269644ce927",
        "colab": {
          "base_uri": "https://localhost:8080/"
        }
      },
      "execution_count": 32,
      "outputs": [
        {
          "output_type": "execute_result",
          "data": {
            "text/plain": [
              "tensor([[0.4640, 0.7313, 0.6313, 0.8603],\n",
              "        [0.6935, 0.3514, 0.8187, 0.9123],\n",
              "        [0.9469, 0.8060, 0.0087, 0.5288],\n",
              "        [0.9931, 0.7880, 0.0065, 0.9533],\n",
              "        [0.9596, 0.9449, 0.1825, 0.5689]])"
            ]
          },
          "metadata": {},
          "execution_count": 32
        }
      ]
    },
    {
      "cell_type": "code",
      "execution_count": 35,
      "metadata": {
        "id": "-E_fY_cdNJwO",
        "colab": {
          "base_uri": "https://localhost:8080/"
        },
        "cellView": "form",
        "outputId": "d9394412-fdd8-4039-dfb5-0fa558a7dcdf"
      },
      "outputs": [
        {
          "output_type": "execute_result",
          "data": {
            "text/plain": [
              "tensor([[0.4660, 0.9067, 0.5868, 0.5148],\n",
              "        [0.9806, 0.8167, 0.7530, 0.6002]])"
            ]
          },
          "metadata": {},
          "execution_count": 35
        }
      ],
      "source": [
        "#@title Define second data matrix for cross attention {run:\"auto\"}\n",
        "#@markdown To demonstrate cross attention with smaller attention matrix analogous to Perceiver or DETR, create a \"learned queries\" matrix $x_2$\n",
        "num_ca_tokens = 2 #@param {type:\"slider\", min:\"1\", max:\"10\"}\n",
        "\n",
        "x2 = torch.rand([num_ca_tokens, num_embedding_features])\n",
        "x2"
      ]
    },
    {
      "cell_type": "markdown",
      "metadata": {
        "id": "OmV9pihNSumD"
      },
      "source": [
        "## Create a set of weight tensors. \n",
        "We are looking at single-head attention only. For multi-head attention, each weight matrix would be replicated (with independent weights) for each head.\n",
        "\n",
        "Each weight tensor has to have as many rows as the tokens have dimensions. Our input vectors have four.\n",
        "\n",
        "Note that this results in a matrix output after the attention mechanism, instead of a single token."
      ]
    },
    {
      "cell_type": "code",
      "execution_count": 11,
      "metadata": {
        "id": "ZSd8O7IANOK5"
      },
      "outputs": [],
      "source": [
        "w_key = [\n",
        "  [0, 0, 1],\n",
        "  [1, 1, 0],\n",
        "  [0, 1, 0],\n",
        "  [1, 1, 0]\n",
        "]\n",
        "w_query = [\n",
        "  [1, .2, 1],\n",
        "  [1, 0, .4],\n",
        "  [.5, 0, 1],\n",
        "  [0, .8, 1]\n",
        "]\n",
        "w_value = [\n",
        "  [0, 2, 0],\n",
        "  [0, 3, 0],\n",
        "  [1, 0, 3],\n",
        "  [1, 1, 0]\n",
        "]\n",
        "w_key = torch.tensor(w_key, dtype=torch.float32)\n",
        "w_query = torch.tensor(w_query, dtype=torch.float32)\n",
        "w_value = torch.tensor(w_value, dtype=torch.float32)"
      ]
    },
    {
      "cell_type": "markdown",
      "metadata": {
        "id": "XqLOpyeETMBN"
      },
      "source": [
        "## K, Q, and V\n",
        "\n",
        "The actual keys, querys and values are the result of the multiplication of input tensor with weight tensors.\n",
        "\n",
        "Their dimension is:\n",
        "* each row has as many entries as the weight tensors (three in our setup)\n",
        "* the number of rows equals the number of input tokens (five in our setup)"
      ]
    },
    {
      "cell_type": "code",
      "execution_count": 12,
      "metadata": {
        "colab": {
          "base_uri": "https://localhost:8080/"
        },
        "id": "TXXZUtWWNSjM",
        "outputId": "25c337cd-a62c-4929-a7e5-6f9b17bcd6d7"
      },
      "outputs": [
        {
          "output_type": "stream",
          "name": "stdout",
          "text": [
            "tensor([[[2., 3., 1.],\n",
            "         [4., 4., 1.],\n",
            "         [2., 3., 1.],\n",
            "         [1., 3., 1.],\n",
            "         [2., 3., 2.]],\n",
            "\n",
            "        [[2., 3., 1.],\n",
            "         [4., 4., 1.],\n",
            "         [2., 3., 1.],\n",
            "         [1., 3., 1.],\n",
            "         [2., 3., 2.]]])\n",
            "tensor([[1.5000, 1.8000, 4.0000],\n",
            "        [3.0000, 1.8000, 3.8000],\n",
            "        [2.5000, 1.0000, 3.4000],\n",
            "        [2.0000, 1.0000, 4.0000],\n",
            "        [2.5000, 2.0000, 5.0000]])\n",
            "tensor([[1.5000, 1.8000, 4.0000],\n",
            "        [3.0000, 1.8000, 3.8000]])\n",
            "tensor([[ 3.,  4.,  3.],\n",
            "        [ 2., 10.,  0.],\n",
            "        [ 2.,  6.,  3.],\n",
            "        [ 3.,  3.,  6.],\n",
            "        [ 3.,  6.,  3.]])\n"
          ]
        }
      ],
      "source": [
        "keys = x @ w_key\n",
        "querys = x @ w_query\n",
        "\n",
        "xattn_q = x2 @ w_query\n",
        "\n",
        "values = x @ w_value\n",
        "\n",
        "print(keys)\n",
        "print(querys)\n",
        "print(xattn_q)\n",
        "print(values)"
      ]
    },
    {
      "cell_type": "markdown",
      "metadata": {
        "id": "xNK5GEeBTfKC"
      },
      "source": [
        "## Softmax Attention\n",
        "\n",
        "The size of the square attention matrix equals the number of input tokens in both dimensions. "
      ]
    },
    {
      "cell_type": "code",
      "execution_count": null,
      "metadata": {
        "colab": {
          "base_uri": "https://localhost:8080/",
          "height": 369
        },
        "id": "OoT9rEVZNVIN",
        "outputId": "ff35db65-a1e7-4e6b-9f9e-103e527edc5c"
      },
      "outputs": [
        {
          "name": "stdout",
          "output_type": "stream",
          "text": [
            "tensor([[0.0100, 0.6800, 0.0100, 0.0000, 0.3100],\n",
            "        [0.0000, 0.9800, 0.0000, 0.0000, 0.0200],\n",
            "        [0.0000, 0.9300, 0.0000, 0.0000, 0.0700],\n",
            "        [0.0000, 0.7200, 0.0000, 0.0000, 0.2700],\n",
            "        [0.0000, 0.8800, 0.0000, 0.0000, 0.1200]])\n"
          ]
        },
        {
          "data": {
            "text/plain": [
              "<AxesSubplot: >"
            ]
          },
          "execution_count": 5,
          "metadata": {},
          "output_type": "execute_result"
        },
        {
          "data": {
            "image/png": "[encoded data removed]",
            "text/plain": [
              "<Figure size 640x480 with 2 Axes>"
            ]
          },
          "metadata": {},
          "output_type": "display_data"
        }
      ],
      "source": [
        "attn_scores = querys @ keys.T\n",
        "attn_scores_softmax = softmax(attn_scores, dim=-1)\n",
        "\n",
        "# For readability, round the scores to a definable number of decimal place.\n",
        "decimal_places = 2\n",
        "attn_scores_softmax = (attn_scores_softmax * 10**decimal_places).round() / (10**decimal_places)\n",
        "print(attn_scores_softmax)\n",
        "\n",
        "# Plot self attention matrix\n",
        "t = attn_scores_softmax.numpy()\n",
        "sns.heatmap(t)"
      ]
    },
    {
      "cell_type": "markdown",
      "source": [
        "## Do the same for \"cross attention\""
      ],
      "metadata": {
        "id": "purX4lQ8XkJF"
      }
    },
    {
      "cell_type": "code",
      "source": [
        "attn_scores = xattn_q @ keys.T\n",
        "attn_scores_softmax = softmax(attn_scores, dim=-1)\n",
        "\n",
        "# For readability, round the scores to a definable number of decimal place.\n",
        "decimal_places = 2\n",
        "attn_scores_softmax = (attn_scores_softmax * 10**decimal_places).round() / (10**decimal_places)\n",
        "print(attn_scores_softmax)\n",
        "\n",
        "# Plot self attention matrix\n",
        "t = attn_scores_softmax.numpy()\n",
        "sns.heatmap(t)"
      ],
      "metadata": {
        "colab": {
          "base_uri": "https://localhost:8080/",
          "height": 317
        },
        "id": "hM8FSWsWXc_y",
        "outputId": "7b29dacf-fdb3-407a-9886-66a1a440c82c"
      },
      "execution_count": 10,
      "outputs": [
        {
          "output_type": "stream",
          "name": "stdout",
          "text": [
            "tensor([[0.0100, 0.6800, 0.0100, 0.0000, 0.3100],\n",
            "        [0.0000, 0.9800, 0.0000, 0.0000, 0.0200]])\n"
          ]
        },
        {
          "output_type": "execute_result",
          "data": {
            "text/plain": [
              "<matplotlib.axes._subplots.AxesSubplot at 0x7f26ccd14880>"
            ]
          },
          "metadata": {},
          "execution_count": 10
        },
        {
          "output_type": "display_data",
          "data": {
            "text/plain": [
              "<Figure size 432x288 with 2 Axes>"
            ],
            "image/png": "[encoded data removed]"
          },
          "metadata": {
            "needs_background": "light"
          }
        }
      ]
    },
    {
      "cell_type": "markdown",
      "metadata": {
        "id": "jUABFsoQTyAV"
      },
      "source": [
        "## Multiply softmax attention with V to obtain the result\n",
        "\n",
        "In a transformer, dense layers would follow that can \n",
        "* reduce a multi-head attention result\n",
        "* enforce correct dimensionality to use output in next input.\n",
        "\n",
        "Note that the shape of the V tensor could as well be used to enforce a 4x5 output. Can you see how?"
      ]
    },
    {
      "cell_type": "code",
      "execution_count": null,
      "metadata": {
        "colab": {
          "base_uri": "https://localhost:8080/"
        },
        "id": "uKW44_0GNjAU",
        "outputId": "7ab63dad-fe4e-41a0-9ee4-e18b345e6af0"
      },
      "outputs": [
        {
          "name": "stdout",
          "output_type": "stream",
          "text": [
            "tensor([[2.3400, 8.7600, 0.9900],\n",
            "        [2.0200, 9.9200, 0.0600],\n",
            "        [2.0700, 9.7200, 0.2100],\n",
            "        [2.2500, 8.8200, 0.8100],\n",
            "        [2.1200, 9.5200, 0.3600]])\n"
          ]
        }
      ],
      "source": [
        "weighted_values = values[:,None] * attn_scores_softmax.T[:,:,None]\n",
        "outputs = weighted_values.sum(dim=0)\n",
        "print(outputs)"
      ]
    },
    {
      "cell_type": "markdown",
      "source": [
        "# Multi-Head Attention"
      ],
      "metadata": {
        "id": "fbvKL9qlY5rx"
      }
    },
    {
      "cell_type": "code",
      "execution_count": 13,
      "metadata": {
        "id": "C2rOtYHLY8fW"
      },
      "outputs": [],
      "source": [
        "w_key = [[\n",
        "  [0, 0, 1],\n",
        "  [1, 1, 0],\n",
        "  [0, 1, 0],\n",
        "  [1, 1, 0]\n",
        "],\n",
        "[\n",
        "  [0, .3, .1],\n",
        "  [1, 1, .2],\n",
        "  [0, .1, 0],\n",
        "  [.8, .1, 0]\n",
        "]]\n",
        "w_query = [[\n",
        "  [1, .2, 1],\n",
        "  [1, 0, .4],\n",
        "  [.5, 0, 1],\n",
        "  [0, .8, 1]\n",
        "],\n",
        "[\n",
        "  [1, .2, 1],\n",
        "  [1, 0, .4],\n",
        "  [.5, 0, 1],\n",
        "  [0, .8, 1]\n",
        "]]\n",
        "w_value = [[\n",
        "  [0, 2, 0],\n",
        "  [0, 3, 0],\n",
        "  [1, 0, 3],\n",
        "  [1, 1, 0]\n",
        "],\n",
        "[\n",
        "  [0, 2, 0],\n",
        "  [0, 3, 0],\n",
        "  [1, 0, 3],\n",
        "  [1, 1, 0]\n",
        "]]\n",
        "w_key = torch.tensor(w_key, dtype=torch.float32)\n",
        "w_query = torch.tensor(w_query, dtype=torch.float32)\n",
        "w_value = torch.tensor(w_value, dtype=torch.float32)"
      ]
    },
    {
      "cell_type": "code",
      "execution_count": 14,
      "metadata": {
        "colab": {
          "base_uri": "https://localhost:8080/"
        },
        "outputId": "175b987c-9cad-40e8-9b1e-310a2fcba276",
        "id": "cNyAD9WWZYfh"
      },
      "outputs": [
        {
          "output_type": "stream",
          "name": "stdout",
          "text": [
            "tensor([[[2.0000, 3.0000, 1.0000],\n",
            "         [4.0000, 4.0000, 1.0000],\n",
            "         [2.0000, 3.0000, 1.0000],\n",
            "         [1.0000, 3.0000, 1.0000],\n",
            "         [2.0000, 3.0000, 2.0000]],\n",
            "\n",
            "        [[1.6000, 0.6000, 0.1000],\n",
            "         [3.6000, 2.5000, 0.5000],\n",
            "         [1.8000, 1.5000, 0.3000],\n",
            "         [0.8000, 0.6000, 0.1000],\n",
            "         [1.6000, 0.9000, 0.2000]]])\n",
            "tensor([[[1.5000, 1.8000, 4.0000],\n",
            "         [3.0000, 1.8000, 3.8000],\n",
            "         [2.5000, 1.0000, 3.4000],\n",
            "         [2.0000, 1.0000, 4.0000],\n",
            "         [2.5000, 2.0000, 5.0000]],\n",
            "\n",
            "        [[1.5000, 1.8000, 4.0000],\n",
            "         [3.0000, 1.8000, 3.8000],\n",
            "         [2.5000, 1.0000, 3.4000],\n",
            "         [2.0000, 1.0000, 4.0000],\n",
            "         [2.5000, 2.0000, 5.0000]]])\n",
            "tensor([[[1.5000, 1.8000, 4.0000],\n",
            "         [3.0000, 1.8000, 3.8000]],\n",
            "\n",
            "        [[1.5000, 1.8000, 4.0000],\n",
            "         [3.0000, 1.8000, 3.8000]]])\n",
            "tensor([[[ 3.,  4.,  3.],\n",
            "         [ 2., 10.,  0.],\n",
            "         [ 2.,  6.,  3.],\n",
            "         [ 3.,  3.,  6.],\n",
            "         [ 3.,  6.,  3.]],\n",
            "\n",
            "        [[ 3.,  4.,  3.],\n",
            "         [ 2., 10.,  0.],\n",
            "         [ 2.,  6.,  3.],\n",
            "         [ 3.,  3.,  6.],\n",
            "         [ 3.,  6.,  3.]]])\n"
          ]
        }
      ],
      "source": [
        "keys = x @ w_key\n",
        "querys = x @ w_query\n",
        "\n",
        "xattn_q = x2 @ w_query\n",
        "\n",
        "values = x @ w_value\n",
        "\n",
        "print(keys)\n",
        "print(querys)\n",
        "print(xattn_q)\n",
        "print(values)"
      ]
    },
    {
      "cell_type": "code",
      "source": [
        "attn_scores = querys @ keys.mT \n",
        "attn_scores_softmax = softmax(attn_scores, dim=-1)\n",
        "\n",
        "# For readability, round the scores to a definable number of decimal place.\n",
        "decimal_places = 2\n",
        "attn_scores_softmax = (attn_scores_softmax * 10**decimal_places).round() / (10**decimal_places)\n",
        "print(attn_scores_softmax)\n",
        "\n",
        "# Plot self attention matrix\n",
        "t = attn_scores_softmax.numpy()\n",
        "sns.heatmap(t[0])\n",
        "#sns.heatmap(t[1])"
      ],
      "metadata": {
        "colab": {
          "base_uri": "https://localhost:8080/",
          "height": 473
        },
        "id": "bKW_rBOtZe4Y",
        "outputId": "3c6ff058-6bd0-441c-f299-64d2794954c1"
      },
      "execution_count": 22,
      "outputs": [
        {
          "output_type": "stream",
          "name": "stdout",
          "text": [
            "tensor([[[0.0100, 0.6800, 0.0100, 0.0000, 0.3100],\n",
            "         [0.0000, 0.9800, 0.0000, 0.0000, 0.0200],\n",
            "         [0.0000, 0.9300, 0.0000, 0.0000, 0.0700],\n",
            "         [0.0000, 0.7200, 0.0000, 0.0000, 0.2700],\n",
            "         [0.0000, 0.8800, 0.0000, 0.0000, 0.1200]],\n",
            "\n",
            "        [[0.0000, 0.9900, 0.0000, 0.0000, 0.0000],\n",
            "         [0.0000, 1.0000, 0.0000, 0.0000, 0.0000],\n",
            "         [0.0000, 1.0000, 0.0000, 0.0000, 0.0000],\n",
            "         [0.0000, 0.9900, 0.0000, 0.0000, 0.0000],\n",
            "         [0.0000, 1.0000, 0.0000, 0.0000, 0.0000]]])\n"
          ]
        },
        {
          "output_type": "execute_result",
          "data": {
            "text/plain": [
              "<matplotlib.axes._subplots.AxesSubplot at 0x7f26c9abf4c0>"
            ]
          },
          "metadata": {},
          "execution_count": 22
        },
        {
          "output_type": "display_data",
          "data": {
            "text/plain": [
              "<Figure size 432x288 with 2 Axes>"
            ],
            "image/png": "[encoded data removed]"
          },
          "metadata": {
            "needs_background": "light"
          }
        }
      ]
    },
    {
      "cell_type": "code",
      "source": [
        "attn_scores = xattn_q @ keys.mT\n",
        "attn_scores_softmax = softmax(attn_scores, dim=-1)\n",
        "\n",
        "# For readability, round the scores to a definable number of decimal place.\n",
        "decimal_places = 2\n",
        "attn_scores_softmax = (attn_scores_softmax * 10**decimal_places).round() / (10**decimal_places)\n",
        "print(attn_scores_softmax)\n",
        "\n",
        "# Plot self attention matrix\n",
        "t = attn_scores_softmax.numpy()\n",
        "sns.heatmap(t[0])"
      ],
      "metadata": {
        "colab": {
          "base_uri": "https://localhost:8080/",
          "height": 369
        },
        "id": "IE_QyISRZh_1",
        "outputId": "76ac01ad-405c-48f7-9e0d-eadce453ee94"
      },
      "execution_count": 23,
      "outputs": [
        {
          "output_type": "stream",
          "name": "stdout",
          "text": [
            "tensor([[[0.0100, 0.6800, 0.0100, 0.0000, 0.3100],\n",
            "         [0.0000, 0.9800, 0.0000, 0.0000, 0.0200]],\n",
            "\n",
            "        [[0.0000, 0.9900, 0.0000, 0.0000, 0.0000],\n",
            "         [0.0000, 1.0000, 0.0000, 0.0000, 0.0000]]])\n"
          ]
        },
        {
          "output_type": "execute_result",
          "data": {
            "text/plain": [
              "<matplotlib.axes._subplots.AxesSubplot at 0x7f26c9ab41f0>"
            ]
          },
          "metadata": {},
          "execution_count": 23
        },
        {
          "output_type": "display_data",
          "data": {
            "text/plain": [
              "<Figure size 432x288 with 2 Axes>"
            ],
            "image/png": "[encoded data removed]"
          },
          "metadata": {
            "needs_background": "light"
          }
        }
      ]
    },
    {
      "cell_type": "code",
      "source": [
        "weighted_values = values[:,:,None] * attn_scores_softmax.mT[:,:,:,None]\n",
        "outputs = weighted_values.sum(dim=0)\n",
        "print(outputs)"
      ],
      "metadata": {
        "colab": {
          "base_uri": "https://localhost:8080/"
        },
        "id": "bJH6eJC7Zkoj",
        "outputId": "7f6f03e8-5f47-4634-fca2-2b37320de041"
      },
      "execution_count": 26,
      "outputs": [
        {
          "output_type": "stream",
          "name": "stdout",
          "text": [
            "tensor([[[ 0.0300,  0.0400,  0.0300],\n",
            "         [ 0.0000,  0.0000,  0.0000]],\n",
            "\n",
            "        [[ 3.3400, 16.7000,  0.0000],\n",
            "         [ 3.9600, 19.8000,  0.0000]],\n",
            "\n",
            "        [[ 0.0200,  0.0600,  0.0300],\n",
            "         [ 0.0000,  0.0000,  0.0000]],\n",
            "\n",
            "        [[ 0.0000,  0.0000,  0.0000],\n",
            "         [ 0.0000,  0.0000,  0.0000]],\n",
            "\n",
            "        [[ 0.9300,  1.8600,  0.9300],\n",
            "         [ 0.0600,  0.1200,  0.0600]]])\n"
          ]
        }
      ]
    },
    {
      "cell_type": "markdown",
      "source": [
        "## Convert into expected shape for next layer\n",
        "\n",
        "A MLP is employed to \"fix the dimensions\". We require"
      ],
      "metadata": {
        "id": "-L_UzVeSampm"
      }
    },
    {
      "cell_type": "code",
      "source": [],
      "metadata": {
        "id": "4wAF_IZsaZTS"
      },
      "execution_count": null,
      "outputs": []
    }
  ],
  "metadata": {
    "colab": {
      "provenance": [],
      "include_colab_link": true
    },
    "kernelspec": {
      "display_name": "torch",
      "language": "python",
      "name": "python3"
    },
    "language_info": {
      "codemirror_mode": {
        "name": "ipython",
        "version": 3
      },
      "file_extension": ".py",
      "mimetype": "text/x-python",
      "name": "python",
      "nbconvert_exporter": "python",
      "pygments_lexer": "ipython3",
      "version": "3.9.16"
    },
    "vscode": {
      "interpreter": {
        "hash": "cd15cf184ab1178a055b183ecb11f28577274e2cc0c29065c013381fe9f37159"
      }
    }
  },
  "nbformat": 4,
  "nbformat_minor": 0
}