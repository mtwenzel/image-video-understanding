{
  "cells": [
    {
      "cell_type": "markdown",
      "metadata": {
        "id": "view-in-github",
        "colab_type": "text"
      },
      "source": [
        "<a href=\"https://colab.research.google.com/github/mtwenzel/image-video-understanding/blob/master/Attention.ipynb\" target=\"_parent\"><img src=\"https://colab.research.google.com/assets/colab-badge.svg\" alt=\"Open In Colab\"/></a>"
      ]
    },
    {
      "cell_type": "markdown",
      "metadata": {
        "id": "J29FDh2JUNk_"
      },
      "source": [
        "# Self-Attention by Example\n",
        "\n",
        "Partially taken from https://towardsdatascience.com/illustrated-self-attention-2d627e33b20a#8481"
      ]
    },
    {
      "cell_type": "code",
      "execution_count": 1,
      "metadata": {
        "id": "HS7dexV7MphR"
      },
      "outputs": [],
      "source": [
        "import torch\n",
        "from torch.nn.functional import softmax\n",
        "\n",
        "import seaborn as sns"
      ]
    },
    {
      "cell_type": "markdown",
      "metadata": {
        "id": "7AoHRZd3SdJ0"
      },
      "source": [
        "## Create a tensor with input data.\n",
        "\n",
        "In a real setting, this tensor would be the result of some data encoding step (when considering the first input to the first attention layer), or the result of the previous attention layer.\n",
        "\n",
        "If for example your input is text, and your word embeddings have 512 dimensions, each row in the tensor $x$ would have 512 entries, and the tensor would have as many rows as your sentence has words."
      ]
    },
    {
      "cell_type": "code",
      "execution_count": 2,
      "metadata": {
        "id": "-E_fY_cdNJwO"
      },
      "outputs": [],
      "source": [
        "x = [\n",
        "  [1, 0, 1, 2], # Input 1\n",
        "  [1, 2, 0, 2], # Input 2\n",
        "  [1, 1, 1, 1],  # Input 3\n",
        "  [1, 0, 2, 1],\n",
        "  [2, 0, 1, 2]\n",
        " ]\n",
        "x = torch.tensor(x, dtype=torch.float32)\n",
        "\n",
        "# to demonstrate cross attention with smaller attention matrix analogous to Perceiver or DETR, create a \"learned queries\" matrix x2\n",
        "x2 = [\n",
        "  [1, 0, 1, 2], # Input 1\n",
        "  [1, 2, 0, 2] # Input 2\n",
        " ]\n",
        "x2 = torch.tensor(x2, dtype=torch.float32)\n"
      ]
    },
    {
      "cell_type": "markdown",
      "metadata": {
        "id": "OmV9pihNSumD"
      },
      "source": [
        "## Create a set of weight tensors. \n",
        "We are looking at single-head attention only. For multi-head attention, each weight matrix would be replicated (with independent weights) for each head.\n",
        "\n",
        "Each weight tensor has to have as many rows as the tokens have dimensions. Our input vectors have four.\n",
        "\n",
        "Note that this results in a matrix output after the attention mechanism, instead of a single token."
      ]
    },
    {
      "cell_type": "code",
      "execution_count": 3,
      "metadata": {
        "id": "ZSd8O7IANOK5"
      },
      "outputs": [],
      "source": [
        "w_key = [\n",
        "  [0, 0, 1],\n",
        "  [1, 1, 0],\n",
        "  [0, 1, 0],\n",
        "  [1, 1, 0]\n",
        "]\n",
        "w_query = [\n",
        "  [1, .2, 1],\n",
        "  [1, 0, .4],\n",
        "  [.5, 0, 1],\n",
        "  [0, .8, 1]\n",
        "]\n",
        "w_value = [\n",
        "  [0, 2, 0],\n",
        "  [0, 3, 0],\n",
        "  [1, 0, 3],\n",
        "  [1, 1, 0]\n",
        "]\n",
        "w_key = torch.tensor(w_key, dtype=torch.float32)\n",
        "w_query = torch.tensor(w_query, dtype=torch.float32)\n",
        "w_value = torch.tensor(w_value, dtype=torch.float32)"
      ]
    },
    {
      "cell_type": "markdown",
      "metadata": {
        "id": "XqLOpyeETMBN"
      },
      "source": [
        "## K, Q, and V\n",
        "\n",
        "The actual keys, querys and values are the result of the multiplication of input tensor with weight tensors.\n",
        "\n",
        "Their dimension is:\n",
        "* each row has as many entries as the weight tensors (three in our setup)\n",
        "* the number of rows equals the number of input tokens (five in our setup)"
      ]
    },
    {
      "cell_type": "code",
      "execution_count": 4,
      "metadata": {
        "colab": {
          "base_uri": "https://localhost:8080/"
        },
        "id": "TXXZUtWWNSjM",
        "outputId": "5f85e677-e64a-48e5-e63b-b13254a6efa9"
      },
      "outputs": [
        {
          "output_type": "stream",
          "name": "stdout",
          "text": [
            "tensor([[2., 3., 1.],\n",
            "        [4., 4., 1.],\n",
            "        [2., 3., 1.],\n",
            "        [1., 3., 1.],\n",
            "        [2., 3., 2.]])\n",
            "tensor([[1.5000, 1.8000, 4.0000],\n",
            "        [3.0000, 1.8000, 3.8000],\n",
            "        [2.5000, 1.0000, 3.4000],\n",
            "        [2.0000, 1.0000, 4.0000],\n",
            "        [2.5000, 2.0000, 5.0000]])\n",
            "tensor([[1.5000, 1.8000, 4.0000],\n",
            "        [3.0000, 1.8000, 3.8000]])\n",
            "tensor([[ 3.,  4.,  3.],\n",
            "        [ 2., 10.,  0.],\n",
            "        [ 2.,  6.,  3.],\n",
            "        [ 3.,  3.,  6.],\n",
            "        [ 3.,  6.,  3.]])\n"
          ]
        }
      ],
      "source": [
        "keys = x @ w_key\n",
        "querys = x @ w_query\n",
        "\n",
        "xattn_q = x2 @ w_query\n",
        "\n",
        "values = x @ w_value\n",
        "\n",
        "print(keys)\n",
        "print(querys)\n",
        "print(xattn_q)\n",
        "print(values)"
      ]
    },
    {
      "cell_type": "markdown",
      "metadata": {
        "id": "xNK5GEeBTfKC"
      },
      "source": [
        "## Softmax Attention\n",
        "\n",
        "The size of the square attention matrix equals the number of input tokens in both dimensions. "
      ]
    },
    {
      "cell_type": "code",
      "execution_count": 5,
      "metadata": {
        "colab": {
          "base_uri": "https://localhost:8080/",
          "height": 369
        },
        "id": "OoT9rEVZNVIN",
        "outputId": "2cf93fbf-7a10-4c11-86af-4ca24ea28905"
      },
      "outputs": [
        {
          "output_type": "stream",
          "name": "stdout",
          "text": [
            "tensor([[0.0100, 0.6800, 0.0100, 0.0000, 0.3100],\n",
            "        [0.0000, 0.9800, 0.0000, 0.0000, 0.0200],\n",
            "        [0.0000, 0.9300, 0.0000, 0.0000, 0.0700],\n",
            "        [0.0000, 0.7200, 0.0000, 0.0000, 0.2700],\n",
            "        [0.0000, 0.8800, 0.0000, 0.0000, 0.1200]])\n"
          ]
        },
        {
          "output_type": "execute_result",
          "data": {
            "text/plain": [
              "<matplotlib.axes._subplots.AxesSubplot at 0x7fdd185989a0>"
            ]
          },
          "metadata": {},
          "execution_count": 5
        },
        {
          "output_type": "display_data",
          "data": {
            "text/plain": [
              "<Figure size 432x288 with 2 Axes>"
            ],
            "image/png": "[encoded data removed]"
          },
          "metadata": {
            "needs_background": "light"
          }
        }
      ],
      "source": [
        "attn_scores = querys @ keys.T\n",
        "attn_scores_softmax = softmax(attn_scores, dim=-1)\n",
        "\n",
        "# For readability, round the scores to a definable number of decimal place.\n",
        "decimal_places = 2\n",
        "attn_scores_softmax = (attn_scores_softmax * 10**decimal_places).round() / (10**decimal_places)\n",
        "print(attn_scores_softmax)\n",
        "\n",
        "# Plot self attention matrix\n",
        "t = attn_scores_softmax.numpy()\n",
        "sns.heatmap(t)"
      ]
    },
    {
      "cell_type": "markdown",
      "source": [
        "## Do the same for \"cross attention\""
      ],
      "metadata": {
        "id": "purX4lQ8XkJF"
      }
    },
    {
      "cell_type": "code",
      "source": [
        "attn_scores = xattn_q @ keys.T\n",
        "attn_scores_softmax = softmax(attn_scores, dim=-1)\n",
        "\n",
        "# For readability, round the scores to a definable number of decimal place.\n",
        "decimal_places = 2\n",
        "attn_scores_softmax = (attn_scores_softmax * 10**decimal_places).round() / (10**decimal_places)\n",
        "print(attn_scores_softmax)\n",
        "\n",
        "# Plot self attention matrix\n",
        "t = attn_scores_softmax.numpy()\n",
        "sns.heatmap(t)"
      ],
      "metadata": {
        "id": "hM8FSWsWXc_y",
        "outputId": "fce11ba9-2570-429a-ffd4-5d3db7e6a7fe",
        "colab": {
          "base_uri": "https://localhost:8080/",
          "height": 317
        }
      },
      "execution_count": 6,
      "outputs": [
        {
          "output_type": "stream",
          "name": "stdout",
          "text": [
            "tensor([[0.0100, 0.6800, 0.0100, 0.0000, 0.3100],\n",
            "        [0.0000, 0.9800, 0.0000, 0.0000, 0.0200]])\n"
          ]
        },
        {
          "output_type": "execute_result",
          "data": {
            "text/plain": [
              "<matplotlib.axes._subplots.AxesSubplot at 0x7fdd185f1b80>"
            ]
          },
          "metadata": {},
          "execution_count": 6
        },
        {
          "output_type": "display_data",
          "data": {
            "text/plain": [
              "<Figure size 432x288 with 2 Axes>"
            ],
            "image/png": "[encoded data removed]"
          },
          "metadata": {
            "needs_background": "light"
          }
        }
      ]
    },
    {
      "cell_type": "markdown",
      "metadata": {
        "id": "jUABFsoQTyAV"
      },
      "source": [
        "## Multiply softmax attention with V to obtain the result\n",
        "\n",
        "In a transformer, dense layers would follow that can \n",
        "* reduce a multi-head attention result\n",
        "* enforce correct dimensionality to use output in next input.\n",
        "\n",
        "Note that the shape of the V tensor could as well be used to enforce a 4x5 output. Can you see how?"
      ]
    },
    {
      "cell_type": "code",
      "execution_count": 7,
      "metadata": {
        "colab": {
          "base_uri": "https://localhost:8080/"
        },
        "id": "uKW44_0GNjAU",
        "outputId": "2fbb6b9f-3b06-4f2f-d417-5b7845faa5a4"
      },
      "outputs": [
        {
          "output_type": "stream",
          "name": "stdout",
          "text": [
            "tensor([[2.3400, 8.7600, 0.9900],\n",
            "        [2.0200, 9.9200, 0.0600]])\n"
          ]
        }
      ],
      "source": [
        "weighted_values = values[:,None] * attn_scores_softmax.T[:,:,None]\n",
        "outputs = weighted_values.sum(dim=0)\n",
        "print(outputs)"
      ]
    },
    {
      "cell_type": "markdown",
      "source": [
        "# Multi-Head Attention"
      ],
      "metadata": {
        "id": "fbvKL9qlY5rx"
      }
    },
    {
      "cell_type": "code",
      "execution_count": 8,
      "metadata": {
        "id": "C2rOtYHLY8fW"
      },
      "outputs": [],
      "source": [
        "w_key = [[\n",
        "  [0, 0, 1],\n",
        "  [1, 1, 0],\n",
        "  [0, 1, 0],\n",
        "  [1, 1, 0]\n",
        "],\n",
        "[\n",
        "  [0, .3, .1],\n",
        "  [1, 1, .2],\n",
        "  [0, .1, 0],\n",
        "  [.8, .1, 0]\n",
        "]]\n",
        "w_query = [[\n",
        "  [1, .2, 1],\n",
        "  [1, 0, .4],\n",
        "  [.5, 0, 1],\n",
        "  [0, .8, 1]\n",
        "],\n",
        "[\n",
        "  [1, .2, 1],\n",
        "  [1, 0, .4],\n",
        "  [.5, 0, 1],\n",
        "  [0, .8, 1]\n",
        "]]\n",
        "w_value = [[\n",
        "  [0, 2, 0],\n",
        "  [0, 3, 0],\n",
        "  [1, 0, 3],\n",
        "  [1, 1, 0]\n",
        "],\n",
        "[\n",
        "  [0, 2, 0],\n",
        "  [0, 3, 0],\n",
        "  [1, 0, 3],\n",
        "  [1, 1, 0]\n",
        "]]\n",
        "w_key = torch.tensor(w_key, dtype=torch.float32)\n",
        "w_query = torch.tensor(w_query, dtype=torch.float32)\n",
        "w_value = torch.tensor(w_value, dtype=torch.float32)"
      ]
    },
    {
      "cell_type": "code",
      "execution_count": 9,
      "metadata": {
        "colab": {
          "base_uri": "https://localhost:8080/"
        },
        "outputId": "ab8db963-d5f6-419a-9cee-4a9df694cb41",
        "id": "cNyAD9WWZYfh"
      },
      "outputs": [
        {
          "output_type": "stream",
          "name": "stdout",
          "text": [
            "tensor([[[2.0000, 3.0000, 1.0000],\n",
            "         [4.0000, 4.0000, 1.0000],\n",
            "         [2.0000, 3.0000, 1.0000],\n",
            "         [1.0000, 3.0000, 1.0000],\n",
            "         [2.0000, 3.0000, 2.0000]],\n",
            "\n",
            "        [[1.6000, 0.6000, 0.1000],\n",
            "         [3.6000, 2.5000, 0.5000],\n",
            "         [1.8000, 1.5000, 0.3000],\n",
            "         [0.8000, 0.6000, 0.1000],\n",
            "         [1.6000, 0.9000, 0.2000]]])\n",
            "tensor([[[1.5000, 1.8000, 4.0000],\n",
            "         [3.0000, 1.8000, 3.8000],\n",
            "         [2.5000, 1.0000, 3.4000],\n",
            "         [2.0000, 1.0000, 4.0000],\n",
            "         [2.5000, 2.0000, 5.0000]],\n",
            "\n",
            "        [[1.5000, 1.8000, 4.0000],\n",
            "         [3.0000, 1.8000, 3.8000],\n",
            "         [2.5000, 1.0000, 3.4000],\n",
            "         [2.0000, 1.0000, 4.0000],\n",
            "         [2.5000, 2.0000, 5.0000]]])\n",
            "tensor([[[1.5000, 1.8000, 4.0000],\n",
            "         [3.0000, 1.8000, 3.8000]],\n",
            "\n",
            "        [[1.5000, 1.8000, 4.0000],\n",
            "         [3.0000, 1.8000, 3.8000]]])\n",
            "tensor([[[ 3.,  4.,  3.],\n",
            "         [ 2., 10.,  0.],\n",
            "         [ 2.,  6.,  3.],\n",
            "         [ 3.,  3.,  6.],\n",
            "         [ 3.,  6.,  3.]],\n",
            "\n",
            "        [[ 3.,  4.,  3.],\n",
            "         [ 2., 10.,  0.],\n",
            "         [ 2.,  6.,  3.],\n",
            "         [ 3.,  3.,  6.],\n",
            "         [ 3.,  6.,  3.]]])\n"
          ]
        }
      ],
      "source": [
        "keys = x @ w_key\n",
        "querys = x @ w_query\n",
        "\n",
        "xattn_q = x2 @ w_query\n",
        "\n",
        "values = x @ w_value\n",
        "\n",
        "print(keys)\n",
        "print(querys)\n",
        "print(xattn_q)\n",
        "print(values)"
      ]
    },
    {
      "cell_type": "code",
      "source": [
        "attn_scores = querys @ keys.mT \n",
        "attn_scores_softmax = softmax(attn_scores, dim=-1)\n",
        "\n",
        "# For readability, round the scores to a definable number of decimal place.\n",
        "decimal_places = 2\n",
        "attn_scores_softmax = (attn_scores_softmax * 10**decimal_places).round() / (10**decimal_places)\n",
        "print(attn_scores_softmax)\n",
        "\n",
        "# Plot self attention matrix\n",
        "t = attn_scores_softmax.numpy()\n",
        "sns.heatmap(t[0])\n",
        "#sns.heatmap(t[1])"
      ],
      "metadata": {
        "id": "bKW_rBOtZe4Y",
        "outputId": "4344a754-51ab-4a5d-f0e7-82b4fa97bec0",
        "colab": {
          "base_uri": "https://localhost:8080/",
          "height": 473
        }
      },
      "execution_count": 10,
      "outputs": [
        {
          "output_type": "stream",
          "name": "stdout",
          "text": [
            "tensor([[[0.0100, 0.6800, 0.0100, 0.0000, 0.3100],\n",
            "         [0.0000, 0.9800, 0.0000, 0.0000, 0.0200],\n",
            "         [0.0000, 0.9300, 0.0000, 0.0000, 0.0700],\n",
            "         [0.0000, 0.7200, 0.0000, 0.0000, 0.2700],\n",
            "         [0.0000, 0.8800, 0.0000, 0.0000, 0.1200]],\n",
            "\n",
            "        [[0.0000, 0.9900, 0.0000, 0.0000, 0.0000],\n",
            "         [0.0000, 1.0000, 0.0000, 0.0000, 0.0000],\n",
            "         [0.0000, 1.0000, 0.0000, 0.0000, 0.0000],\n",
            "         [0.0000, 0.9900, 0.0000, 0.0000, 0.0000],\n",
            "         [0.0000, 1.0000, 0.0000, 0.0000, 0.0000]]])\n"
          ]
        },
        {
          "output_type": "execute_result",
          "data": {
            "text/plain": [
              "<matplotlib.axes._subplots.AxesSubplot at 0x7fdd15ccb820>"
            ]
          },
          "metadata": {},
          "execution_count": 10
        },
        {
          "output_type": "display_data",
          "data": {
            "text/plain": [
              "<Figure size 432x288 with 2 Axes>"
            ],
            "image/png": "[encoded data removed]"
          },
          "metadata": {
            "needs_background": "light"
          }
        }
      ]
    },
    {
      "cell_type": "code",
      "source": [
        "attn_scores = xattn_q @ keys.mT\n",
        "attn_scores_softmax = softmax(attn_scores, dim=-1)\n",
        "\n",
        "# For readability, round the scores to a definable number of decimal place.\n",
        "decimal_places = 2\n",
        "attn_scores_softmax = (attn_scores_softmax * 10**decimal_places).round() / (10**decimal_places)\n",
        "print(attn_scores_softmax)\n",
        "\n",
        "# Plot self attention matrix\n",
        "t = attn_scores_softmax.numpy()\n",
        "sns.heatmap(t[0])"
      ],
      "metadata": {
        "id": "IE_QyISRZh_1",
        "outputId": "6805aa2f-d824-414d-e414-fb3d2a819794",
        "colab": {
          "base_uri": "https://localhost:8080/",
          "height": 369
        }
      },
      "execution_count": 11,
      "outputs": [
        {
          "output_type": "stream",
          "name": "stdout",
          "text": [
            "tensor([[[0.0100, 0.6800, 0.0100, 0.0000, 0.3100],\n",
            "         [0.0000, 0.9800, 0.0000, 0.0000, 0.0200]],\n",
            "\n",
            "        [[0.0000, 0.9900, 0.0000, 0.0000, 0.0000],\n",
            "         [0.0000, 1.0000, 0.0000, 0.0000, 0.0000]]])\n"
          ]
        },
        {
          "output_type": "execute_result",
          "data": {
            "text/plain": [
              "<matplotlib.axes._subplots.AxesSubplot at 0x7fdd157d88b0>"
            ]
          },
          "metadata": {},
          "execution_count": 11
        },
        {
          "output_type": "display_data",
          "data": {
            "text/plain": [
              "<Figure size 432x288 with 2 Axes>"
            ],
            "image/png": "[encoded data removed]"
          },
          "metadata": {
            "needs_background": "light"
          }
        }
      ]
    },
    {
      "cell_type": "code",
      "source": [
        "weighted_values = values[:,:,None] * attn_scores_softmax.mT[:,:,:,None]\n",
        "outputs = weighted_values.sum(dim=0)\n",
        "print(outputs)"
      ],
      "metadata": {
        "id": "bJH6eJC7Zkoj",
        "outputId": "75902e17-95f5-4f75-fc9d-a6e91fb77cf4",
        "colab": {
          "base_uri": "https://localhost:8080/"
        }
      },
      "execution_count": 12,
      "outputs": [
        {
          "output_type": "stream",
          "name": "stdout",
          "text": [
            "tensor([[[ 0.0300,  0.0400,  0.0300],\n",
            "         [ 0.0000,  0.0000,  0.0000]],\n",
            "\n",
            "        [[ 3.3400, 16.7000,  0.0000],\n",
            "         [ 3.9600, 19.8000,  0.0000]],\n",
            "\n",
            "        [[ 0.0200,  0.0600,  0.0300],\n",
            "         [ 0.0000,  0.0000,  0.0000]],\n",
            "\n",
            "        [[ 0.0000,  0.0000,  0.0000],\n",
            "         [ 0.0000,  0.0000,  0.0000]],\n",
            "\n",
            "        [[ 0.9300,  1.8600,  0.9300],\n",
            "         [ 0.0600,  0.1200,  0.0600]]])\n"
          ]
        }
      ]
    },
    {
      "cell_type": "code",
      "source": [
        "combined_heads = outputs.flatten(1)"
      ],
      "metadata": {
        "id": "cbRxB_eRcbja"
      },
      "execution_count": 19,
      "outputs": []
    },
    {
      "cell_type": "markdown",
      "source": [
        "## Convert into expected shape for next layer\n",
        "\n",
        "A MLP is employed to \"fix the dimensions\". We require"
      ],
      "metadata": {
        "id": "-L_UzVeSampm"
      }
    },
    {
      "cell_type": "code",
      "source": [
        "mlp_weights = torch.tensor([[0.6905, 0.9040, 0.8092, 0.0374],\n",
        "        [0.7709, 0.1924, 0.0805, 0.0564],\n",
        "        [0.1738, 0.0420, 0.3183, 0.0574],\n",
        "        [0.7654, 0.7641, 0.9147, 0.6214],\n",
        "        [0.9611, 0.7082, 0.8878, 0.8399],\n",
        "        [0.5197, 0.7513, 0.5941, 0.5541]])\n",
        "\n",
        "result = combined_heads @ mlp_weights\n",
        "\n",
        "print(result)"
      ],
      "metadata": {
        "id": "4wAF_IZsaZTS",
        "outputId": "e308b7bd-f9dc-4712-d81a-e89f720c9cbd",
        "colab": {
          "base_uri": "https://localhost:8080/"
        }
      },
      "execution_count": 21,
      "outputs": [
        {
          "output_type": "stream",
          "name": "stdout",
          "text": [
            "tensor([[5.6765e-02, 3.6076e-02, 3.7045e-02, 5.1000e-03],\n",
            "        [3.7241e+01, 2.3281e+01, 2.5248e+01, 2.0158e+01],\n",
            "        [6.5278e-02, 3.0884e-02, 3.0563e-02, 5.8540e-03],\n",
            "        [0.0000e+00, 0.0000e+00, 0.0000e+00, 0.0000e+00],\n",
            "        [2.4301e+00, 1.4136e+00, 1.3954e+00, 3.6439e-01]])\n"
          ]
        }
      ]
    }
  ],
  "metadata": {
    "colab": {
      "provenance": [],
      "include_colab_link": true
    },
    "kernelspec": {
      "display_name": "torch",
      "language": "python",
      "name": "python3"
    },
    "language_info": {
      "codemirror_mode": {
        "name": "ipython",
        "version": 3
      },
      "file_extension": ".py",
      "mimetype": "text/x-python",
      "name": "python",
      "nbconvert_exporter": "python",
      "pygments_lexer": "ipython3",
      "version": "3.9.16"
    },
    "vscode": {
      "interpreter": {
        "hash": "cd15cf184ab1178a055b183ecb11f28577274e2cc0c29065c013381fe9f37159"
      }
    }
  },
  "nbformat": 4,
  "nbformat_minor": 0
}