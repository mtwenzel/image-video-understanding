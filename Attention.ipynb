{
  "cells": [
    {
      "cell_type": "markdown",
      "metadata": {
        "id": "view-in-github",
        "colab_type": "text"
      },
      "source": [
        "<a href=\"https://colab.research.google.com/github/mtwenzel/image-video-understanding/blob/master/Attention.ipynb\" target=\"_parent\"><img src=\"https://colab.research.google.com/assets/colab-badge.svg\" alt=\"Open In Colab\"/></a>"
      ]
    },
    {
      "cell_type": "markdown",
      "metadata": {
        "id": "J29FDh2JUNk_"
      },
      "source": [
        "# Self-Attention by Example\n",
        "\n",
        "Partially taken from https://towardsdatascience.com/illustrated-self-attention-2d627e33b20a#8481"
      ]
    },
    {
      "cell_type": "code",
      "execution_count": 28,
      "metadata": {
        "id": "HS7dexV7MphR",
        "cellView": "form"
      },
      "outputs": [],
      "source": [
        "#@title Imports\n",
        "import math\n",
        "\n",
        "import torch\n",
        "from torch.nn.functional import softmax\n",
        "\n",
        "import matplotlib.pyplot as plt\n",
        "import seaborn as sns\n",
        "%matplotlib inline"
      ]
    },
    {
      "cell_type": "markdown",
      "metadata": {
        "id": "7AoHRZd3SdJ0"
      },
      "source": [
        "## Create a tensor with input data\n",
        "\n",
        "In a real setting, this tensor would be the result of some data encoding step (when considering the first input to the first attention layer), or the result of the previous attention layer.\n",
        "\n",
        "If for example your input is text, and your word embeddings have 512 dimensions, each row in the tensor $x$ would have 512 entries, and the tensor would have as many rows as your sentence has words.\n",
        "\n",
        "For images (here described along the lines of the ViT), the number of rows in $x$ is the number of tiles the images get subdivided into ($16 \\times 16$ in ViT). The length of each line is the length of the embedding vector after transforming each tile with the patch encoder. [See the ViT publication for details](https://arxiv.org/abs/2010.11929)\n",
        "\n",
        "Note that there is the embedding size of the original data, but also the internal encoding size that will be determined by the shape of the K, Q, and V matrices."
      ]
    },
    {
      "cell_type": "code",
      "source": [],
      "metadata": {
        "id": "adS8Vv9yZzQt"
      },
      "execution_count": 1,
      "outputs": []
    },
    {
      "cell_type": "code",
      "source": [
        "#@title Define data matrix {run:\"auto\"}\n",
        "#@markdown We create random(!) data of a given size. Set the number of tokens and the encoding/embedding length here.\n",
        "num_tokens = 5 #@param {type:\"slider\", min:\"1\", max:\"16\"}\n",
        "num_embedding_features = 9 #@param {type:\"slider\", min:\"1\", max:\"32\"}\n",
        "\n",
        "#@markdown Note that this enables us to show the process in the following, but that this is not describing a real task.\n",
        "\n",
        "x = torch.rand([num_tokens,num_embedding_features])\n",
        "x"
      ],
      "metadata": {
        "cellView": "form",
        "id": "h_FPHgn8fTEp",
        "colab": {
          "base_uri": "https://localhost:8080/"
        },
        "outputId": "a047657c-622e-4cab-b434-4fbb4260d971"
      },
      "execution_count": 3,
      "outputs": [
        {
          "output_type": "execute_result",
          "data": {
            "text/plain": [
              "tensor([[0.4156, 0.6078, 0.1973, 0.5567, 0.1540, 0.7106, 0.9954, 0.1008, 0.9984],\n",
              "        [0.7734, 0.6256, 0.8363, 0.4454, 0.1385, 0.8334, 0.2375, 0.0403, 0.6473],\n",
              "        [0.7346, 0.9989, 0.2948, 0.7467, 0.8937, 0.2542, 0.0730, 0.7989, 0.5252],\n",
              "        [0.3206, 0.7222, 0.8778, 0.0395, 0.7015, 0.4138, 0.0287, 0.7658, 0.6030],\n",
              "        [0.4557, 0.6276, 0.2553, 0.7938, 0.0965, 0.5237, 0.0223, 0.5436, 0.5699]])"
            ]
          },
          "metadata": {},
          "execution_count": 3
        }
      ]
    },
    {
      "cell_type": "code",
      "execution_count": 43,
      "metadata": {
        "id": "-E_fY_cdNJwO",
        "cellView": "form",
        "colab": {
          "base_uri": "https://localhost:8080/"
        },
        "outputId": "a4b61893-7475-4a73-a106-a71f2b6376c8"
      },
      "outputs": [
        {
          "output_type": "execute_result",
          "data": {
            "text/plain": [
              "tensor([[0.3712, 0.9761, 0.3577, 0.7554, 0.5756, 0.0036, 0.9795, 0.0935, 0.6094],\n",
              "        [0.7697, 0.3248, 0.0267, 0.2948, 0.1602, 0.4951, 0.2817, 0.4947, 0.5962]])"
            ]
          },
          "metadata": {},
          "execution_count": 43
        }
      ],
      "source": [
        "#@title Define second data matrix for cross attention {run:\"auto\"}\n",
        "#@markdown To demonstrate cross attention with smaller attention matrix analogous to Perceiver or DETR, create a \"learned queries\" matrix $x_2$\n",
        "#@markdown For consistency, you can only adjust the number of tokens. The embedding dimension is kept from above.\n",
        "num_ca_tokens = 2 #@param {type:\"slider\", min:\"1\", max:\"10\"}\n",
        "\n",
        "x2 = torch.rand([num_ca_tokens, num_embedding_features])\n",
        "x2"
      ]
    },
    {
      "cell_type": "markdown",
      "metadata": {
        "id": "OmV9pihNSumD"
      },
      "source": [
        "## Create a set of weight tensors. \n",
        "We are looking at single-head attention only for the moment. For multi-head attention, each weight matrix would be replicated (with independent weights) for each head. You will see this in the second half of the notebook.\n",
        "\n",
        "Each weight tensor has to have as many rows as the tokens have dimensions. Our input vectors have ```num_embedding_features``` dimensions. Let's create random weight matrices of the according size. You are free to select the other dimension, which will then be the internal embedding dimension.\n",
        "\n",
        "Observe how the size of these matrices does not depend on the number of tokens anymore.\n",
        "\n",
        "Note that this will result in a matrix output after the attention mechanism, instead of a single token."
      ]
    },
    {
      "cell_type": "code",
      "execution_count": 44,
      "metadata": {
        "id": "ZSd8O7IANOK5",
        "colab": {
          "base_uri": "https://localhost:8080/"
        },
        "outputId": "03b2f84e-fc7e-438d-b93a-34a9bc69f405"
      },
      "outputs": [
        {
          "output_type": "stream",
          "name": "stdout",
          "text": [
            "Initialized random tensors w_key (9, 7), w_query (9, 7), w_value (9, 7).\n"
          ]
        }
      ],
      "source": [
        "#@title Get K, Q, V transform matrices {run:\"auto\"}\n",
        "\n",
        "internal_embedding_dimensions = 7 #@param {type:\"slider\", min:\"1\", max:\"32\"}\n",
        "\n",
        "w_key = torch.rand([num_embedding_features,internal_embedding_dimensions])\n",
        "w_query = torch.rand([num_embedding_features,internal_embedding_dimensions])\n",
        "w_value = torch.rand([num_embedding_features,internal_embedding_dimensions])\n",
        "\n",
        "print(f'Initialized random tensors w_key {tuple(w_key.shape)}, w_query {tuple(w_query.shape)}, w_value {tuple(w_value.shape)}.')"
      ]
    },
    {
      "cell_type": "markdown",
      "metadata": {
        "id": "XqLOpyeETMBN"
      },
      "source": [
        "## K, Q, and V\n",
        "\n",
        "The actual keys, querys and values are the result of the multiplication of input tensor with weight tensors.\n",
        "\n",
        "Their dimension is:\n",
        "* each row has as many entries as the weight tensors (three in our setup)\n",
        "* the number of rows equals the number of input tokens (five in our setup)"
      ]
    },
    {
      "cell_type": "code",
      "execution_count": 45,
      "metadata": {
        "id": "TXXZUtWWNSjM",
        "colab": {
          "base_uri": "https://localhost:8080/"
        },
        "outputId": "e983e9c6-be09-4f6e-fa1d-20f6c938beea"
      },
      "outputs": [
        {
          "output_type": "stream",
          "name": "stdout",
          "text": [
            "Keys: tensor([[2.0902, 2.0839, 3.4129, 2.2058, 2.1916, 2.3763, 2.8780],\n",
            "        [1.6638, 1.7538, 3.5822, 1.8338, 1.8393, 2.7197, 2.7774],\n",
            "        [1.7982, 2.2932, 3.9255, 2.1781, 2.2116, 2.3433, 2.6364],\n",
            "        [1.9205, 1.9819, 3.3125, 1.4930, 2.2447, 2.1660, 2.1253],\n",
            "        [1.2691, 1.4000, 3.1406, 1.7010, 1.5117, 2.2384, 2.0970]])\n",
            "Queries: tensor([[3.6041, 3.3453, 2.2808, 2.1118, 1.6603, 2.2617, 2.7830],\n",
            "        [3.7238, 2.7367, 2.5857, 1.9146, 1.7753, 1.9686, 2.3191],\n",
            "        [3.7820, 3.3642, 2.6344, 2.4534, 2.9739, 3.0887, 3.0315],\n",
            "        [3.1552, 2.8429, 2.2283, 2.1906, 2.3385, 2.1164, 2.4907],\n",
            "        [2.7700, 2.4532, 1.8175, 1.7777, 1.5463, 2.0947, 2.1202]])\n",
            "Cross-attention Queries: tensor([[3.5115, 3.1653, 2.1434, 2.2128, 2.3216, 2.6422, 2.3595],\n",
            "        [2.5118, 2.4742, 1.8477, 1.4342, 1.5480, 1.8219, 2.2171]])\n",
            "Values: tensor([[2.1637, 2.1600, 2.5970, 1.6369, 1.6383, 2.0975, 2.8445],\n",
            "        [1.9769, 1.8367, 2.8011, 2.0245, 1.7374, 1.7549, 2.1575],\n",
            "        [2.2176, 2.5780, 3.8284, 2.8816, 2.0878, 1.9463, 2.5527],\n",
            "        [2.2855, 2.0169, 3.2748, 2.2827, 2.0756, 1.5940, 2.3809],\n",
            "        [1.4337, 1.7439, 2.6349, 2.1364, 1.7177, 1.5444, 1.6235]])\n"
          ]
        }
      ],
      "source": [
        "keys = x @ w_key\n",
        "querys = x @ w_query\n",
        "values = x @ w_value\n",
        "\n",
        "# This would be the cross attention with a potentially different number of tokens\n",
        "xattn_q = x2 @ w_query\n",
        "\n",
        "\n",
        "print(\"Keys:\",keys)\n",
        "print(\"Queries:\",querys)\n",
        "print(\"Cross-attention Queries:\",xattn_q)\n",
        "print(\"Values:\",values)"
      ]
    },
    {
      "cell_type": "markdown",
      "metadata": {
        "id": "xNK5GEeBTfKC"
      },
      "source": [
        "## Softmax Attention\n",
        "\n",
        "The size of the square attention matrix equals the number of input tokens in both dimensions. "
      ]
    },
    {
      "cell_type": "code",
      "execution_count": 46,
      "metadata": {
        "id": "OoT9rEVZNVIN",
        "colab": {
          "base_uri": "https://localhost:8080/",
          "height": 369
        },
        "outputId": "325e8d37-8c33-4da6-86f1-5a45af4facc1"
      },
      "outputs": [
        {
          "output_type": "stream",
          "name": "stdout",
          "text": [
            "tensor([[0.4800, 0.0200, 0.5000, 0.0000, 0.0000],\n",
            "        [0.4500, 0.0200, 0.5300, 0.0000, 0.0000],\n",
            "        [0.4700, 0.0100, 0.5200, 0.0000, 0.0000],\n",
            "        [0.4600, 0.0200, 0.5200, 0.0000, 0.0000],\n",
            "        [0.4700, 0.0400, 0.4800, 0.0100, 0.0000]])\n"
          ]
        },
        {
          "output_type": "execute_result",
          "data": {
            "text/plain": [
              "<matplotlib.axes._subplots.AxesSubplot at 0x7f958b3ddd90>"
            ]
          },
          "metadata": {},
          "execution_count": 46
        },
        {
          "output_type": "display_data",
          "data": {
            "text/plain": [
              "<Figure size 432x288 with 2 Axes>"
            ],
            "image/png": "[encoded data removed]"
          },
          "metadata": {
            "needs_background": "light"
          }
        }
      ],
      "source": [
        "attn_scores = querys @ keys.T\n",
        "attn_scores_softmax = softmax(attn_scores, dim=-1)\n",
        "\n",
        "# For readability, round the scores to a definable number of decimal places\n",
        "print(attn_scores_softmax.round(decimals = 2))\n",
        "\n",
        "# Plot self attention matrix\n",
        "sns.heatmap(attn_scores_softmax.numpy())"
      ]
    },
    {
      "cell_type": "markdown",
      "source": [
        "### Do the same for \"cross attention\""
      ],
      "metadata": {
        "id": "purX4lQ8XkJF"
      }
    },
    {
      "cell_type": "code",
      "source": [
        "xattn_scores = xattn_q @ keys.T\n",
        "xattn_scores_softmax = softmax(xattn_scores, dim=-1)\n",
        "\n",
        "# For readability, round the scores to a definable number of decimal places\n",
        "print(xattn_scores_softmax.round(decimals = 2))\n",
        "\n",
        "# Plot self attention matrix\n",
        "sns.heatmap(xattn_scores_softmax.numpy(), square = True)"
      ],
      "metadata": {
        "id": "hM8FSWsWXc_y",
        "colab": {
          "base_uri": "https://localhost:8080/",
          "height": 303
        },
        "outputId": "34f433d8-42e7-4843-845f-1c805c1dd3f8"
      },
      "execution_count": 47,
      "outputs": [
        {
          "output_type": "stream",
          "name": "stdout",
          "text": [
            "tensor([[0.4700, 0.0200, 0.5000, 0.0000, 0.0000],\n",
            "        [0.4400, 0.0500, 0.5000, 0.0100, 0.0000]])\n"
          ]
        },
        {
          "output_type": "execute_result",
          "data": {
            "text/plain": [
              "<matplotlib.axes._subplots.AxesSubplot at 0x7f958b36b370>"
            ]
          },
          "metadata": {},
          "execution_count": 47
        },
        {
          "output_type": "display_data",
          "data": {
            "text/plain": [
              "<Figure size 432x288 with 2 Axes>"
            ],
            "image/png": "[encoded data removed]"
          },
          "metadata": {
            "needs_background": "light"
          }
        }
      ]
    },
    {
      "cell_type": "markdown",
      "metadata": {
        "id": "jUABFsoQTyAV"
      },
      "source": [
        "## Multiply softmax attention with V to obtain the result\n",
        "\n",
        "In a transformer, dense layers would follow that can \n",
        "* reduce a multi-head attention result\n",
        "* enforce correct dimensionality to use output in next input.\n",
        "\n",
        "We will see this after the following experiment with multi-head attention."
      ]
    },
    {
      "cell_type": "code",
      "execution_count": 48,
      "metadata": {
        "id": "uKW44_0GNjAU",
        "colab": {
          "base_uri": "https://localhost:8080/"
        },
        "outputId": "a138da44-3857-406d-9b20-c3b714e69d7f"
      },
      "outputs": [
        {
          "output_type": "stream",
          "name": "stdout",
          "text": [
            "tensor([[2.1870, 2.3615, 3.2178, 2.2681, 1.8659, 2.0135, 2.6832],\n",
            "        [2.1883, 2.3720, 3.2536, 2.3047, 1.8794, 2.0076, 2.6726],\n",
            "        [2.1892, 2.3719, 3.2396, 2.2889, 1.8735, 2.0135, 2.6826],\n",
            "        [2.1882, 2.3697, 3.2434, 2.2940, 1.8755, 2.0098, 2.6766],\n",
            "        [2.1826, 2.3470, 3.2062, 2.2602, 1.8632, 2.0058, 2.6703]])\n"
          ]
        }
      ],
      "source": [
        "weighted_values = values[:,None] * attn_scores_softmax.T[:,:,None]\n",
        "outputs = weighted_values.sum(dim=0)\n",
        "print(outputs)"
      ]
    },
    {
      "cell_type": "markdown",
      "source": [
        "# Multi-Head Attention"
      ],
      "metadata": {
        "id": "_nVYTdZwwLvP"
      }
    },
    {
      "cell_type": "code",
      "source": [
        "#@title Define number of heads, and create according random weight matrices K, Q, V {run:\"auto\"}\n",
        "#@markdown The only required change is to stack multiple K, Q, V. \n",
        "\n",
        "num_heads = 4 #@param {type:\"slider\", min:\"2\", max:\"10\"}\n",
        "\n",
        "w_key = torch.rand([num_heads, num_embedding_features,internal_embedding_dimensions])\n",
        "w_query = torch.rand([num_heads,num_embedding_features,internal_embedding_dimensions])\n",
        "w_value = torch.rand([num_heads,num_embedding_features,internal_embedding_dimensions])\n",
        "print(f'Initialized new random tensors w_key {tuple(w_key.shape)}, w_query {tuple(w_query.shape)}, w_value {tuple(w_value.shape)}.')"
      ],
      "metadata": {
        "id": "uKbJPwXkOoPX",
        "colab": {
          "base_uri": "https://localhost:8080/"
        },
        "outputId": "f203b78a-edcb-41b5-e3ac-5bcae44f6851"
      },
      "execution_count": 49,
      "outputs": [
        {
          "output_type": "stream",
          "name": "stdout",
          "text": [
            "Initialized new random tensors w_key (4, 9, 7), w_query (4, 9, 7), w_value (4, 9, 7).\n"
          ]
        }
      ]
    },
    {
      "cell_type": "code",
      "execution_count": 50,
      "metadata": {
        "id": "cNyAD9WWZYfh",
        "colab": {
          "base_uri": "https://localhost:8080/"
        },
        "outputId": "2af90ecd-374f-4162-a90c-f730add7964b"
      },
      "outputs": [
        {
          "output_type": "stream",
          "name": "stdout",
          "text": [
            "tensor([[[2.2762, 2.2917, 1.2495, 2.7910, 1.9137, 2.3799, 3.2208],\n",
            "         [2.6289, 2.0382, 1.2609, 2.2294, 1.9033, 2.8278, 2.5340],\n",
            "         [3.2353, 2.5829, 1.7876, 3.2496, 2.8888, 3.2688, 3.4099],\n",
            "         [2.9499, 2.0941, 1.6858, 2.6115, 2.5351, 2.8167, 2.8942],\n",
            "         [2.1926, 1.8038, 1.0624, 2.2006, 1.8991, 2.5380, 2.4275]],\n",
            "\n",
            "        [[1.7812, 3.0296, 2.3910, 2.0282, 2.7318, 2.7690, 1.8514],\n",
            "         [1.7456, 2.9088, 2.3056, 2.7378, 2.4049, 2.6458, 1.5828],\n",
            "         [2.0844, 3.4808, 2.5568, 2.6643, 3.2205, 2.7003, 2.6002],\n",
            "         [1.8855, 2.5050, 2.2587, 2.5920, 3.1021, 2.2466, 1.7921],\n",
            "         [1.4625, 2.8753, 1.9147, 1.8097, 1.9417, 2.2449, 1.7453]],\n",
            "\n",
            "        [[2.8959, 2.2872, 2.9080, 3.2866, 3.3510, 2.1515, 2.2184],\n",
            "         [2.4278, 1.9565, 3.4100, 2.7269, 2.8639, 1.9928, 2.3566],\n",
            "         [3.2440, 2.2790, 3.4319, 3.4115, 2.8352, 2.4098, 2.7259],\n",
            "         [2.2699, 1.7876, 2.7940, 2.5822, 2.5220, 1.7528, 2.2614],\n",
            "         [2.1201, 1.8633, 2.8213, 2.6513, 2.1960, 1.8855, 2.3285]],\n",
            "\n",
            "        [[2.3191, 2.6042, 2.3211, 1.8075, 1.5636, 1.9731, 1.3237],\n",
            "         [1.9170, 2.5838, 1.7958, 1.6324, 2.0472, 2.3854, 1.5591],\n",
            "         [3.1208, 2.5948, 2.5340, 2.1267, 2.1337, 3.4155, 2.6565],\n",
            "         [2.1003, 2.2760, 1.6893, 1.4688, 1.5818, 3.1858, 2.2074],\n",
            "         [2.2392, 1.9596, 1.9306, 1.8264, 1.6190, 2.1203, 1.5506]]])\n"
          ]
        }
      ],
      "source": [
        "keys = x @ w_key\n",
        "querys = x @ w_query\n",
        "\n",
        "xattn_q = x2 @ w_query\n",
        "\n",
        "values = x @ w_value\n",
        "\n",
        "print(keys)\n",
        "#print(querys)\n",
        "#print(xattn_q)\n",
        "#print(values)"
      ]
    },
    {
      "cell_type": "code",
      "source": [
        "attn_scores = querys @ keys.mT \n",
        "attn_scores_softmax = softmax(attn_scores, dim=-1)\n",
        "\n",
        "def show_multihead_attention(attn_scores_softmax, column_count = 2):\n",
        "  '''Plot self attention matrices for different heads'''\n",
        "  row_count = num_heads // column_count\n",
        "  f, axx = plt.subplots(row_count, column_count,\n",
        "                        sharex = True, sharey = True,\n",
        "                        figsize = (column_count * 2, row_count * 2))\n",
        "  for ax, t in zip(axx.ravel(), attn_scores_softmax.numpy()):\n",
        "    sns.heatmap(t, ax = ax, square = True)\n",
        "\n",
        "show_multihead_attention(attn_scores_softmax)"
      ],
      "metadata": {
        "id": "bKW_rBOtZe4Y",
        "colab": {
          "base_uri": "https://localhost:8080/",
          "height": 257
        },
        "outputId": "9349afbb-d4a9-4f7c-ee4f-6776fe49a139"
      },
      "execution_count": 51,
      "outputs": [
        {
          "output_type": "display_data",
          "data": {
            "text/plain": [
              "<Figure size 288x288 with 8 Axes>"
            ],
            "image/png": "[encoded data removed]"
          },
          "metadata": {
            "needs_background": "light"
          }
        }
      ]
    },
    {
      "cell_type": "markdown",
      "source": [
        "### Again, do the same for \"cross attention\""
      ],
      "metadata": {
        "id": "e-Te_yTmfhWc"
      }
    },
    {
      "cell_type": "code",
      "source": [
        "xattn_scores = xattn_q @ keys.mT\n",
        "xattn_scores_softmax = softmax(xattn_scores, dim=-1)\n",
        "\n",
        "show_multihead_attention(xattn_scores_softmax)"
      ],
      "metadata": {
        "id": "IE_QyISRZh_1",
        "colab": {
          "base_uri": "https://localhost:8080/",
          "height": 248
        },
        "outputId": "76425e4b-0189-4386-e67e-9ae6eb62a3d0"
      },
      "execution_count": 52,
      "outputs": [
        {
          "output_type": "display_data",
          "data": {
            "text/plain": [
              "<Figure size 288x288 with 8 Axes>"
            ],
            "image/png": "[encoded data removed]"
          },
          "metadata": {
            "needs_background": "light"
          }
        }
      ]
    },
    {
      "cell_type": "code",
      "source": [
        "weighted_values = values[:,:,None] * attn_scores_softmax.mT[:,:,:,None]\n",
        "outputs = weighted_values.sum(dim=0)\n",
        "print(outputs)"
      ],
      "metadata": {
        "id": "bJH6eJC7Zkoj",
        "colab": {
          "base_uri": "https://localhost:8080/"
        },
        "outputId": "ddc38614-3283-40d3-83ec-6043b00cb3f8"
      },
      "execution_count": 53,
      "outputs": [
        {
          "output_type": "stream",
          "name": "stdout",
          "text": [
            "tensor([[[6.1692e-02, 5.8890e-02, 6.4591e-02, 7.3372e-02, 8.3964e-02,\n",
            "          4.3336e-02, 9.0969e-02],\n",
            "         [7.1396e-02, 6.8253e-02, 7.4816e-02, 8.2502e-02, 9.4964e-02,\n",
            "          5.1029e-02, 1.0356e-01],\n",
            "         [7.5121e-02, 7.1671e-02, 7.8621e-02, 8.9981e-02, 1.0283e-01,\n",
            "          5.2521e-02, 1.1123e-01],\n",
            "         [1.4713e-01, 1.4050e-01, 1.5409e-01, 1.7233e-01, 1.9777e-01,\n",
            "          1.0429e-01, 2.1508e-01],\n",
            "         [1.3409e-01, 1.2838e-01, 1.4061e-01, 1.5669e-01, 1.8008e-01,\n",
            "          9.5375e-02, 1.9566e-01]],\n",
            "\n",
            "        [[3.9639e-03, 3.3551e-03, 3.3338e-03, 3.7697e-03, 4.0610e-03,\n",
            "          3.1316e-03, 4.3843e-03],\n",
            "         [5.7699e-03, 4.9868e-03, 4.8967e-03, 5.4123e-03, 5.9365e-03,\n",
            "          4.6506e-03, 6.3407e-03],\n",
            "         [2.9436e-03, 2.2664e-03, 2.3823e-03, 2.9822e-03, 2.9600e-03,\n",
            "          2.1141e-03, 3.3435e-03],\n",
            "         [8.1046e-03, 7.0612e-03, 6.9069e-03, 7.5190e-03, 8.3356e-03,\n",
            "          6.6162e-03, 8.8864e-03],\n",
            "         [1.7253e-02, 1.3515e-02, 1.4072e-02, 1.7514e-02, 1.7430e-02,\n",
            "          1.2470e-02, 1.9482e-02]],\n",
            "\n",
            "        [[9.7280e+00, 1.0014e+01, 8.5844e+00, 9.2853e+00, 1.0371e+01,\n",
            "          9.5337e+00, 1.0435e+01],\n",
            "         [9.7093e+00, 9.9983e+00, 8.5673e+00, 9.2677e+00, 1.0350e+01,\n",
            "          9.5143e+00, 1.0414e+01],\n",
            "         [9.7145e+00, 1.0003e+01, 8.5738e+00, 9.2738e+00, 1.0358e+01,\n",
            "          9.5261e+00, 1.0423e+01],\n",
            "         [9.6091e+00, 9.9144e+00, 8.4833e+00, 9.1792e+00, 1.0250e+01,\n",
            "          9.4384e+00, 1.0315e+01],\n",
            "         [9.6100e+00, 9.9137e+00, 8.4839e+00, 9.1794e+00, 1.0250e+01,\n",
            "          9.4375e+00, 1.0315e+01]],\n",
            "\n",
            "        [[4.3284e-03, 4.4479e-03, 3.8978e-03, 3.5942e-03, 4.1436e-03,\n",
            "          4.5219e-03, 4.9508e-03],\n",
            "         [9.6330e-03, 9.6697e-03, 8.5372e-03, 7.9462e-03, 9.2212e-03,\n",
            "          9.9354e-03, 1.0894e-02],\n",
            "         [2.1399e-03, 2.2258e-03, 1.9611e-03, 1.7757e-03, 2.0434e-03,\n",
            "          2.2633e-03, 2.4829e-03],\n",
            "         [1.2394e-02, 1.3077e-02, 1.1572e-02, 1.0260e-02, 1.1807e-02,\n",
            "          1.3298e-02, 1.4583e-02],\n",
            "         [1.6715e-02, 1.7795e-02, 1.5122e-02, 1.4209e-02, 1.6087e-02,\n",
            "          1.7563e-02, 1.9142e-02]],\n",
            "\n",
            "        [[3.2365e-05, 3.0292e-05, 2.8378e-05, 3.0207e-05, 3.8148e-05,\n",
            "          2.8183e-05, 3.4175e-05],\n",
            "         [6.6140e-05, 6.4998e-05, 5.9773e-05, 6.2998e-05, 7.9779e-05,\n",
            "          6.2632e-05, 6.9210e-05],\n",
            "         [2.9829e-05, 2.2256e-05, 2.4358e-05, 2.6095e-05, 3.3194e-05,\n",
            "          2.2072e-05, 3.3846e-05],\n",
            "         [1.0826e-04, 8.8114e-05, 9.4925e-05, 9.8608e-05, 1.2647e-04,\n",
            "          1.0038e-04, 1.2322e-04],\n",
            "         [4.8744e-04, 4.3204e-04, 4.1722e-04, 4.4650e-04, 5.6370e-04,\n",
            "          3.9873e-04, 5.2268e-04]]])\n"
          ]
        }
      ]
    },
    {
      "cell_type": "markdown",
      "source": [
        "## Convert into expected shape for next layer\n",
        "\n",
        "A MLP is employed to \"fix the dimensions\". We require the output shape to match the original $x$ input shape. This can be achieved by creating a MLP weight matrix of the appropriate shape. \n",
        "\n",
        "It has one dimension given by the number of tokens times the internal embedding dimension, the other by the number of original embedding features.\n",
        "\n",
        "Notice that the MLP will require a 2D tensor input -- therefore the heads' outputs need to be flattened. The MLP can then mix the results from the different heads (per token).\n",
        "\n",
        "Consequentially, the MLP will have a rather large weight matrix."
      ],
      "metadata": {
        "id": "-L_UzVeSampm"
      }
    },
    {
      "cell_type": "markdown",
      "source": [
        "# Create MLP weights\n",
        "The size of the MLP output needs to match the original $x$ input data matrix.\n",
        "This makes it possible to stack Attention blocks. Therefore, it has no free parameters."
      ],
      "metadata": {
        "id": "idGI0UqrhNmf"
      }
    },
    {
      "cell_type": "code",
      "source": [
        "combined_heads = outputs.flatten(1) # The heads are combined. The MLP will mix their results.\n",
        "\n",
        "mlp_weights = torch.rand([num_tokens*internal_embedding_dimensions, num_embedding_features])\n",
        "\n",
        "print(\"MLP size:\", mlp_weights.shape)\n",
        "result = combined_heads @ mlp_weights\n",
        "print(\"Resulting shape: \", result.shape)\n",
        "print(\"Resulting new input to next attention block:\", result)\n",
        "\n",
        "assert result.shape==x.shape"
      ],
      "metadata": {
        "id": "4wAF_IZsaZTS",
        "colab": {
          "base_uri": "https://localhost:8080/"
        },
        "outputId": "2965c5d9-b8d1-4f78-cb23-b51aa030f0bf"
      },
      "execution_count": 54,
      "outputs": [
        {
          "output_type": "stream",
          "name": "stdout",
          "text": [
            "MLP size: torch.Size([35, 9])\n",
            "Resulting shape:  torch.Size([5, 9])\n",
            "Resulting new input to next attention block: tensor([[1.7576e+00, 1.8026e+00, 1.8227e+00, 2.2038e+00, 2.0527e+00, 1.8187e+00,\n",
            "         1.9433e+00, 1.9176e+00, 2.1799e+00],\n",
            "        [1.1240e-01, 1.1512e-01, 1.0927e-01, 1.4089e-01, 1.3365e-01, 1.1986e-01,\n",
            "         1.1951e-01, 1.3182e-01, 1.4726e-01],\n",
            "        [1.6497e+02, 1.6104e+02, 1.6925e+02, 1.9725e+02, 1.8334e+02, 1.6981e+02,\n",
            "         1.8587e+02, 1.6648e+02, 1.8826e+02],\n",
            "        [1.3980e-01, 1.4915e-01, 1.4843e-01, 1.7759e-01, 1.7238e-01, 1.5090e-01,\n",
            "         1.4915e-01, 1.5942e-01, 1.8797e-01],\n",
            "        [2.1522e-03, 2.2283e-03, 1.8580e-03, 2.7391e-03, 2.5784e-03, 2.3168e-03,\n",
            "         2.0982e-03, 2.7979e-03, 3.0942e-03]])\n"
          ]
        }
      ]
    }
  ],
  "metadata": {
    "colab": {
      "provenance": [],
      "include_colab_link": true
    },
    "kernelspec": {
      "display_name": "torch",
      "language": "python",
      "name": "python3"
    },
    "language_info": {
      "codemirror_mode": {
        "name": "ipython",
        "version": 3
      },
      "file_extension": ".py",
      "mimetype": "text/x-python",
      "name": "python",
      "nbconvert_exporter": "python",
      "pygments_lexer": "ipython3",
      "version": "3.9.16"
    },
    "vscode": {
      "interpreter": {
        "hash": "cd15cf184ab1178a055b183ecb11f28577274e2cc0c29065c013381fe9f37159"
      }
    }
  },
  "nbformat": 4,
  "nbformat_minor": 0
}